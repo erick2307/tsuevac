{
    "cells": [
        {
            "cell_type": "markdown",
            "metadata": {},
            "source": [
                "# ABM Evacuation model"
            ]
        },
        {
            "cell_type": "code",
            "execution_count": 1,
            "metadata": {},
            "outputs": [
                {
                    "name": "stdout",
                    "output_type": "stream",
                    "text": [
                        "Import libraries from tsuevac\n",
                        "Setting default parameters from tsuevac.setup\n"
                    ]
                }
            ],
            "source": [
                "from tsuevac import *"
            ]
        },
        {
            "cell_type": "code",
            "execution_count": 2,
            "metadata": {},
            "outputs": [],
            "source": [
                "M = Model('arahama','drive',False,False)"
            ]
        },
        {
            "cell_type": "code",
            "execution_count": null,
            "metadata": {},
            "outputs": [],
            "source": []
        },
        {
            "cell_type": "code",
            "execution_count": null,
            "metadata": {},
            "outputs": [],
            "source": []
        },
        {
            "cell_type": "code",
            "execution_count": null,
            "metadata": {},
            "outputs": [],
            "source": [
                "# to erase a case\n",
                "import shutil\n",
                "from pathlib import Path\n",
                "\n",
                "CASE = 'arahama'\n",
                "p = Path(f'./cases/{CASE}')\n",
                "shutil.rmtree(p)"
            ]
        },
        {
            "cell_type": "code",
            "execution_count": null,
            "metadata": {},
            "outputs": [],
            "source": []
        },
        {
            "cell_type": "code",
            "execution_count": null,
            "metadata": {},
            "outputs": [],
            "source": []
        },
        {
            "cell_type": "markdown",
            "metadata": {},
            "source": [
                "## Do not erase this part"
            ]
        },
        {
            "cell_type": "code",
            "execution_count": null,
            "metadata": {},
            "outputs": [],
            "source": [
                "import env\n",
                "import geopandas as gpd\n",
                "import matplotlib.pyplot as plt\n",
                "%matplotlib inline\n",
                "\n",
                "aos_file = f'./data/arahama_aos.geojson'\n",
                "gdf = gpd.read_file(aos_file)\n",
                "bbox = gdf.total_bounds\n",
                "aos_bbox = {'north': bbox[3], 'south': bbox[1],\n",
                "    'east': bbox[2], 'west': bbox[0]}\n",
                "E = env.Environment(bbox=aos_bbox)\n",
                "E.e_project_network(crs=32654)\n",
                "E.e_get_network_projection(graph=E.e_Gp)\n",
                "fig,ax = E.e_plot()"
            ]
        },
        {
            "cell_type": "code",
            "execution_count": null,
            "metadata": {},
            "outputs": [],
            "source": [
                "# Adjust Area of Study Polygon\n",
                "import geopandas as gpd\n",
                "import folium\n",
                "from shapely.geometry import Polygon\n",
                "\n",
                "crs = 'epsg:4326'\n",
                "y_lats = [38.208400, 38.231377, 38.231377, 38.208400]\n",
                "x_lons = [140.945666, 140.945666, 140.995171, 140.995171]\n",
                "polygon_geom = Polygon(zip(x_lons, y_lats))\n",
                "aos = gpd.GeoDataFrame(index=[0], crs=crs, geometry=[polygon_geom])\n",
                "m = folium.Map([38.214146, 140.945666,],zoom_start=13, zoom_control=True, tiles='cartodbpositron')\n",
                "folium.GeoJson(aos).add_to(m)\n",
                "m"
            ]
        },
        {
            "cell_type": "code",
            "execution_count": null,
            "metadata": {},
            "outputs": [],
            "source": [
                "import env\n",
                "import geopandas as gpd\n",
                "import matplotlib.pyplot as plt\n",
                "%matplotlib inline\n",
                "\n",
                "bbox = aos.total_bounds\n",
                "aos_bbox = {'north': bbox[3], 'south': bbox[1],\n",
                "    'east': bbox[2], 'west': bbox[0]}\n",
                "E = env.Environment(bbox=aos_bbox)\n",
                "E.e_project_network(crs=32654)\n",
                "E.e_get_network_projection(graph=E.e_Gp)\n",
                "fig,ax = E.e_plot()"
            ]
        },
        {
            "cell_type": "code",
            "execution_count": null,
            "metadata": {},
            "outputs": [],
            "source": [
                "import osmnx as ox\n",
                "edge_attr = ox.graph_to_gdfs(E.e_G, nodes=False)"
            ]
        },
        {
            "cell_type": "code",
            "execution_count": null,
            "metadata": {},
            "outputs": [],
            "source": [
                "ox.stats.intersection_count(E.e_G,min_streets=3)\n",
                "ox.stats.streets_per_node_avg(E.e_G)"
            ]
        },
        {
            "cell_type": "code",
            "execution_count": null,
            "metadata": {},
            "outputs": [],
            "source": [
                "#start a case\n",
                "C = Model(hospitals=0,ambulances=4,injuries=3000,\n",
                "          saveplot=True,width=10,height=10,dpi=100,labels=False,\n",
                "          tsunami=True,verb=False)"
            ]
        },
        {
            "cell_type": "code",
            "execution_count": null,
            "metadata": {},
            "outputs": [],
            "source": [
                "#run the case\n",
                "C.go(sim_time=1*3600,saveplot=True,width=10,height=10,\n",
                "     dpi=100,video=True,fps=1,verb=False)"
            ]
        }
    ],
    "metadata": {
        "interpreter": {
            "hash": "dca0ade3e726a953b501b15e8e990130d2b7799f14cfd9f4271676035ebe5511"
        },
        "kernelspec": {
            "display_name": "Python 3.7.7 64-bit ('base': conda)",
            "name": "python3"
        },
        "language_info": {
            "codemirror_mode": {
                "name": "ipython",
                "version": 3
            },
            "file_extension": ".py",
            "mimetype": "text/x-python",
            "name": "python",
            "nbconvert_exporter": "python",
            "pygments_lexer": "ipython3",
            "version": "3.9.7"
        },
        "orig_nbformat": 4
    },
    "nbformat": 4,
    "nbformat_minor": 2
}

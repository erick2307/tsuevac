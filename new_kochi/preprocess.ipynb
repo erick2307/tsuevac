{
 "cells": [
  {
   "cell_type": "markdown",
   "metadata": {},
   "source": [
    "# Pre process"
   ]
  },
  {
   "cell_type": "code",
   "execution_count": 1,
   "metadata": {},
   "outputs": [],
   "source": [
    "import getPopulation as gp\n",
    "import preProcess as pp\n",
    "import pandas as pd\n",
    "import geopandas as gpd\n",
    "import numpy as np\n",
    "\n",
    "area={'north': 33.58, 'south': 33.53,'east': 133.58, 'west': 133.52}\n",
    "\n",
    "#Get Population in the Area of Study\n",
    "bbox = pp.createBoundingBox(area=area)\n",
    "aos = gpd.GeoSeries([bbox]).to_json()\n",
    "pop = gp.getPopulationArea(39,aos=aos,crs=6690)    \n",
    "#Create an agentsdb\n",
    "agentsdb = np.zeros((pop.TotalPop.sum(),5)) #columns=[\"age\",\"gender\",\"hhType\",\"hhId\",\"Node\"])\n",
    "\n",
    "for i,g in enumerate(pop.geometry.to_list()):\n",
    "    agentsdb = pp.appendAgents(agentsdb,pop=pop,index=i,poly=g)\n",
    "\n",
    "last = np.trim_zeros(agentsdb[:,4],'b').shape[0]\n",
    "agentsdb = agentsdb[:last,:]\n",
    "np.savetxt(\"./data/agentsdb.csv\", agentsdb, delimiter=\",\", header=\"age,gender,hhType,hhId,Node\",fmt=\"%d,%d,%d,%d,%d\")"
   ]
  },
  {
   "cell_type": "code",
   "execution_count": 2,
   "metadata": {},
   "outputs": [],
   "source": [
    "agents = np.loadtxt('./data/agentsdb.csv',delimiter=',')"
   ]
  },
  {
   "cell_type": "code",
   "execution_count": 1,
   "metadata": {},
   "outputs": [
    {
     "data": {
      "text/html": [
       "<div>\n",
       "<style scoped>\n",
       "    .dataframe tbody tr th:only-of-type {\n",
       "        vertical-align: middle;\n",
       "    }\n",
       "\n",
       "    .dataframe tbody tr th {\n",
       "        vertical-align: top;\n",
       "    }\n",
       "\n",
       "    .dataframe thead th {\n",
       "        text-align: right;\n",
       "    }\n",
       "</style>\n",
       "<table border=\"1\" class=\"dataframe\">\n",
       "  <thead>\n",
       "    <tr style=\"text-align: right;\">\n",
       "      <th></th>\n",
       "      <th># number</th>\n",
       "      <th>node1</th>\n",
       "      <th>node2</th>\n",
       "      <th>length</th>\n",
       "      <th>width</th>\n",
       "    </tr>\n",
       "  </thead>\n",
       "  <tbody>\n",
       "    <tr>\n",
       "      <th>0</th>\n",
       "      <td>0</td>\n",
       "      <td>0</td>\n",
       "      <td>1</td>\n",
       "      <td>4</td>\n",
       "      <td>3</td>\n",
       "    </tr>\n",
       "    <tr>\n",
       "      <th>1</th>\n",
       "      <td>1</td>\n",
       "      <td>1</td>\n",
       "      <td>2</td>\n",
       "      <td>19</td>\n",
       "      <td>3</td>\n",
       "    </tr>\n",
       "    <tr>\n",
       "      <th>2</th>\n",
       "      <td>2</td>\n",
       "      <td>2</td>\n",
       "      <td>3</td>\n",
       "      <td>174</td>\n",
       "      <td>3</td>\n",
       "    </tr>\n",
       "    <tr>\n",
       "      <th>3</th>\n",
       "      <td>3</td>\n",
       "      <td>3</td>\n",
       "      <td>4</td>\n",
       "      <td>53</td>\n",
       "      <td>3</td>\n",
       "    </tr>\n",
       "    <tr>\n",
       "      <th>4</th>\n",
       "      <td>4</td>\n",
       "      <td>4</td>\n",
       "      <td>5</td>\n",
       "      <td>44</td>\n",
       "      <td>3</td>\n",
       "    </tr>\n",
       "  </tbody>\n",
       "</table>\n",
       "</div>"
      ],
      "text/plain": [
       "   # number  node1  node2  length  width\n",
       "0         0      0      1       4      3\n",
       "1         1      1      2      19      3\n",
       "2         2      2      3     174      3\n",
       "3         3      3      4      53      3\n",
       "4         4      4      5      44      3"
      ]
     },
     "execution_count": 1,
     "metadata": {},
     "output_type": "execute_result"
    }
   ],
   "source": [
    "import pandas as pd\n",
    "\n",
    "link = pd.read_csv('./data/linksdb.csv')\n",
    "link.head()"
   ]
  },
  {
   "cell_type": "code",
   "execution_count": 3,
   "metadata": {},
   "outputs": [],
   "source": [
    "import numpy as np\n",
    "agentsdb = np.loadtxt('./data/agentsdb.csv',delimiter=',')\n",
    "nrows = agentsdb.shape[0]\n",
    "rand_ind = np.random.choice(nrows,size=300,replace=False)\n",
    "new_agentsdb = agentsdb[rand_ind,:]"
   ]
  },
  {
   "cell_type": "code",
   "execution_count": 10,
   "metadata": {},
   "outputs": [
    {
     "data": {
      "text/plain": [
       "1.0"
      ]
     },
     "execution_count": 10,
     "metadata": {},
     "output_type": "execute_result"
    }
   ],
   "source": [
    "np.savetxt(\"./data/nagentsdb.csv\", new_agentsdb, delimiter=\",\", header=\"age,gender,hhType,hhId,Node\",fmt=\"%d,%d,%d,%d,%d\")"
   ]
  },
  {
   "cell_type": "code",
   "execution_count": null,
   "metadata": {},
   "outputs": [],
   "source": [
    "#which nodes are within pop.geometry\n",
    "\n",
    "bbox = createBoundingBox(area)\n",
    "bbox_gdf = gpd.GeoSeries(bbox)\n",
    "bbox_gdf.set_crs('EPSG:4326',inplace=True)\n",
    "bbox_gdf = bbox_gdf.to_crs(crs)\n",
    "poly = shp.geometry.shape(bbox_gdf[0])\n",
    "shelters = getPrefShelters(pref_code,crs)\n",
    "gs = gpd.GeoSeries(shelters.geometry)\n",
    "sh_in_area = shelters[gs.within(poly)]\n",
    "return sh_in_area\n",
    "#disaggregate population to nodes\n"
   ]
  },
  {
   "cell_type": "code",
   "execution_count": 19,
   "metadata": {},
   "outputs": [],
   "source": [
    "# Download OSM data\n",
    "import os\n",
    "import osmnx as ox\n",
    "import numpy as np\n",
    "import pandas as pd\n",
    "import shapely as shp\n",
    "import geopandas as gpd\n",
    "import createLinksAndNodes as cln\n",
    "\n",
    "def createBoundingBox(area={'north': 33.58, 'south': 33.53,'east': 133.58, 'west': 133.52}):\n",
    "    #create a Bounding Box\n",
    "    #returns a shapely geometry\n",
    "    bbox = shp.geometry.box(area[\"west\"], area[\"south\"], area[\"east\"], area[\"north\"])\n",
    "    return bbox\n",
    "\n",
    "def createGraph(area={'north': 33.58, 'south': 33.53,'east': 133.58, 'west': 133.52},crs='EPSG:6690',plot=False):\n",
    "    #NEW AREA (Aug, 2021)\n",
    "    maprange = area # Degree 1.0 = 111km. 2.22km x 4.44km square.\n",
    "    # Obtain the roadmap data from OpenStreetMap by using OSMNX \n",
    "    G = ox.graph_from_bbox(maprange['north'], maprange['south'], maprange['east'], maprange['west'], network_type='drive',simplify=True)\n",
    "    G_projected = ox.project_graph(G,to_crs=crs)\n",
    "    # Simplify topology\n",
    "    G_simple = ox.simplification.consolidate_intersections(G_projected, tolerance=10, rebuild_graph=True, dead_ends=False, reconnect_edges=True)\n",
    "    # save the OSM data as Geopackage\n",
    "    ox.io.save_graph_geopackage(G_simple)\n",
    "    print(\"The graph was saved as 'graph.gpkg'!\")\n",
    "    # Draw a map\n",
    "    if plot:\n",
    "        ox.plot_graph(G_simple,bgcolor='white',node_color='red',edge_color='black')\n",
    "    # Create edges file\n",
    "    edges = gpd.read_file('./data/graph.gpkg',layer='edges')\n",
    "    edges.to_file('./data/edges.shp')\n",
    "    print('The edges file was saved as ESRI shapefile')\n",
    "    #create database of links and edges\n",
    "    cln.main()\n",
    "    print('Database created!')\n",
    "    if plot:\n",
    "        cln.plotNetwork()\n",
    "    return G_simple\n",
    "\n",
    "def getPrefShelters(pref_code = 39,crs='EPSG:6690',filter=True):\n",
    "    rootfolder = \"/Users/erick/ReGID Dropbox/zDATA\"\n",
    "    datafolder = u\"PAREA_Hazard_2018/data/世界測地系\"\n",
    "    areafile = f\"{pref_code:02d}/PHRP{pref_code:02d}18.shp\"\n",
    "    path = os.path.join(rootfolder, datafolder, areafile)\n",
    "    shelters_gc = gpd.read_file(path, encoding='shift_jis')\n",
    "    shelters = shelters_gc.to_crs(crs)\n",
    "    if filter:\n",
    "        shelters = shelters[shelters['TUNAMI']==1]\n",
    "    return shelters\n",
    "\n",
    "def getAreaShelters(area={'north': 33.58, 'south': 33.53,'east': 133.58, 'west': 133.52},pref_code=39,crs='EPSG:6690'):\n",
    "    bbox = createBoundingBox(area)\n",
    "    bbox_gdf = gpd.GeoSeries(bbox)\n",
    "    bbox_gdf.set_crs('EPSG:4326',inplace=True)\n",
    "    bbox_gdf = bbox_gdf.to_crs(crs)\n",
    "    poly = shp.geometry.shape(bbox_gdf[0])\n",
    "    shelters = getPrefShelters(pref_code,crs)\n",
    "    gs = gpd.GeoSeries(shelters.geometry)\n",
    "    sh_in_area = shelters[gs.within(poly)]\n",
    "    return sh_in_area\n",
    "\n",
    "def fixLinksDBAndNodesDB(shelters):\n",
    "    #fixes the nodesdb to add shelters as nodes\n",
    "    #requires 'shelters' geodataframe\n",
    "    #the 'nodesdb.csv' was created with 'createLinksAndNodes.py'\n",
    "    nodesnp = np.loadtxt('./data/nodesdb0.csv',delimiter=',')\n",
    "    linksdb = np.loadtxt('./data/linksdb0.csv',delimiter=',')\n",
    "    #create a numpy array for nodesdb\n",
    "    nodesdb= np.zeros((nodesnp.shape[0] , nodesnp.shape[1]+2))\n",
    "    nodesdb[:,:3] = nodesnp[:,:3]\n",
    "    #create a pandas then numpy for shelter coords\n",
    "    sheltersdb = pd.DataFrame()\n",
    "    for i,g in zip(shelters.index,shelters['geometry']):\n",
    "        x,y=g.coords.xy\n",
    "        sheltersdb.loc[i,'x'],sheltersdb.loc[i,'y']=x[0],y[0]\n",
    "    sheltersdb = sheltersdb.to_numpy()\n",
    "    for i in range(sheltersdb.shape[0]):\n",
    "        x0, y0 = sheltersdb[i,:]\n",
    "        dist= ( (nodesnp[:,1] - x0)**2 + (nodesnp[:,2] - y0)**2 )**0.5\n",
    "        indx= np.argmin(dist)\n",
    "        nodesdb[indx,3] = 1\n",
    "    nodesdb[:,4] += 1\n",
    "    np.savetxt(\"./data/nodesdb.csv\", nodesdb, delimiter=\",\", header=\"number,coord_x,coord_y,evacuation,reward\",fmt=\"%d,%.6f,%.6f,%d,%d\" )\n",
    "    np.savetxt(\"./data/linksdb.csv\", linksdb, delimiter=\",\", header=\"number,node1,node2,length,width\",fmt=\"%d,%d,%d,%d,%d\" )\n",
    "    return\n",
    "    "
   ]
  },
  {
   "cell_type": "code",
   "execution_count": 20,
   "metadata": {},
   "outputs": [
    {
     "name": "stdout",
     "output_type": "stream",
     "text": [
      "The graph was saved as 'graph.gpkg'!\n",
      "The edges file was saved as ESRI shapefile\n",
      "Database created!\n"
     ]
    }
   ],
   "source": [
    "# Set Prefecture / Area of Interest / working CRS\n",
    "pref_code = 39\n",
    "area = {'north': 33.58, 'south': 33.53,'east': 133.58, 'west': 133.52}\n",
    "crs = 'EPSG:6690'\n",
    "# Create a Graph object\n",
    "G = createGraph(area=area,crs=crs,plot=False)\n",
    "# Create a Shelter GeoDataframe\n",
    "shelters = getAreaShelters(area=area,pref_code=pref_code,crs=crs)\n",
    "# Fix the nodesdb\n",
    "fixLinksDBAndNodesDB(shelters)"
   ]
  },
  {
   "cell_type": "code",
   "execution_count": 31,
   "metadata": {},
   "outputs": [
    {
     "data": {
      "text/html": [
       "<div>\n",
       "<style scoped>\n",
       "    .dataframe tbody tr th:only-of-type {\n",
       "        vertical-align: middle;\n",
       "    }\n",
       "\n",
       "    .dataframe tbody tr th {\n",
       "        vertical-align: top;\n",
       "    }\n",
       "\n",
       "    .dataframe thead th {\n",
       "        text-align: right;\n",
       "    }\n",
       "</style>\n",
       "<table border=\"1\" class=\"dataframe\">\n",
       "  <thead>\n",
       "    <tr style=\"text-align: right;\">\n",
       "      <th></th>\n",
       "      <th>0</th>\n",
       "      <th>1</th>\n",
       "      <th>2</th>\n",
       "      <th>3</th>\n",
       "      <th>4</th>\n",
       "      <th>5</th>\n",
       "      <th>6</th>\n",
       "      <th>7</th>\n",
       "      <th>8</th>\n",
       "      <th>9</th>\n",
       "      <th>10</th>\n",
       "      <th>11</th>\n",
       "      <th>12</th>\n",
       "      <th>13</th>\n",
       "      <th>14</th>\n",
       "    </tr>\n",
       "  </thead>\n",
       "  <tbody>\n",
       "    <tr>\n",
       "      <th>0</th>\n",
       "      <td>0</td>\n",
       "      <td>6</td>\n",
       "      <td>0</td>\n",
       "      <td>16</td>\n",
       "      <td>22</td>\n",
       "      <td>15</td>\n",
       "      <td>21</td>\n",
       "      <td>29</td>\n",
       "      <td>0</td>\n",
       "      <td>0</td>\n",
       "      <td>0</td>\n",
       "      <td>0</td>\n",
       "      <td>0</td>\n",
       "      <td>0</td>\n",
       "      <td>0</td>\n",
       "    </tr>\n",
       "    <tr>\n",
       "      <th>1</th>\n",
       "      <td>1</td>\n",
       "      <td>2</td>\n",
       "      <td>1</td>\n",
       "      <td>0</td>\n",
       "      <td>0</td>\n",
       "      <td>0</td>\n",
       "      <td>0</td>\n",
       "      <td>0</td>\n",
       "      <td>0</td>\n",
       "      <td>0</td>\n",
       "      <td>0</td>\n",
       "      <td>0</td>\n",
       "      <td>0</td>\n",
       "      <td>0</td>\n",
       "      <td>0</td>\n",
       "    </tr>\n",
       "    <tr>\n",
       "      <th>2</th>\n",
       "      <td>2</td>\n",
       "      <td>2</td>\n",
       "      <td>2</td>\n",
       "      <td>1</td>\n",
       "      <td>0</td>\n",
       "      <td>0</td>\n",
       "      <td>0</td>\n",
       "      <td>0</td>\n",
       "      <td>0</td>\n",
       "      <td>0</td>\n",
       "      <td>0</td>\n",
       "      <td>0</td>\n",
       "      <td>0</td>\n",
       "      <td>0</td>\n",
       "      <td>0</td>\n",
       "    </tr>\n",
       "    <tr>\n",
       "      <th>3</th>\n",
       "      <td>3</td>\n",
       "      <td>2</td>\n",
       "      <td>3</td>\n",
       "      <td>2</td>\n",
       "      <td>0</td>\n",
       "      <td>0</td>\n",
       "      <td>0</td>\n",
       "      <td>0</td>\n",
       "      <td>0</td>\n",
       "      <td>0</td>\n",
       "      <td>0</td>\n",
       "      <td>0</td>\n",
       "      <td>0</td>\n",
       "      <td>0</td>\n",
       "      <td>0</td>\n",
       "    </tr>\n",
       "    <tr>\n",
       "      <th>4</th>\n",
       "      <td>4</td>\n",
       "      <td>2</td>\n",
       "      <td>4</td>\n",
       "      <td>3</td>\n",
       "      <td>0</td>\n",
       "      <td>0</td>\n",
       "      <td>0</td>\n",
       "      <td>0</td>\n",
       "      <td>0</td>\n",
       "      <td>0</td>\n",
       "      <td>0</td>\n",
       "      <td>0</td>\n",
       "      <td>0</td>\n",
       "      <td>0</td>\n",
       "      <td>0</td>\n",
       "    </tr>\n",
       "  </tbody>\n",
       "</table>\n",
       "</div>"
      ],
      "text/plain": [
       "   0   1   2   3   4   5   6   7   8   9   10  11  12  13  14\n",
       "0   0   6   0  16  22  15  21  29   0   0   0   0   0   0   0\n",
       "1   1   2   1   0   0   0   0   0   0   0   0   0   0   0   0\n",
       "2   2   2   2   1   0   0   0   0   0   0   0   0   0   0   0\n",
       "3   3   2   3   2   0   0   0   0   0   0   0   0   0   0   0\n",
       "4   4   2   4   3   0   0   0   0   0   0   0   0   0   0   0"
      ]
     },
     "execution_count": 31,
     "metadata": {},
     "output_type": "execute_result"
    }
   ],
   "source": [
    "linkdsb = pd.read_csv('./data/actionsdb.csv',header=None)\n",
    "linkdsb.head()"
   ]
  },
  {
   "cell_type": "code",
   "execution_count": 33,
   "metadata": {},
   "outputs": [
    {
     "data": {
      "text/html": [
       "<div>\n",
       "<style scoped>\n",
       "    .dataframe tbody tr th:only-of-type {\n",
       "        vertical-align: middle;\n",
       "    }\n",
       "\n",
       "    .dataframe tbody tr th {\n",
       "        vertical-align: top;\n",
       "    }\n",
       "\n",
       "    .dataframe thead th {\n",
       "        text-align: right;\n",
       "    }\n",
       "</style>\n",
       "<table border=\"1\" class=\"dataframe\">\n",
       "  <thead>\n",
       "    <tr style=\"text-align: right;\">\n",
       "      <th></th>\n",
       "      <th>0</th>\n",
       "      <th>1</th>\n",
       "      <th>2</th>\n",
       "      <th>3</th>\n",
       "      <th>4</th>\n",
       "      <th>5</th>\n",
       "      <th>6</th>\n",
       "      <th>7</th>\n",
       "      <th>8</th>\n",
       "      <th>9</th>\n",
       "      <th>10</th>\n",
       "      <th>11</th>\n",
       "      <th>12</th>\n",
       "      <th>13</th>\n",
       "      <th>14</th>\n",
       "    </tr>\n",
       "  </thead>\n",
       "  <tbody>\n",
       "    <tr>\n",
       "      <th>3106</th>\n",
       "      <td>3106</td>\n",
       "      <td>11</td>\n",
       "      <td>4738</td>\n",
       "      <td>4765</td>\n",
       "      <td>4780</td>\n",
       "      <td>4788</td>\n",
       "      <td>4792</td>\n",
       "      <td>3235</td>\n",
       "      <td>4779</td>\n",
       "      <td>4808</td>\n",
       "      <td>4813</td>\n",
       "      <td>4816</td>\n",
       "      <td>4820</td>\n",
       "      <td>0</td>\n",
       "      <td>0</td>\n",
       "    </tr>\n",
       "  </tbody>\n",
       "</table>\n",
       "</div>"
      ],
      "text/plain": [
       "        0   1     2     3     4     5     6     7     8     9     10    11  \\\n",
       "3106  3106  11  4738  4765  4780  4788  4792  3235  4779  4808  4813  4816   \n",
       "\n",
       "        12  13  14  \n",
       "3106  4820   0   0  "
      ]
     },
     "execution_count": 33,
     "metadata": {},
     "output_type": "execute_result"
    }
   ],
   "source": [
    "linkdsb[linkdsb[11]!=0]"
   ]
  },
  {
   "cell_type": "code",
   "execution_count": 28,
   "metadata": {},
   "outputs": [
    {
     "data": {
      "text/html": [
       "<div>\n",
       "<style scoped>\n",
       "    .dataframe tbody tr th:only-of-type {\n",
       "        vertical-align: middle;\n",
       "    }\n",
       "\n",
       "    .dataframe tbody tr th {\n",
       "        vertical-align: top;\n",
       "    }\n",
       "\n",
       "    .dataframe thead th {\n",
       "        text-align: right;\n",
       "    }\n",
       "</style>\n",
       "<table border=\"1\" class=\"dataframe\">\n",
       "  <thead>\n",
       "    <tr style=\"text-align: right;\">\n",
       "      <th></th>\n",
       "      <th># number</th>\n",
       "      <th>node1</th>\n",
       "      <th>node2</th>\n",
       "      <th>length</th>\n",
       "      <th>width</th>\n",
       "    </tr>\n",
       "  </thead>\n",
       "  <tbody>\n",
       "    <tr>\n",
       "      <th>3235</th>\n",
       "      <td>3235</td>\n",
       "      <td>3105</td>\n",
       "      <td>3106</td>\n",
       "      <td>18</td>\n",
       "      <td>3</td>\n",
       "    </tr>\n",
       "    <tr>\n",
       "      <th>4779</th>\n",
       "      <td>4779</td>\n",
       "      <td>4588</td>\n",
       "      <td>3106</td>\n",
       "      <td>22</td>\n",
       "      <td>3</td>\n",
       "    </tr>\n",
       "    <tr>\n",
       "      <th>4808</th>\n",
       "      <td>4808</td>\n",
       "      <td>4615</td>\n",
       "      <td>3106</td>\n",
       "      <td>18</td>\n",
       "      <td>3</td>\n",
       "    </tr>\n",
       "    <tr>\n",
       "      <th>4813</th>\n",
       "      <td>4813</td>\n",
       "      <td>4620</td>\n",
       "      <td>3106</td>\n",
       "      <td>5</td>\n",
       "      <td>3</td>\n",
       "    </tr>\n",
       "    <tr>\n",
       "      <th>4816</th>\n",
       "      <td>4816</td>\n",
       "      <td>4623</td>\n",
       "      <td>3106</td>\n",
       "      <td>22</td>\n",
       "      <td>3</td>\n",
       "    </tr>\n",
       "    <tr>\n",
       "      <th>4820</th>\n",
       "      <td>4820</td>\n",
       "      <td>4627</td>\n",
       "      <td>3106</td>\n",
       "      <td>9</td>\n",
       "      <td>3</td>\n",
       "    </tr>\n",
       "  </tbody>\n",
       "</table>\n",
       "</div>"
      ],
      "text/plain": [
       "      # number  node1  node2  length  width\n",
       "3235      3235   3105   3106      18      3\n",
       "4779      4779   4588   3106      22      3\n",
       "4808      4808   4615   3106      18      3\n",
       "4813      4813   4620   3106       5      3\n",
       "4816      4816   4623   3106      22      3\n",
       "4820      4820   4627   3106       9      3"
      ]
     },
     "execution_count": 28,
     "metadata": {},
     "output_type": "execute_result"
    }
   ],
   "source": [
    "linkdsb[linkdsb['node2']==3106]"
   ]
  },
  {
   "cell_type": "code",
   "execution_count": null,
   "metadata": {},
   "outputs": [],
   "source": [
    "import pandas as pd\n",
    "\n",
    "df = pd.read_csv(\"./data/edges.csv\")\n",
    "df.head()"
   ]
  },
  {
   "cell_type": "code",
   "execution_count": null,
   "metadata": {},
   "outputs": [],
   "source": [
    "ndf = df[['u','v','length','lanes']]\n",
    "ndf.head()"
   ]
  },
  {
   "cell_type": "code",
   "execution_count": null,
   "metadata": {},
   "outputs": [],
   "source": [
    "cdf = ndf.rename(columns={'u':'node1','v':'node2','length':'length','lanes':'width'})\n",
    "cdf.head()"
   ]
  },
  {
   "cell_type": "code",
   "execution_count": null,
   "metadata": {},
   "outputs": [],
   "source": [
    "cdf.width.fillna(0,inplace=True)\n",
    "cdf.head()"
   ]
  },
  {
   "cell_type": "code",
   "execution_count": null,
   "metadata": {},
   "outputs": [],
   "source": [
    "cdf['#number']=cdf.index"
   ]
  },
  {
   "cell_type": "code",
   "execution_count": null,
   "metadata": {},
   "outputs": [],
   "source": [
    "cdf.head()"
   ]
  },
  {
   "cell_type": "code",
   "execution_count": null,
   "metadata": {},
   "outputs": [],
   "source": [
    "cdf = cdf[['#number','node1','node2','length','width']]\n",
    "cdf.head()"
   ]
  },
  {
   "cell_type": "code",
   "execution_count": null,
   "metadata": {},
   "outputs": [],
   "source": [
    "int(cdf.width[4])"
   ]
  },
  {
   "cell_type": "code",
   "execution_count": null,
   "metadata": {},
   "outputs": [],
   "source": [
    "for i,j in enumerate(cdf.width):\n",
    "        try:\n",
    "                int(j)\n",
    "        except:\n",
    "                print(i,int(j[2]))"
   ]
  },
  {
   "cell_type": "code",
   "execution_count": null,
   "metadata": {},
   "outputs": [],
   "source": [
    "cdf['new_width']=[int(i[2]) for i in cdf.width]"
   ]
  },
  {
   "cell_type": "code",
   "execution_count": null,
   "metadata": {},
   "outputs": [],
   "source": [
    "# cdf = cdf.astype(int)\n",
    "# cdf.to_csv(\"./data/linksdb.csv\",index=False)\n"
   ]
  },
  {
   "cell_type": "code",
   "execution_count": null,
   "metadata": {},
   "outputs": [],
   "source": [
    "#!/usr/bin/env python3\n",
    "# -*- coding: utf-8 -*-\n",
    "\n",
    "import geopandas as gpd\n",
    "import pandas as pd\n",
    "import os\n",
    "\n",
    "pref = {1: u'北海道', 2: u'青森県', 3: u'岩手県', 4: u'宮城県', 5: u'秋田県',\n",
    "        6: u'山形県', 7: u'福島県', 8: u'茨城県', 9: u'栃木県', 10: u'群馬県',\n",
    "        11: u'埼玉県', 12: u'千葉県', 13: u'東京都', 14: u'神奈川県', 15: u'新潟県',\n",
    "        16: u'富山県', 17: u'石川県', 18: u'福井県', 19: u'山梨県', 20: u'長野県',\n",
    "        21: u'岐阜県', 22: u'静岡県', 23: u'愛知県', 24: u'三重県', 25: u'滋賀県',\n",
    "        26: u'京都府', 27: u'大阪府', 28: u'兵庫県', 29: u'奈良県', 30: u'和歌山県',\n",
    "        31: u'鳥取県', 32: u'島根県', 33: u'岡山県', 34: u'広島県', 35: u'山口県',\n",
    "        36: u'徳島県', 37: u'香川県', 38: u'愛媛県', 39: u'高知県', 40: u'福岡県',\n",
    "        41: u'佐賀県', 42: u'長崎県', 43: u'熊本県', 44: u'大分県', 45: u'宮崎県',\n",
    "        46: u'鹿児島県', 47: u'沖縄県'}\n",
    "pref_code = 39\n",
    "rootfolder = \"/Users/erick/ReGID Dropbox/zDATA\"\n",
    "# GetAreaCodes\n",
    "datafolder = u\"PAREA_Town_2018/Shape形式/Shape形式/世界測地系\"\n",
    "areafile = f\"{pref_code:02d}/A{pref_code:02d}24POL.shp\"\n",
    "path = os.path.join(rootfolder, datafolder, areafile)\n",
    "area = gpd.read_file(path, encoding='shift_jis')\n",
    "# GetPopulationData\n",
    "datafolder = u\"PAREA_StatAllforTown_2018/PAREA-Stat.Population\"\n",
    "headerfile = u\"ヘッダーファイル/JC0401S0000.csv\"\n",
    "popfile = f\"data/{pref_code:02d}/S{pref_code:02d}4JC0401S0000.csv\"\n",
    "pathfile = os.path.join(rootfolder, datafolder, popfile)\n",
    "pathheader = os.path.join(rootfolder, datafolder, headerfile) \n",
    "pop_h = pd.read_csv(pathheader)\n",
    "pop = pd.read_csv(pathfile, names=pop_h.columns)\n",
    "colnames={'行政コード':\"Val_GovCod\", '図形有無F':\"FigureF\", '分割合算F':\"DivRatioF\", '秘匿処理F':\"ConcealF\", 'リザーブ1':\"Reserve1\", 'リザーブ2':\"Reserve2\", '指標数':\"NoIndicators\", '総数(人口)':\"TotalPop\",'男(人口)':\"Male\", '女(人口)':\"Female\", '世帯数':\"NoHouseholds\", '面積(Ｋ㎡)':\"AreaKm2\", '人口密度(Ｋ㎡あたり人口)':\"PopDensity\"}\n",
    "pop.rename(columns=colnames,inplace=True)\n",
    "data = pd.merge(pop, area, on=\"Val_GovCod\")\n",
    "gdata = gpd.GeoDataFrame(data, geometry= data['geometry'], crs=\"EPSG:4326\")"
   ]
  },
  {
   "cell_type": "code",
   "execution_count": null,
   "metadata": {},
   "outputs": [],
   "source": [
    "gdata.head()"
   ]
  },
  {
   "cell_type": "code",
   "execution_count": null,
   "metadata": {},
   "outputs": [],
   "source": [
    "gdata.to_crs(6690,inplace=True)"
   ]
  },
  {
   "cell_type": "code",
   "execution_count": null,
   "metadata": {},
   "outputs": [],
   "source": [
    "gdata.crs"
   ]
  },
  {
   "cell_type": "code",
   "execution_count": null,
   "metadata": {},
   "outputs": [],
   "source": [
    "import geopandas as gpd\n",
    "import os\n",
    "\n",
    "gdf = gpd.read_file('../pre/AOS/aos.shp')\n",
    "gdf.to_crs(6690,inplace=True)\n",
    "gdf.crs\n",
    "# gdf_int = gpd.overlay(gdata,gdf,how='intersection')\n",
    "# ax = gdf_int.plot()\n",
    "# gdf.plot(ax=ax,facecolor='none',edgecolor='red')"
   ]
  },
  {
   "cell_type": "code",
   "execution_count": null,
   "metadata": {},
   "outputs": [],
   "source": [
    "gdf_int = gpd.overlay(gdata,gdf,how='intersection')\n",
    "ax = gdf_int.plot()\n",
    "gdf.plot(ax=ax,facecolor='none',edgecolor='red')"
   ]
  },
  {
   "cell_type": "code",
   "execution_count": null,
   "metadata": {},
   "outputs": [],
   "source": []
  }
 ],
 "metadata": {
  "interpreter": {
   "hash": "c09e8a0f69f7a95e1af6b9bb43a18e652bacb09966d703226980506da45d3b63"
  },
  "kernelspec": {
   "display_name": "Python 3.9.7 ('tsuevac_env')",
   "language": "python",
   "name": "python3"
  },
  "language_info": {
   "codemirror_mode": {
    "name": "ipython",
    "version": 3
   },
   "file_extension": ".py",
   "mimetype": "text/x-python",
   "name": "python",
   "nbconvert_exporter": "python",
   "pygments_lexer": "ipython3",
   "version": "3.9.7"
  },
  "orig_nbformat": 4
 },
 "nbformat": 4,
 "nbformat_minor": 2
}

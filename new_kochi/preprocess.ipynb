{
 "cells": [
  {
   "cell_type": "markdown",
   "metadata": {},
   "source": [
    "# Pre process"
   ]
  },
  {
   "cell_type": "code",
   "execution_count": 3,
   "metadata": {},
   "outputs": [
    {
     "ename": "ModuleNotFoundError",
     "evalue": "No module named '_gdal'",
     "output_type": "error",
     "traceback": [
      "\u001b[0;31m---------------------------------------------------------------------------\u001b[0m",
      "\u001b[0;31mImportError\u001b[0m                               Traceback (most recent call last)",
      "File \u001b[0;32m~/.miniconda3/envs/tsuevac_env/lib/python3.9/site-packages/osgeo/__init__.py:29\u001b[0m, in \u001b[0;36mswig_import_helper\u001b[0;34m()\u001b[0m\n\u001b[1;32m     28\u001b[0m \u001b[38;5;28;01mtry\u001b[39;00m:\n\u001b[0;32m---> 29\u001b[0m     \u001b[38;5;28;01mreturn\u001b[39;00m \u001b[43mimportlib\u001b[49m\u001b[38;5;241;43m.\u001b[39;49m\u001b[43mimport_module\u001b[49m\u001b[43m(\u001b[49m\u001b[43mmname\u001b[49m\u001b[43m)\u001b[49m\n\u001b[1;32m     30\u001b[0m \u001b[38;5;28;01mexcept\u001b[39;00m \u001b[38;5;167;01mImportError\u001b[39;00m:\n",
      "File \u001b[0;32m~/.miniconda3/envs/tsuevac_env/lib/python3.9/importlib/__init__.py:127\u001b[0m, in \u001b[0;36mimport_module\u001b[0;34m(name, package)\u001b[0m\n\u001b[1;32m    126\u001b[0m         level \u001b[38;5;241m+\u001b[39m\u001b[38;5;241m=\u001b[39m \u001b[38;5;241m1\u001b[39m\n\u001b[0;32m--> 127\u001b[0m \u001b[38;5;28;01mreturn\u001b[39;00m \u001b[43m_bootstrap\u001b[49m\u001b[38;5;241;43m.\u001b[39;49m\u001b[43m_gcd_import\u001b[49m\u001b[43m(\u001b[49m\u001b[43mname\u001b[49m\u001b[43m[\u001b[49m\u001b[43mlevel\u001b[49m\u001b[43m:\u001b[49m\u001b[43m]\u001b[49m\u001b[43m,\u001b[49m\u001b[43m \u001b[49m\u001b[43mpackage\u001b[49m\u001b[43m,\u001b[49m\u001b[43m \u001b[49m\u001b[43mlevel\u001b[49m\u001b[43m)\u001b[49m\n",
      "File \u001b[0;32m<frozen importlib._bootstrap>:1030\u001b[0m, in \u001b[0;36m_gcd_import\u001b[0;34m(name, package, level)\u001b[0m\n",
      "File \u001b[0;32m<frozen importlib._bootstrap>:1007\u001b[0m, in \u001b[0;36m_find_and_load\u001b[0;34m(name, import_)\u001b[0m\n",
      "File \u001b[0;32m<frozen importlib._bootstrap>:986\u001b[0m, in \u001b[0;36m_find_and_load_unlocked\u001b[0;34m(name, import_)\u001b[0m\n",
      "File \u001b[0;32m<frozen importlib._bootstrap>:666\u001b[0m, in \u001b[0;36m_load_unlocked\u001b[0;34m(spec)\u001b[0m\n",
      "File \u001b[0;32m<frozen importlib._bootstrap>:565\u001b[0m, in \u001b[0;36mmodule_from_spec\u001b[0;34m(spec)\u001b[0m\n",
      "File \u001b[0;32m<frozen importlib._bootstrap_external>:1173\u001b[0m, in \u001b[0;36mcreate_module\u001b[0;34m(self, spec)\u001b[0m\n",
      "File \u001b[0;32m<frozen importlib._bootstrap>:228\u001b[0m, in \u001b[0;36m_call_with_frames_removed\u001b[0;34m(f, *args, **kwds)\u001b[0m\n",
      "\u001b[0;31mImportError\u001b[0m: libpoppler.so.91: cannot open shared object file: No such file or directory",
      "\nDuring handling of the above exception, another exception occurred:\n",
      "\u001b[0;31mModuleNotFoundError\u001b[0m                       Traceback (most recent call last)",
      "Input \u001b[0;32mIn [3]\u001b[0m, in \u001b[0;36m<cell line: 2>\u001b[0;34m()\u001b[0m\n\u001b[1;32m      1\u001b[0m \u001b[38;5;28;01mimport\u001b[39;00m \u001b[38;5;21;01mgetPopulation\u001b[39;00m \u001b[38;5;28;01mas\u001b[39;00m \u001b[38;5;21;01mgp\u001b[39;00m\n\u001b[0;32m----> 2\u001b[0m \u001b[38;5;28;01mimport\u001b[39;00m \u001b[38;5;21;01mpreProcess\u001b[39;00m \u001b[38;5;28;01mas\u001b[39;00m \u001b[38;5;21;01mpp\u001b[39;00m\n\u001b[1;32m      3\u001b[0m \u001b[38;5;28;01mimport\u001b[39;00m \u001b[38;5;21;01mpandas\u001b[39;00m \u001b[38;5;28;01mas\u001b[39;00m \u001b[38;5;21;01mpd\u001b[39;00m\n\u001b[1;32m      4\u001b[0m \u001b[38;5;28;01mimport\u001b[39;00m \u001b[38;5;21;01mgeopandas\u001b[39;00m \u001b[38;5;28;01mas\u001b[39;00m \u001b[38;5;21;01mgpd\u001b[39;00m\n",
      "File \u001b[0;32m~/github/tsuevac/new_kochi/preProcess.py:9\u001b[0m, in \u001b[0;36m<module>\u001b[0;34m\u001b[0m\n\u001b[1;32m      7\u001b[0m \u001b[38;5;28;01mimport\u001b[39;00m \u001b[38;5;21;01mgeopandas\u001b[39;00m \u001b[38;5;28;01mas\u001b[39;00m \u001b[38;5;21;01mgpd\u001b[39;00m\n\u001b[1;32m      8\u001b[0m \u001b[38;5;28;01mimport\u001b[39;00m \u001b[38;5;21;01mgetPopulation\u001b[39;00m \u001b[38;5;28;01mas\u001b[39;00m \u001b[38;5;21;01mgp\u001b[39;00m\n\u001b[0;32m----> 9\u001b[0m \u001b[38;5;28;01mimport\u001b[39;00m \u001b[38;5;21;01mcreateLinksAndNodes\u001b[39;00m \u001b[38;5;28;01mas\u001b[39;00m \u001b[38;5;21;01mcln\u001b[39;00m\n\u001b[1;32m     10\u001b[0m \u001b[38;5;28;01mimport\u001b[39;00m \u001b[38;5;21;01msetActionsAndTransitions\u001b[39;00m \u001b[38;5;28;01mas\u001b[39;00m \u001b[38;5;21;01mactrans\u001b[39;00m\n\u001b[1;32m     13\u001b[0m \u001b[38;5;28;01mdef\u001b[39;00m \u001b[38;5;21mcreateBoundingBox\u001b[39m(area\u001b[38;5;241m=\u001b[39m{\u001b[38;5;124m'\u001b[39m\u001b[38;5;124mnorth\u001b[39m\u001b[38;5;124m'\u001b[39m: \u001b[38;5;241m33.58\u001b[39m, \u001b[38;5;124m'\u001b[39m\u001b[38;5;124msouth\u001b[39m\u001b[38;5;124m'\u001b[39m: \u001b[38;5;241m33.53\u001b[39m, \u001b[38;5;124m'\u001b[39m\u001b[38;5;124meast\u001b[39m\u001b[38;5;124m'\u001b[39m: \u001b[38;5;241m133.58\u001b[39m, \u001b[38;5;124m'\u001b[39m\u001b[38;5;124mwest\u001b[39m\u001b[38;5;124m'\u001b[39m: \u001b[38;5;241m133.52\u001b[39m}):\n\u001b[1;32m     14\u001b[0m     \u001b[38;5;66;03m# create a Bounding Box\u001b[39;00m\n\u001b[1;32m     15\u001b[0m     \u001b[38;5;66;03m# returns a shapely geometry\u001b[39;00m\n",
      "File \u001b[0;32m~/github/tsuevac/new_kochi/createLinksAndNodes.py:2\u001b[0m, in \u001b[0;36m<module>\u001b[0;34m\u001b[0m\n\u001b[1;32m      1\u001b[0m #!/usr/bin/env python3\n\u001b[0;32m----> 2\u001b[0m # -*- coding: utf-8 -*-\n\u001b[1;32m      3\u001b[0m from osgeo import ogr\n\u001b[1;32m      4\u001b[0m import numpy as np\n",
      "File \u001b[0;32m~/.miniconda3/envs/tsuevac_env/lib/python3.9/site-packages/osgeo/__init__.py:45\u001b[0m, in \u001b[0;36m<module>\u001b[0;34m\u001b[0m\n\u001b[1;32m     41\u001b[0m                 \u001b[38;5;28;01mraise\u001b[39;00m \u001b[38;5;167;01mImportError\u001b[39;00m(traceback_string \u001b[38;5;241m+\u001b[39m \u001b[38;5;124m'\u001b[39m\u001b[38;5;130;01m\\n\u001b[39;00m\u001b[38;5;124m'\u001b[39m \u001b[38;5;241m+\u001b[39m msg)\n\u001b[1;32m     42\u001b[0m         \u001b[38;5;28;01mreturn\u001b[39;00m importlib\u001b[38;5;241m.\u001b[39mimport_module(\u001b[38;5;124m'\u001b[39m\u001b[38;5;124m_gdal\u001b[39m\u001b[38;5;124m'\u001b[39m)\n\u001b[0;32m---> 45\u001b[0m _gdal \u001b[38;5;241m=\u001b[39m \u001b[43mswig_import_helper\u001b[49m\u001b[43m(\u001b[49m\u001b[43m)\u001b[49m\n\u001b[1;32m     46\u001b[0m \u001b[38;5;28;01mdel\u001b[39;00m swig_import_helper\n\u001b[1;32m     48\u001b[0m __version__ \u001b[38;5;241m=\u001b[39m _gdal\u001b[38;5;241m.\u001b[39m__version__ \u001b[38;5;241m=\u001b[39m _gdal\u001b[38;5;241m.\u001b[39mVersionInfo(\u001b[38;5;124m\"\u001b[39m\u001b[38;5;124mRELEASE_NAME\u001b[39m\u001b[38;5;124m\"\u001b[39m)\n",
      "File \u001b[0;32m~/.miniconda3/envs/tsuevac_env/lib/python3.9/site-packages/osgeo/__init__.py:42\u001b[0m, in \u001b[0;36mswig_import_helper\u001b[0;34m()\u001b[0m\n\u001b[1;32m     40\u001b[0m         traceback_string \u001b[38;5;241m=\u001b[39m \u001b[38;5;124m'\u001b[39m\u001b[38;5;124m'\u001b[39m\u001b[38;5;241m.\u001b[39mjoin(traceback\u001b[38;5;241m.\u001b[39mformat_exception(\u001b[38;5;241m*\u001b[39msys\u001b[38;5;241m.\u001b[39mexc_info()))\n\u001b[1;32m     41\u001b[0m         \u001b[38;5;28;01mraise\u001b[39;00m \u001b[38;5;167;01mImportError\u001b[39;00m(traceback_string \u001b[38;5;241m+\u001b[39m \u001b[38;5;124m'\u001b[39m\u001b[38;5;130;01m\\n\u001b[39;00m\u001b[38;5;124m'\u001b[39m \u001b[38;5;241m+\u001b[39m msg)\n\u001b[0;32m---> 42\u001b[0m \u001b[38;5;28;01mreturn\u001b[39;00m \u001b[43mimportlib\u001b[49m\u001b[38;5;241;43m.\u001b[39;49m\u001b[43mimport_module\u001b[49m\u001b[43m(\u001b[49m\u001b[38;5;124;43m'\u001b[39;49m\u001b[38;5;124;43m_gdal\u001b[39;49m\u001b[38;5;124;43m'\u001b[39;49m\u001b[43m)\u001b[49m\n",
      "File \u001b[0;32m~/.miniconda3/envs/tsuevac_env/lib/python3.9/importlib/__init__.py:127\u001b[0m, in \u001b[0;36mimport_module\u001b[0;34m(name, package)\u001b[0m\n\u001b[1;32m    125\u001b[0m             \u001b[38;5;28;01mbreak\u001b[39;00m\n\u001b[1;32m    126\u001b[0m         level \u001b[38;5;241m+\u001b[39m\u001b[38;5;241m=\u001b[39m \u001b[38;5;241m1\u001b[39m\n\u001b[0;32m--> 127\u001b[0m \u001b[38;5;28;01mreturn\u001b[39;00m \u001b[43m_bootstrap\u001b[49m\u001b[38;5;241;43m.\u001b[39;49m\u001b[43m_gcd_import\u001b[49m\u001b[43m(\u001b[49m\u001b[43mname\u001b[49m\u001b[43m[\u001b[49m\u001b[43mlevel\u001b[49m\u001b[43m:\u001b[49m\u001b[43m]\u001b[49m\u001b[43m,\u001b[49m\u001b[43m \u001b[49m\u001b[43mpackage\u001b[49m\u001b[43m,\u001b[49m\u001b[43m \u001b[49m\u001b[43mlevel\u001b[49m\u001b[43m)\u001b[49m\n",
      "\u001b[0;31mModuleNotFoundError\u001b[0m: No module named '_gdal'"
     ]
    }
   ],
   "source": [
    "import getPopulation as gp\n",
    "import preProcess as pp\n",
    "import pandas as pd\n",
    "import geopandas as gpd\n",
    "import numpy as np\n",
    "\n",
    "#PARAMETERS\n",
    "pref=39\n",
    "area={'north': 33.58, 'south': 33.53,'east': 133.58, 'west': 133.52}\n",
    "crs=6690\n",
    "\n",
    "#Get Population in the Area of Study\n",
    "bbox = pp.createBoundingBox(area=area)\n",
    "aos = gpd.GeoSeries([bbox]).to_json()\n",
    "pop = gp.getPopulationArea(pref,aos=aos,crs=crs)\n",
    "\n",
    "#Create an agentsdb\n",
    "agentsdb = np.zeros((pop.TotalPop.sum(),5)) #columns=[\"age\",\"gender\",\"hhType\",\"hhId\",\"Node\"])\n",
    "\n",
    "for i,g in enumerate(pop.geometry.to_list()):\n",
    "    agentsdb = pp.appendAgents(agentsdb,pop=pop,index=i,poly=g)\n",
    "\n",
    "last = np.trim_zeros(agentsdb[:,4],'b').shape[0]\n",
    "agentsdb = agentsdb[:last,:]\n",
    "np.savetxt(\"./data/agentsdb.csv\", agentsdb, delimiter=\",\", header=\"age,gender,hhType,hhId,Node\",fmt=\"%d,%d,%d,%d,%d\")"
   ]
  },
  {
   "cell_type": "code",
   "execution_count": null,
   "metadata": {},
   "outputs": [],
   "source": []
  },
  {
   "cell_type": "code",
   "execution_count": 2,
   "metadata": {},
   "outputs": [],
   "source": [
    "agents = np.loadtxt('./data/agentsdb.csv',delimiter=',')"
   ]
  },
  {
   "cell_type": "code",
   "execution_count": 1,
   "metadata": {},
   "outputs": [
    {
     "data": {
      "text/html": [
       "<div>\n",
       "<style scoped>\n",
       "    .dataframe tbody tr th:only-of-type {\n",
       "        vertical-align: middle;\n",
       "    }\n",
       "\n",
       "    .dataframe tbody tr th {\n",
       "        vertical-align: top;\n",
       "    }\n",
       "\n",
       "    .dataframe thead th {\n",
       "        text-align: right;\n",
       "    }\n",
       "</style>\n",
       "<table border=\"1\" class=\"dataframe\">\n",
       "  <thead>\n",
       "    <tr style=\"text-align: right;\">\n",
       "      <th></th>\n",
       "      <th># number</th>\n",
       "      <th>node1</th>\n",
       "      <th>node2</th>\n",
       "      <th>length</th>\n",
       "      <th>width</th>\n",
       "    </tr>\n",
       "  </thead>\n",
       "  <tbody>\n",
       "    <tr>\n",
       "      <th>0</th>\n",
       "      <td>0</td>\n",
       "      <td>0</td>\n",
       "      <td>1</td>\n",
       "      <td>4</td>\n",
       "      <td>3</td>\n",
       "    </tr>\n",
       "    <tr>\n",
       "      <th>1</th>\n",
       "      <td>1</td>\n",
       "      <td>1</td>\n",
       "      <td>2</td>\n",
       "      <td>19</td>\n",
       "      <td>3</td>\n",
       "    </tr>\n",
       "    <tr>\n",
       "      <th>2</th>\n",
       "      <td>2</td>\n",
       "      <td>2</td>\n",
       "      <td>3</td>\n",
       "      <td>174</td>\n",
       "      <td>3</td>\n",
       "    </tr>\n",
       "    <tr>\n",
       "      <th>3</th>\n",
       "      <td>3</td>\n",
       "      <td>3</td>\n",
       "      <td>4</td>\n",
       "      <td>53</td>\n",
       "      <td>3</td>\n",
       "    </tr>\n",
       "    <tr>\n",
       "      <th>4</th>\n",
       "      <td>4</td>\n",
       "      <td>4</td>\n",
       "      <td>5</td>\n",
       "      <td>44</td>\n",
       "      <td>3</td>\n",
       "    </tr>\n",
       "  </tbody>\n",
       "</table>\n",
       "</div>"
      ],
      "text/plain": [
       "   # number  node1  node2  length  width\n",
       "0         0      0      1       4      3\n",
       "1         1      1      2      19      3\n",
       "2         2      2      3     174      3\n",
       "3         3      3      4      53      3\n",
       "4         4      4      5      44      3"
      ]
     },
     "execution_count": 1,
     "metadata": {},
     "output_type": "execute_result"
    }
   ],
   "source": [
    "import pandas as pd\n",
    "\n",
    "link = pd.read_csv('./data/linksdb.csv')\n",
    "link.head()"
   ]
  },
  {
   "cell_type": "code",
   "execution_count": 3,
   "metadata": {},
   "outputs": [],
   "source": [
    "import numpy as np\n",
    "agentsdb = np.loadtxt('./data/agentsdb.csv',delimiter=',')\n",
    "nrows = agentsdb.shape[0]\n",
    "rand_ind = np.random.choice(nrows,size=300,replace=False)\n",
    "new_agentsdb = agentsdb[rand_ind,:]"
   ]
  },
  {
   "cell_type": "code",
   "execution_count": 10,
   "metadata": {},
   "outputs": [
    {
     "data": {
      "text/plain": [
       "1.0"
      ]
     },
     "execution_count": 10,
     "metadata": {},
     "output_type": "execute_result"
    }
   ],
   "source": [
    "np.savetxt(\"./data/nagentsdb.csv\", new_agentsdb, delimiter=\",\", header=\"age,gender,hhType,hhId,Node\",fmt=\"%d,%d,%d,%d,%d\")"
   ]
  },
  {
   "cell_type": "code",
   "execution_count": null,
   "metadata": {},
   "outputs": [],
   "source": [
    "#which nodes are within pop.geometry\n",
    "\n",
    "bbox = createBoundingBox(area)\n",
    "bbox_gdf = gpd.GeoSeries(bbox)\n",
    "bbox_gdf.set_crs('EPSG:4326',inplace=True)\n",
    "bbox_gdf = bbox_gdf.to_crs(crs)\n",
    "poly = shp.geometry.shape(bbox_gdf[0])\n",
    "shelters = getPrefShelters(pref_code,crs)\n",
    "gs = gpd.GeoSeries(shelters.geometry)\n",
    "sh_in_area = shelters[gs.within(poly)]\n",
    "return sh_in_area\n",
    "#disaggregate population to nodes\n"
   ]
  },
  {
   "cell_type": "code",
   "execution_count": 19,
   "metadata": {},
   "outputs": [],
   "source": [
    "# Download OSM data\n",
    "import os\n",
    "import osmnx as ox\n",
    "import numpy as np\n",
    "import pandas as pd\n",
    "import shapely as shp\n",
    "import geopandas as gpd\n",
    "import createLinksAndNodes as cln\n",
    "\n",
    "def createBoundingBox(area={'north': 33.58, 'south': 33.53,'east': 133.58, 'west': 133.52}):\n",
    "    #create a Bounding Box\n",
    "    #returns a shapely geometry\n",
    "    bbox = shp.geometry.box(area[\"west\"], area[\"south\"], area[\"east\"], area[\"north\"])\n",
    "    return bbox\n",
    "\n",
    "def createGraph(area={'north': 33.58, 'south': 33.53,'east': 133.58, 'west': 133.52},crs='EPSG:6690',plot=False):\n",
    "    #NEW AREA (Aug, 2021)\n",
    "    maprange = area # Degree 1.0 = 111km. 2.22km x 4.44km square.\n",
    "    # Obtain the roadmap data from OpenStreetMap by using OSMNX \n",
    "    G = ox.graph_from_bbox(maprange['north'], maprange['south'], maprange['east'], maprange['west'], network_type='drive',simplify=True)\n",
    "    G_projected = ox.project_graph(G,to_crs=crs)\n",
    "    # Simplify topology\n",
    "    G_simple = ox.simplification.consolidate_intersections(G_projected, tolerance=10, rebuild_graph=True, dead_ends=False, reconnect_edges=True)\n",
    "    # save the OSM data as Geopackage\n",
    "    ox.io.save_graph_geopackage(G_simple)\n",
    "    print(\"The graph was saved as 'graph.gpkg'!\")\n",
    "    # Draw a map\n",
    "    if plot:\n",
    "        ox.plot_graph(G_simple,bgcolor='white',node_color='red',edge_color='black')\n",
    "    # Create edges file\n",
    "    edges = gpd.read_file('./data/graph.gpkg',layer='edges')\n",
    "    edges.to_file('./data/edges.shp')\n",
    "    print('The edges file was saved as ESRI shapefile')\n",
    "    #create database of links and edges\n",
    "    cln.main()\n",
    "    print('Database created!')\n",
    "    if plot:\n",
    "        cln.plotNetwork()\n",
    "    return G_simple\n",
    "\n",
    "def getPrefShelters(pref_code = 39,crs='EPSG:6690',filter=True):\n",
    "    rootfolder = \"/Users/erick/ReGID Dropbox/zDATA\"\n",
    "    datafolder = u\"PAREA_Hazard_2018/data/世界測地系\"\n",
    "    areafile = f\"{pref_code:02d}/PHRP{pref_code:02d}18.shp\"\n",
    "    path = os.path.join(rootfolder, datafolder, areafile)\n",
    "    shelters_gc = gpd.read_file(path, encoding='shift_jis')\n",
    "    shelters = shelters_gc.to_crs(crs)\n",
    "    if filter:\n",
    "        shelters = shelters[shelters['TUNAMI']==1]\n",
    "    return shelters\n",
    "\n",
    "def getAreaShelters(area={'north': 33.58, 'south': 33.53,'east': 133.58, 'west': 133.52},pref_code=39,crs='EPSG:6690'):\n",
    "    bbox = createBoundingBox(area)\n",
    "    bbox_gdf = gpd.GeoSeries(bbox)\n",
    "    bbox_gdf.set_crs('EPSG:4326',inplace=True)\n",
    "    bbox_gdf = bbox_gdf.to_crs(crs)\n",
    "    poly = shp.geometry.shape(bbox_gdf[0])\n",
    "    shelters = getPrefShelters(pref_code,crs)\n",
    "    gs = gpd.GeoSeries(shelters.geometry)\n",
    "    sh_in_area = shelters[gs.within(poly)]\n",
    "    return sh_in_area\n",
    "\n",
    "def fixLinksDBAndNodesDB(shelters):\n",
    "    #fixes the nodesdb to add shelters as nodes\n",
    "    #requires 'shelters' geodataframe\n",
    "    #the 'nodesdb.csv' was created with 'createLinksAndNodes.py'\n",
    "    nodesnp = np.loadtxt('./data/nodesdb0.csv',delimiter=',')\n",
    "    linksdb = np.loadtxt('./data/linksdb0.csv',delimiter=',')\n",
    "    #create a numpy array for nodesdb\n",
    "    nodesdb= np.zeros((nodesnp.shape[0] , nodesnp.shape[1]+2))\n",
    "    nodesdb[:,:3] = nodesnp[:,:3]\n",
    "    #create a pandas then numpy for shelter coords\n",
    "    sheltersdb = pd.DataFrame()\n",
    "    for i,g in zip(shelters.index,shelters['geometry']):\n",
    "        x,y=g.coords.xy\n",
    "        sheltersdb.loc[i,'x'],sheltersdb.loc[i,'y']=x[0],y[0]\n",
    "    sheltersdb = sheltersdb.to_numpy()\n",
    "    for i in range(sheltersdb.shape[0]):\n",
    "        x0, y0 = sheltersdb[i,:]\n",
    "        dist= ( (nodesnp[:,1] - x0)**2 + (nodesnp[:,2] - y0)**2 )**0.5\n",
    "        indx= np.argmin(dist)\n",
    "        nodesdb[indx,3] = 1\n",
    "    nodesdb[:,4] += 1\n",
    "    np.savetxt(\"./data/nodesdb.csv\", nodesdb, delimiter=\",\", header=\"number,coord_x,coord_y,evacuation,reward\",fmt=\"%d,%.6f,%.6f,%d,%d\" )\n",
    "    np.savetxt(\"./data/linksdb.csv\", linksdb, delimiter=\",\", header=\"number,node1,node2,length,width\",fmt=\"%d,%d,%d,%d,%d\" )\n",
    "    return\n",
    "    "
   ]
  },
  {
   "cell_type": "code",
   "execution_count": 20,
   "metadata": {},
   "outputs": [
    {
     "name": "stdout",
     "output_type": "stream",
     "text": [
      "The graph was saved as 'graph.gpkg'!\n",
      "The edges file was saved as ESRI shapefile\n",
      "Database created!\n"
     ]
    }
   ],
   "source": [
    "# Set Prefecture / Area of Interest / working CRS\n",
    "pref_code = 39\n",
    "area = {'north': 33.58, 'south': 33.53,'east': 133.58, 'west': 133.52}\n",
    "crs = 'EPSG:6690'\n",
    "# Create a Graph object\n",
    "G = createGraph(area=area,crs=crs,plot=False)\n",
    "# Create a Shelter GeoDataframe\n",
    "shelters = getAreaShelters(area=area,pref_code=pref_code,crs=crs)\n",
    "# Fix the nodesdb\n",
    "fixLinksDBAndNodesDB(shelters)"
   ]
  },
  {
   "cell_type": "code",
   "execution_count": 31,
   "metadata": {},
   "outputs": [
    {
     "data": {
      "text/html": [
       "<div>\n",
       "<style scoped>\n",
       "    .dataframe tbody tr th:only-of-type {\n",
       "        vertical-align: middle;\n",
       "    }\n",
       "\n",
       "    .dataframe tbody tr th {\n",
       "        vertical-align: top;\n",
       "    }\n",
       "\n",
       "    .dataframe thead th {\n",
       "        text-align: right;\n",
       "    }\n",
       "</style>\n",
       "<table border=\"1\" class=\"dataframe\">\n",
       "  <thead>\n",
       "    <tr style=\"text-align: right;\">\n",
       "      <th></th>\n",
       "      <th>0</th>\n",
       "      <th>1</th>\n",
       "      <th>2</th>\n",
       "      <th>3</th>\n",
       "      <th>4</th>\n",
       "      <th>5</th>\n",
       "      <th>6</th>\n",
       "      <th>7</th>\n",
       "      <th>8</th>\n",
       "      <th>9</th>\n",
       "      <th>10</th>\n",
       "      <th>11</th>\n",
       "      <th>12</th>\n",
       "      <th>13</th>\n",
       "      <th>14</th>\n",
       "    </tr>\n",
       "  </thead>\n",
       "  <tbody>\n",
       "    <tr>\n",
       "      <th>0</th>\n",
       "      <td>0</td>\n",
       "      <td>6</td>\n",
       "      <td>0</td>\n",
       "      <td>16</td>\n",
       "      <td>22</td>\n",
       "      <td>15</td>\n",
       "      <td>21</td>\n",
       "      <td>29</td>\n",
       "      <td>0</td>\n",
       "      <td>0</td>\n",
       "      <td>0</td>\n",
       "      <td>0</td>\n",
       "      <td>0</td>\n",
       "      <td>0</td>\n",
       "      <td>0</td>\n",
       "    </tr>\n",
       "    <tr>\n",
       "      <th>1</th>\n",
       "      <td>1</td>\n",
       "      <td>2</td>\n",
       "      <td>1</td>\n",
       "      <td>0</td>\n",
       "      <td>0</td>\n",
       "      <td>0</td>\n",
       "      <td>0</td>\n",
       "      <td>0</td>\n",
       "      <td>0</td>\n",
       "      <td>0</td>\n",
       "      <td>0</td>\n",
       "      <td>0</td>\n",
       "      <td>0</td>\n",
       "      <td>0</td>\n",
       "      <td>0</td>\n",
       "    </tr>\n",
       "    <tr>\n",
       "      <th>2</th>\n",
       "      <td>2</td>\n",
       "      <td>2</td>\n",
       "      <td>2</td>\n",
       "      <td>1</td>\n",
       "      <td>0</td>\n",
       "      <td>0</td>\n",
       "      <td>0</td>\n",
       "      <td>0</td>\n",
       "      <td>0</td>\n",
       "      <td>0</td>\n",
       "      <td>0</td>\n",
       "      <td>0</td>\n",
       "      <td>0</td>\n",
       "      <td>0</td>\n",
       "      <td>0</td>\n",
       "    </tr>\n",
       "    <tr>\n",
       "      <th>3</th>\n",
       "      <td>3</td>\n",
       "      <td>2</td>\n",
       "      <td>3</td>\n",
       "      <td>2</td>\n",
       "      <td>0</td>\n",
       "      <td>0</td>\n",
       "      <td>0</td>\n",
       "      <td>0</td>\n",
       "      <td>0</td>\n",
       "      <td>0</td>\n",
       "      <td>0</td>\n",
       "      <td>0</td>\n",
       "      <td>0</td>\n",
       "      <td>0</td>\n",
       "      <td>0</td>\n",
       "    </tr>\n",
       "    <tr>\n",
       "      <th>4</th>\n",
       "      <td>4</td>\n",
       "      <td>2</td>\n",
       "      <td>4</td>\n",
       "      <td>3</td>\n",
       "      <td>0</td>\n",
       "      <td>0</td>\n",
       "      <td>0</td>\n",
       "      <td>0</td>\n",
       "      <td>0</td>\n",
       "      <td>0</td>\n",
       "      <td>0</td>\n",
       "      <td>0</td>\n",
       "      <td>0</td>\n",
       "      <td>0</td>\n",
       "      <td>0</td>\n",
       "    </tr>\n",
       "  </tbody>\n",
       "</table>\n",
       "</div>"
      ],
      "text/plain": [
       "   0   1   2   3   4   5   6   7   8   9   10  11  12  13  14\n",
       "0   0   6   0  16  22  15  21  29   0   0   0   0   0   0   0\n",
       "1   1   2   1   0   0   0   0   0   0   0   0   0   0   0   0\n",
       "2   2   2   2   1   0   0   0   0   0   0   0   0   0   0   0\n",
       "3   3   2   3   2   0   0   0   0   0   0   0   0   0   0   0\n",
       "4   4   2   4   3   0   0   0   0   0   0   0   0   0   0   0"
      ]
     },
     "execution_count": 31,
     "metadata": {},
     "output_type": "execute_result"
    }
   ],
   "source": [
    "linkdsb = pd.read_csv('./data/actionsdb.csv',header=None)\n",
    "linkdsb.head()"
   ]
  },
  {
   "cell_type": "code",
   "execution_count": 33,
   "metadata": {},
   "outputs": [
    {
     "data": {
      "text/html": [
       "<div>\n",
       "<style scoped>\n",
       "    .dataframe tbody tr th:only-of-type {\n",
       "        vertical-align: middle;\n",
       "    }\n",
       "\n",
       "    .dataframe tbody tr th {\n",
       "        vertical-align: top;\n",
       "    }\n",
       "\n",
       "    .dataframe thead th {\n",
       "        text-align: right;\n",
       "    }\n",
       "</style>\n",
       "<table border=\"1\" class=\"dataframe\">\n",
       "  <thead>\n",
       "    <tr style=\"text-align: right;\">\n",
       "      <th></th>\n",
       "      <th>0</th>\n",
       "      <th>1</th>\n",
       "      <th>2</th>\n",
       "      <th>3</th>\n",
       "      <th>4</th>\n",
       "      <th>5</th>\n",
       "      <th>6</th>\n",
       "      <th>7</th>\n",
       "      <th>8</th>\n",
       "      <th>9</th>\n",
       "      <th>10</th>\n",
       "      <th>11</th>\n",
       "      <th>12</th>\n",
       "      <th>13</th>\n",
       "      <th>14</th>\n",
       "    </tr>\n",
       "  </thead>\n",
       "  <tbody>\n",
       "    <tr>\n",
       "      <th>3106</th>\n",
       "      <td>3106</td>\n",
       "      <td>11</td>\n",
       "      <td>4738</td>\n",
       "      <td>4765</td>\n",
       "      <td>4780</td>\n",
       "      <td>4788</td>\n",
       "      <td>4792</td>\n",
       "      <td>3235</td>\n",
       "      <td>4779</td>\n",
       "      <td>4808</td>\n",
       "      <td>4813</td>\n",
       "      <td>4816</td>\n",
       "      <td>4820</td>\n",
       "      <td>0</td>\n",
       "      <td>0</td>\n",
       "    </tr>\n",
       "  </tbody>\n",
       "</table>\n",
       "</div>"
      ],
      "text/plain": [
       "        0   1     2     3     4     5     6     7     8     9     10    11  \\\n",
       "3106  3106  11  4738  4765  4780  4788  4792  3235  4779  4808  4813  4816   \n",
       "\n",
       "        12  13  14  \n",
       "3106  4820   0   0  "
      ]
     },
     "execution_count": 33,
     "metadata": {},
     "output_type": "execute_result"
    }
   ],
   "source": [
    "linkdsb[linkdsb[11]!=0]"
   ]
  },
  {
   "cell_type": "code",
   "execution_count": 28,
   "metadata": {},
   "outputs": [
    {
     "data": {
      "text/html": [
       "<div>\n",
       "<style scoped>\n",
       "    .dataframe tbody tr th:only-of-type {\n",
       "        vertical-align: middle;\n",
       "    }\n",
       "\n",
       "    .dataframe tbody tr th {\n",
       "        vertical-align: top;\n",
       "    }\n",
       "\n",
       "    .dataframe thead th {\n",
       "        text-align: right;\n",
       "    }\n",
       "</style>\n",
       "<table border=\"1\" class=\"dataframe\">\n",
       "  <thead>\n",
       "    <tr style=\"text-align: right;\">\n",
       "      <th></th>\n",
       "      <th># number</th>\n",
       "      <th>node1</th>\n",
       "      <th>node2</th>\n",
       "      <th>length</th>\n",
       "      <th>width</th>\n",
       "    </tr>\n",
       "  </thead>\n",
       "  <tbody>\n",
       "    <tr>\n",
       "      <th>3235</th>\n",
       "      <td>3235</td>\n",
       "      <td>3105</td>\n",
       "      <td>3106</td>\n",
       "      <td>18</td>\n",
       "      <td>3</td>\n",
       "    </tr>\n",
       "    <tr>\n",
       "      <th>4779</th>\n",
       "      <td>4779</td>\n",
       "      <td>4588</td>\n",
       "      <td>3106</td>\n",
       "      <td>22</td>\n",
       "      <td>3</td>\n",
       "    </tr>\n",
       "    <tr>\n",
       "      <th>4808</th>\n",
       "      <td>4808</td>\n",
       "      <td>4615</td>\n",
       "      <td>3106</td>\n",
       "      <td>18</td>\n",
       "      <td>3</td>\n",
       "    </tr>\n",
       "    <tr>\n",
       "      <th>4813</th>\n",
       "      <td>4813</td>\n",
       "      <td>4620</td>\n",
       "      <td>3106</td>\n",
       "      <td>5</td>\n",
       "      <td>3</td>\n",
       "    </tr>\n",
       "    <tr>\n",
       "      <th>4816</th>\n",
       "      <td>4816</td>\n",
       "      <td>4623</td>\n",
       "      <td>3106</td>\n",
       "      <td>22</td>\n",
       "      <td>3</td>\n",
       "    </tr>\n",
       "    <tr>\n",
       "      <th>4820</th>\n",
       "      <td>4820</td>\n",
       "      <td>4627</td>\n",
       "      <td>3106</td>\n",
       "      <td>9</td>\n",
       "      <td>3</td>\n",
       "    </tr>\n",
       "  </tbody>\n",
       "</table>\n",
       "</div>"
      ],
      "text/plain": [
       "      # number  node1  node2  length  width\n",
       "3235      3235   3105   3106      18      3\n",
       "4779      4779   4588   3106      22      3\n",
       "4808      4808   4615   3106      18      3\n",
       "4813      4813   4620   3106       5      3\n",
       "4816      4816   4623   3106      22      3\n",
       "4820      4820   4627   3106       9      3"
      ]
     },
     "execution_count": 28,
     "metadata": {},
     "output_type": "execute_result"
    }
   ],
   "source": [
    "linkdsb[linkdsb['node2']==3106]"
   ]
  },
  {
   "cell_type": "code",
   "execution_count": null,
   "metadata": {},
   "outputs": [],
   "source": [
    "import pandas as pd\n",
    "\n",
    "df = pd.read_csv(\"./data/edges.csv\")\n",
    "df.head()"
   ]
  },
  {
   "cell_type": "code",
   "execution_count": null,
   "metadata": {},
   "outputs": [],
   "source": [
    "ndf = df[['u','v','length','lanes']]\n",
    "ndf.head()"
   ]
  },
  {
   "cell_type": "code",
   "execution_count": null,
   "metadata": {},
   "outputs": [],
   "source": [
    "cdf = ndf.rename(columns={'u':'node1','v':'node2','length':'length','lanes':'width'})\n",
    "cdf.head()"
   ]
  },
  {
   "cell_type": "code",
   "execution_count": null,
   "metadata": {},
   "outputs": [],
   "source": [
    "cdf.width.fillna(0,inplace=True)\n",
    "cdf.head()"
   ]
  },
  {
   "cell_type": "code",
   "execution_count": null,
   "metadata": {},
   "outputs": [],
   "source": [
    "cdf['#number']=cdf.index"
   ]
  },
  {
   "cell_type": "code",
   "execution_count": null,
   "metadata": {},
   "outputs": [],
   "source": [
    "cdf.head()"
   ]
  },
  {
   "cell_type": "code",
   "execution_count": null,
   "metadata": {},
   "outputs": [],
   "source": [
    "cdf = cdf[['#number','node1','node2','length','width']]\n",
    "cdf.head()"
   ]
  },
  {
   "cell_type": "code",
   "execution_count": null,
   "metadata": {},
   "outputs": [],
   "source": [
    "int(cdf.width[4])"
   ]
  },
  {
   "cell_type": "code",
   "execution_count": null,
   "metadata": {},
   "outputs": [],
   "source": [
    "for i,j in enumerate(cdf.width):\n",
    "        try:\n",
    "                int(j)\n",
    "        except:\n",
    "                print(i,int(j[2]))"
   ]
  },
  {
   "cell_type": "code",
   "execution_count": null,
   "metadata": {},
   "outputs": [],
   "source": [
    "cdf['new_width']=[int(i[2]) for i in cdf.width]"
   ]
  },
  {
   "cell_type": "code",
   "execution_count": null,
   "metadata": {},
   "outputs": [],
   "source": [
    "# cdf = cdf.astype(int)\n",
    "# cdf.to_csv(\"./data/linksdb.csv\",index=False)\n"
   ]
  },
  {
   "cell_type": "code",
   "execution_count": null,
   "metadata": {},
   "outputs": [],
   "source": [
    "#!/usr/bin/env python3\n",
    "# -*- coding: utf-8 -*-\n",
    "\n",
    "import geopandas as gpd\n",
    "import pandas as pd\n",
    "import os\n",
    "\n",
    "pref = {1: u'北海道', 2: u'青森県', 3: u'岩手県', 4: u'宮城県', 5: u'秋田県',\n",
    "        6: u'山形県', 7: u'福島県', 8: u'茨城県', 9: u'栃木県', 10: u'群馬県',\n",
    "        11: u'埼玉県', 12: u'千葉県', 13: u'東京都', 14: u'神奈川県', 15: u'新潟県',\n",
    "        16: u'富山県', 17: u'石川県', 18: u'福井県', 19: u'山梨県', 20: u'長野県',\n",
    "        21: u'岐阜県', 22: u'静岡県', 23: u'愛知県', 24: u'三重県', 25: u'滋賀県',\n",
    "        26: u'京都府', 27: u'大阪府', 28: u'兵庫県', 29: u'奈良県', 30: u'和歌山県',\n",
    "        31: u'鳥取県', 32: u'島根県', 33: u'岡山県', 34: u'広島県', 35: u'山口県',\n",
    "        36: u'徳島県', 37: u'香川県', 38: u'愛媛県', 39: u'高知県', 40: u'福岡県',\n",
    "        41: u'佐賀県', 42: u'長崎県', 43: u'熊本県', 44: u'大分県', 45: u'宮崎県',\n",
    "        46: u'鹿児島県', 47: u'沖縄県'}\n",
    "pref_code = 39\n",
    "rootfolder = \"/Users/erick/ReGID Dropbox/zDATA\"\n",
    "# GetAreaCodes\n",
    "datafolder = u\"PAREA_Town_2018/Shape形式/Shape形式/世界測地系\"\n",
    "areafile = f\"{pref_code:02d}/A{pref_code:02d}24POL.shp\"\n",
    "path = os.path.join(rootfolder, datafolder, areafile)\n",
    "area = gpd.read_file(path, encoding='shift_jis')\n",
    "# GetPopulationData\n",
    "datafolder = u\"PAREA_StatAllforTown_2018/PAREA-Stat.Population\"\n",
    "headerfile = u\"ヘッダーファイル/JC0401S0000.csv\"\n",
    "popfile = f\"data/{pref_code:02d}/S{pref_code:02d}4JC0401S0000.csv\"\n",
    "pathfile = os.path.join(rootfolder, datafolder, popfile)\n",
    "pathheader = os.path.join(rootfolder, datafolder, headerfile) \n",
    "pop_h = pd.read_csv(pathheader)\n",
    "pop = pd.read_csv(pathfile, names=pop_h.columns)\n",
    "colnames={'行政コード':\"Val_GovCod\", '図形有無F':\"FigureF\", '分割合算F':\"DivRatioF\", '秘匿処理F':\"ConcealF\", 'リザーブ1':\"Reserve1\", 'リザーブ2':\"Reserve2\", '指標数':\"NoIndicators\", '総数(人口)':\"TotalPop\",'男(人口)':\"Male\", '女(人口)':\"Female\", '世帯数':\"NoHouseholds\", '面積(Ｋ㎡)':\"AreaKm2\", '人口密度(Ｋ㎡あたり人口)':\"PopDensity\"}\n",
    "pop.rename(columns=colnames,inplace=True)\n",
    "data = pd.merge(pop, area, on=\"Val_GovCod\")\n",
    "gdata = gpd.GeoDataFrame(data, geometry= data['geometry'], crs=\"EPSG:4326\")"
   ]
  },
  {
   "cell_type": "code",
   "execution_count": null,
   "metadata": {},
   "outputs": [],
   "source": [
    "gdata.head()"
   ]
  },
  {
   "cell_type": "code",
   "execution_count": null,
   "metadata": {},
   "outputs": [],
   "source": [
    "gdata.to_crs(6690,inplace=True)"
   ]
  },
  {
   "cell_type": "code",
   "execution_count": null,
   "metadata": {},
   "outputs": [],
   "source": [
    "gdata.crs"
   ]
  },
  {
   "cell_type": "code",
   "execution_count": null,
   "metadata": {},
   "outputs": [],
   "source": [
    "import geopandas as gpd\n",
    "import os\n",
    "\n",
    "gdf = gpd.read_file('../pre/AOS/aos.shp')\n",
    "gdf.to_crs(6690,inplace=True)\n",
    "gdf.crs\n",
    "# gdf_int = gpd.overlay(gdata,gdf,how='intersection')\n",
    "# ax = gdf_int.plot()\n",
    "# gdf.plot(ax=ax,facecolor='none',edgecolor='red')"
   ]
  },
  {
   "cell_type": "code",
   "execution_count": null,
   "metadata": {},
   "outputs": [],
   "source": [
    "gdf_int = gpd.overlay(gdata,gdf,how='intersection')\n",
    "ax = gdf_int.plot()\n",
    "gdf.plot(ax=ax,facecolor='none',edgecolor='red')"
   ]
  },
  {
   "cell_type": "code",
   "execution_count": 1,
   "metadata": {},
   "outputs": [
    {
     "data": {
      "text/html": [
       "<div>\n",
       "<style scoped>\n",
       "    .dataframe tbody tr th:only-of-type {\n",
       "        vertical-align: middle;\n",
       "    }\n",
       "\n",
       "    .dataframe tbody tr th {\n",
       "        vertical-align: top;\n",
       "    }\n",
       "\n",
       "    .dataframe thead th {\n",
       "        text-align: right;\n",
       "    }\n",
       "</style>\n",
       "<table border=\"1\" class=\"dataframe\">\n",
       "  <thead>\n",
       "    <tr style=\"text-align: right;\">\n",
       "      <th></th>\n",
       "      <th># number</th>\n",
       "      <th>coord_x</th>\n",
       "      <th>coord_y</th>\n",
       "      <th>evacuation</th>\n",
       "      <th>reward</th>\n",
       "    </tr>\n",
       "  </thead>\n",
       "  <tbody>\n",
       "    <tr>\n",
       "      <th>0</th>\n",
       "      <td>0</td>\n",
       "      <td>367727.43</td>\n",
       "      <td>3713897.05</td>\n",
       "      <td>0</td>\n",
       "      <td>1</td>\n",
       "    </tr>\n",
       "    <tr>\n",
       "      <th>1</th>\n",
       "      <td>1</td>\n",
       "      <td>367727.69</td>\n",
       "      <td>3713892.31</td>\n",
       "      <td>0</td>\n",
       "      <td>1</td>\n",
       "    </tr>\n",
       "    <tr>\n",
       "      <th>2</th>\n",
       "      <td>2</td>\n",
       "      <td>367707.74</td>\n",
       "      <td>3713891.11</td>\n",
       "      <td>0</td>\n",
       "      <td>1</td>\n",
       "    </tr>\n",
       "    <tr>\n",
       "      <th>3</th>\n",
       "      <td>3</td>\n",
       "      <td>367533.10</td>\n",
       "      <td>3713881.51</td>\n",
       "      <td>0</td>\n",
       "      <td>1</td>\n",
       "    </tr>\n",
       "    <tr>\n",
       "      <th>4</th>\n",
       "      <td>4</td>\n",
       "      <td>367479.39</td>\n",
       "      <td>3713878.17</td>\n",
       "      <td>0</td>\n",
       "      <td>1</td>\n",
       "    </tr>\n",
       "  </tbody>\n",
       "</table>\n",
       "</div>"
      ],
      "text/plain": [
       "   # number    coord_x     coord_y  evacuation  reward\n",
       "0         0  367727.43  3713897.05           0       1\n",
       "1         1  367727.69  3713892.31           0       1\n",
       "2         2  367707.74  3713891.11           0       1\n",
       "3         3  367533.10  3713881.51           0       1\n",
       "4         4  367479.39  3713878.17           0       1"
      ]
     },
     "execution_count": 1,
     "metadata": {},
     "output_type": "execute_result"
    }
   ],
   "source": [
    "# Plot shelters\n",
    "import pandas as pd\n",
    "\n",
    "nodesdb = pd.read_csv('./data/nodesdb.csv')\n",
    "nodesdb.head()"
   ]
  },
  {
   "cell_type": "code",
   "execution_count": 2,
   "metadata": {},
   "outputs": [
    {
     "data": {
      "text/html": [
       "<div>\n",
       "<style scoped>\n",
       "    .dataframe tbody tr th:only-of-type {\n",
       "        vertical-align: middle;\n",
       "    }\n",
       "\n",
       "    .dataframe tbody tr th {\n",
       "        vertical-align: top;\n",
       "    }\n",
       "\n",
       "    .dataframe thead th {\n",
       "        text-align: right;\n",
       "    }\n",
       "</style>\n",
       "<table border=\"1\" class=\"dataframe\">\n",
       "  <thead>\n",
       "    <tr style=\"text-align: right;\">\n",
       "      <th></th>\n",
       "      <th># number</th>\n",
       "      <th>coord_x</th>\n",
       "      <th>coord_y</th>\n",
       "      <th>evacuation</th>\n",
       "      <th>reward</th>\n",
       "    </tr>\n",
       "  </thead>\n",
       "  <tbody>\n",
       "    <tr>\n",
       "      <th>1054</th>\n",
       "      <td>1054</td>\n",
       "      <td>367114.28</td>\n",
       "      <td>3714305.08</td>\n",
       "      <td>1</td>\n",
       "      <td>1</td>\n",
       "    </tr>\n",
       "    <tr>\n",
       "      <th>1398</th>\n",
       "      <td>1398</td>\n",
       "      <td>370008.93</td>\n",
       "      <td>3715627.30</td>\n",
       "      <td>1</td>\n",
       "      <td>1</td>\n",
       "    </tr>\n",
       "    <tr>\n",
       "      <th>2330</th>\n",
       "      <td>2330</td>\n",
       "      <td>365129.96</td>\n",
       "      <td>3714076.15</td>\n",
       "      <td>1</td>\n",
       "      <td>1</td>\n",
       "    </tr>\n",
       "    <tr>\n",
       "      <th>3988</th>\n",
       "      <td>3988</td>\n",
       "      <td>368172.96</td>\n",
       "      <td>3712449.32</td>\n",
       "      <td>1</td>\n",
       "      <td>1</td>\n",
       "    </tr>\n",
       "    <tr>\n",
       "      <th>4388</th>\n",
       "      <td>4388</td>\n",
       "      <td>364062.74</td>\n",
       "      <td>3713241.26</td>\n",
       "      <td>1</td>\n",
       "      <td>1</td>\n",
       "    </tr>\n",
       "  </tbody>\n",
       "</table>\n",
       "</div>"
      ],
      "text/plain": [
       "      # number    coord_x     coord_y  evacuation  reward\n",
       "1054      1054  367114.28  3714305.08           1       1\n",
       "1398      1398  370008.93  3715627.30           1       1\n",
       "2330      2330  365129.96  3714076.15           1       1\n",
       "3988      3988  368172.96  3712449.32           1       1\n",
       "4388      4388  364062.74  3713241.26           1       1"
      ]
     },
     "execution_count": 2,
     "metadata": {},
     "output_type": "execute_result"
    }
   ],
   "source": [
    "shelter_nodesdb = nodesdb[nodesdb['evacuation']==1]\n",
    "shelter_nodesdb.head()"
   ]
  },
  {
   "cell_type": "code",
   "execution_count": 3,
   "metadata": {},
   "outputs": [],
   "source": [
    "import geopandas as gpd\n",
    "\n",
    "sh_gdf = gpd.GeoDataFrame(shelter_nodesdb,geometry=gpd.points_from_xy(x=shelter_nodesdb['coord_x'],y=shelter_nodesdb['coord_y']),crs='EPSG:6690')"
   ]
  },
  {
   "cell_type": "code",
   "execution_count": 4,
   "metadata": {},
   "outputs": [
    {
     "data": {
      "text/html": [
       "<div style=\"width:100%;\"><div style=\"position:relative;width:100%;height:0;padding-bottom:60%;\"><span style=\"color:#565656\">Make this Notebook Trusted to load map: File -> Trust Notebook</span><iframe src=\"about:blank\" style=\"position:absolute;width:100%;height:100%;left:0;top:0;border:none !important;\" data-html=%3C%21DOCTYPE%20html%3E%0A%3Chead%3E%20%20%20%20%0A%20%20%20%20%3Cmeta%20http-equiv%3D%22content-type%22%20content%3D%22text/html%3B%20charset%3DUTF-8%22%20/%3E%0A%20%20%20%20%0A%20%20%20%20%20%20%20%20%3Cscript%3E%0A%20%20%20%20%20%20%20%20%20%20%20%20L_NO_TOUCH%20%3D%20false%3B%0A%20%20%20%20%20%20%20%20%20%20%20%20L_DISABLE_3D%20%3D%20false%3B%0A%20%20%20%20%20%20%20%20%3C/script%3E%0A%20%20%20%20%0A%20%20%20%20%3Cstyle%3Ehtml%2C%20body%20%7Bwidth%3A%20100%25%3Bheight%3A%20100%25%3Bmargin%3A%200%3Bpadding%3A%200%3B%7D%3C/style%3E%0A%20%20%20%20%3Cstyle%3E%23map%20%7Bposition%3Aabsolute%3Btop%3A0%3Bbottom%3A0%3Bright%3A0%3Bleft%3A0%3B%7D%3C/style%3E%0A%20%20%20%20%3Cscript%20src%3D%22https%3A//cdn.jsdelivr.net/npm/leaflet%401.6.0/dist/leaflet.js%22%3E%3C/script%3E%0A%20%20%20%20%3Cscript%20src%3D%22https%3A//code.jquery.com/jquery-1.12.4.min.js%22%3E%3C/script%3E%0A%20%20%20%20%3Cscript%20src%3D%22https%3A//maxcdn.bootstrapcdn.com/bootstrap/3.2.0/js/bootstrap.min.js%22%3E%3C/script%3E%0A%20%20%20%20%3Cscript%20src%3D%22https%3A//cdnjs.cloudflare.com/ajax/libs/Leaflet.awesome-markers/2.0.2/leaflet.awesome-markers.js%22%3E%3C/script%3E%0A%20%20%20%20%3Clink%20rel%3D%22stylesheet%22%20href%3D%22https%3A//cdn.jsdelivr.net/npm/leaflet%401.6.0/dist/leaflet.css%22/%3E%0A%20%20%20%20%3Clink%20rel%3D%22stylesheet%22%20href%3D%22https%3A//maxcdn.bootstrapcdn.com/bootstrap/3.2.0/css/bootstrap.min.css%22/%3E%0A%20%20%20%20%3Clink%20rel%3D%22stylesheet%22%20href%3D%22https%3A//maxcdn.bootstrapcdn.com/bootstrap/3.2.0/css/bootstrap-theme.min.css%22/%3E%0A%20%20%20%20%3Clink%20rel%3D%22stylesheet%22%20href%3D%22https%3A//maxcdn.bootstrapcdn.com/font-awesome/4.6.3/css/font-awesome.min.css%22/%3E%0A%20%20%20%20%3Clink%20rel%3D%22stylesheet%22%20href%3D%22https%3A//cdnjs.cloudflare.com/ajax/libs/Leaflet.awesome-markers/2.0.2/leaflet.awesome-markers.css%22/%3E%0A%20%20%20%20%3Clink%20rel%3D%22stylesheet%22%20href%3D%22https%3A//cdn.jsdelivr.net/gh/python-visualization/folium/folium/templates/leaflet.awesome.rotate.min.css%22/%3E%0A%20%20%20%20%0A%20%20%20%20%20%20%20%20%20%20%20%20%3Cmeta%20name%3D%22viewport%22%20content%3D%22width%3Ddevice-width%2C%0A%20%20%20%20%20%20%20%20%20%20%20%20%20%20%20%20initial-scale%3D1.0%2C%20maximum-scale%3D1.0%2C%20user-scalable%3Dno%22%20/%3E%0A%20%20%20%20%20%20%20%20%20%20%20%20%3Cstyle%3E%0A%20%20%20%20%20%20%20%20%20%20%20%20%20%20%20%20%23map_ffa9b3d6f441408a888c1054376f4cca%20%7B%0A%20%20%20%20%20%20%20%20%20%20%20%20%20%20%20%20%20%20%20%20position%3A%20relative%3B%0A%20%20%20%20%20%20%20%20%20%20%20%20%20%20%20%20%20%20%20%20width%3A%20100.0%25%3B%0A%20%20%20%20%20%20%20%20%20%20%20%20%20%20%20%20%20%20%20%20height%3A%20100.0%25%3B%0A%20%20%20%20%20%20%20%20%20%20%20%20%20%20%20%20%20%20%20%20left%3A%200.0%25%3B%0A%20%20%20%20%20%20%20%20%20%20%20%20%20%20%20%20%20%20%20%20top%3A%200.0%25%3B%0A%20%20%20%20%20%20%20%20%20%20%20%20%20%20%20%20%7D%0A%20%20%20%20%20%20%20%20%20%20%20%20%3C/style%3E%0A%20%20%20%20%20%20%20%20%0A%20%20%20%20%0A%20%20%20%20%20%20%20%20%20%20%20%20%20%20%20%20%20%20%20%20%3Cstyle%3E%0A%20%20%20%20%20%20%20%20%20%20%20%20%20%20%20%20%20%20%20%20%20%20%20%20.foliumtooltip%20%7B%0A%20%20%20%20%20%20%20%20%20%20%20%20%20%20%20%20%20%20%20%20%20%20%20%20%20%20%20%20%0A%20%20%20%20%20%20%20%20%20%20%20%20%20%20%20%20%20%20%20%20%20%20%20%20%7D%0A%20%20%20%20%20%20%20%20%20%20%20%20%20%20%20%20%20%20%20%20%20%20%20.foliumtooltip%20table%7B%0A%20%20%20%20%20%20%20%20%20%20%20%20%20%20%20%20%20%20%20%20%20%20%20%20%20%20%20%20margin%3A%20auto%3B%0A%20%20%20%20%20%20%20%20%20%20%20%20%20%20%20%20%20%20%20%20%20%20%20%20%7D%0A%20%20%20%20%20%20%20%20%20%20%20%20%20%20%20%20%20%20%20%20%20%20%20%20.foliumtooltip%20tr%7B%0A%20%20%20%20%20%20%20%20%20%20%20%20%20%20%20%20%20%20%20%20%20%20%20%20%20%20%20%20text-align%3A%20left%3B%0A%20%20%20%20%20%20%20%20%20%20%20%20%20%20%20%20%20%20%20%20%20%20%20%20%7D%0A%20%20%20%20%20%20%20%20%20%20%20%20%20%20%20%20%20%20%20%20%20%20%20%20.foliumtooltip%20th%7B%0A%20%20%20%20%20%20%20%20%20%20%20%20%20%20%20%20%20%20%20%20%20%20%20%20%20%20%20%20padding%3A%202px%3B%20padding-right%3A%208px%3B%0A%20%20%20%20%20%20%20%20%20%20%20%20%20%20%20%20%20%20%20%20%20%20%20%20%7D%0A%20%20%20%20%20%20%20%20%20%20%20%20%20%20%20%20%20%20%20%20%3C/style%3E%0A%20%20%20%20%20%20%20%20%20%20%20%20%0A%3C/head%3E%0A%3Cbody%3E%20%20%20%20%0A%20%20%20%20%0A%20%20%20%20%20%20%20%20%20%20%20%20%3Cdiv%20class%3D%22folium-map%22%20id%3D%22map_ffa9b3d6f441408a888c1054376f4cca%22%20%3E%3C/div%3E%0A%20%20%20%20%20%20%20%20%0A%3C/body%3E%0A%3Cscript%3E%20%20%20%20%0A%20%20%20%20%0A%20%20%20%20%20%20%20%20%20%20%20%20var%20map_ffa9b3d6f441408a888c1054376f4cca%20%3D%20L.map%28%0A%20%20%20%20%20%20%20%20%20%20%20%20%20%20%20%20%22map_ffa9b3d6f441408a888c1054376f4cca%22%2C%0A%20%20%20%20%20%20%20%20%20%20%20%20%20%20%20%20%7B%0A%20%20%20%20%20%20%20%20%20%20%20%20%20%20%20%20%20%20%20%20center%3A%20%5B33.559435917539126%2C%20133.56441970848715%5D%2C%0A%20%20%20%20%20%20%20%20%20%20%20%20%20%20%20%20%20%20%20%20crs%3A%20L.CRS.EPSG3857%2C%0A%20%20%20%20%20%20%20%20%20%20%20%20%20%20%20%20%20%20%20%20zoom%3A%2010%2C%0A%20%20%20%20%20%20%20%20%20%20%20%20%20%20%20%20%20%20%20%20zoomControl%3A%20true%2C%0A%20%20%20%20%20%20%20%20%20%20%20%20%20%20%20%20%20%20%20%20preferCanvas%3A%20false%2C%0A%20%20%20%20%20%20%20%20%20%20%20%20%20%20%20%20%7D%0A%20%20%20%20%20%20%20%20%20%20%20%20%29%3B%0A%20%20%20%20%20%20%20%20%20%20%20%20L.control.scale%28%29.addTo%28map_ffa9b3d6f441408a888c1054376f4cca%29%3B%0A%0A%20%20%20%20%20%20%20%20%20%20%20%20%0A%0A%20%20%20%20%20%20%20%20%0A%20%20%20%20%0A%20%20%20%20%20%20%20%20%20%20%20%20var%20tile_layer_238d1a07eefa4f8e8fe24b49797fcc6b%20%3D%20L.tileLayer%28%0A%20%20%20%20%20%20%20%20%20%20%20%20%20%20%20%20%22https%3A//%7Bs%7D.tile.openstreetmap.org/%7Bz%7D/%7Bx%7D/%7By%7D.png%22%2C%0A%20%20%20%20%20%20%20%20%20%20%20%20%20%20%20%20%7B%22attribution%22%3A%20%22Data%20by%20%5Cu0026copy%3B%20%5Cu003ca%20href%3D%5C%22http%3A//openstreetmap.org%5C%22%5Cu003eOpenStreetMap%5Cu003c/a%5Cu003e%2C%20under%20%5Cu003ca%20href%3D%5C%22http%3A//www.openstreetmap.org/copyright%5C%22%5Cu003eODbL%5Cu003c/a%5Cu003e.%22%2C%20%22detectRetina%22%3A%20false%2C%20%22maxNativeZoom%22%3A%2018%2C%20%22maxZoom%22%3A%2018%2C%20%22minZoom%22%3A%200%2C%20%22noWrap%22%3A%20false%2C%20%22opacity%22%3A%201%2C%20%22subdomains%22%3A%20%22abc%22%2C%20%22tms%22%3A%20false%7D%0A%20%20%20%20%20%20%20%20%20%20%20%20%29.addTo%28map_ffa9b3d6f441408a888c1054376f4cca%29%3B%0A%20%20%20%20%20%20%20%20%0A%20%20%20%20%0A%20%20%20%20%20%20%20%20%20%20%20%20map_ffa9b3d6f441408a888c1054376f4cca.fitBounds%28%0A%20%20%20%20%20%20%20%20%20%20%20%20%20%20%20%20%5B%5B33.541586291105304%2C%20133.5247163194903%5D%2C%20%5B33.57728554397295%2C%20133.60412309748398%5D%5D%2C%0A%20%20%20%20%20%20%20%20%20%20%20%20%20%20%20%20%7B%7D%0A%20%20%20%20%20%20%20%20%20%20%20%20%29%3B%0A%20%20%20%20%20%20%20%20%0A%20%20%20%20%0A%20%20%20%20%20%20%20%20function%20geo_json_bb4c6b983ff746b1874b8eefbcf7a06c_styler%28feature%29%20%7B%0A%20%20%20%20%20%20%20%20%20%20%20%20switch%28feature.id%29%20%7B%0A%20%20%20%20%20%20%20%20%20%20%20%20%20%20%20%20default%3A%0A%20%20%20%20%20%20%20%20%20%20%20%20%20%20%20%20%20%20%20%20return%20%7B%22fillOpacity%22%3A%200.5%2C%20%22weight%22%3A%202%7D%3B%0A%20%20%20%20%20%20%20%20%20%20%20%20%7D%0A%20%20%20%20%20%20%20%20%7D%0A%20%20%20%20%20%20%20%20function%20geo_json_bb4c6b983ff746b1874b8eefbcf7a06c_highlighter%28feature%29%20%7B%0A%20%20%20%20%20%20%20%20%20%20%20%20switch%28feature.id%29%20%7B%0A%20%20%20%20%20%20%20%20%20%20%20%20%20%20%20%20default%3A%0A%20%20%20%20%20%20%20%20%20%20%20%20%20%20%20%20%20%20%20%20return%20%7B%22fillOpacity%22%3A%200.75%7D%3B%0A%20%20%20%20%20%20%20%20%20%20%20%20%7D%0A%20%20%20%20%20%20%20%20%7D%0A%20%20%20%20%20%20%20%20function%20geo_json_bb4c6b983ff746b1874b8eefbcf7a06c_pointToLayer%28feature%2C%20latlng%29%20%7B%0A%20%20%20%20%20%20%20%20%20%20%20%20var%20opts%20%3D%20%7B%22bubblingMouseEvents%22%3A%20true%2C%20%22color%22%3A%20%22%233388ff%22%2C%20%22dashArray%22%3A%20null%2C%20%22dashOffset%22%3A%20null%2C%20%22fill%22%3A%20true%2C%20%22fillColor%22%3A%20%22%233388ff%22%2C%20%22fillOpacity%22%3A%200.2%2C%20%22fillRule%22%3A%20%22evenodd%22%2C%20%22lineCap%22%3A%20%22round%22%2C%20%22lineJoin%22%3A%20%22round%22%2C%20%22opacity%22%3A%201.0%2C%20%22radius%22%3A%202%2C%20%22stroke%22%3A%20true%2C%20%22weight%22%3A%203%7D%3B%0A%20%20%20%20%20%20%20%20%20%20%20%20%0A%20%20%20%20%20%20%20%20%20%20%20%20let%20style%20%3D%20geo_json_bb4c6b983ff746b1874b8eefbcf7a06c_styler%28feature%29%0A%20%20%20%20%20%20%20%20%20%20%20%20Object.assign%28opts%2C%20style%29%0A%20%20%20%20%20%20%20%20%20%20%20%20%0A%20%20%20%20%20%20%20%20%20%20%20%20return%20new%20L.CircleMarker%28latlng%2C%20opts%29%0A%20%20%20%20%20%20%20%20%7D%0A%0A%20%20%20%20%20%20%20%20function%20geo_json_bb4c6b983ff746b1874b8eefbcf7a06c_onEachFeature%28feature%2C%20layer%29%20%7B%0A%20%20%20%20%20%20%20%20%20%20%20%20layer.on%28%7B%0A%20%20%20%20%20%20%20%20%20%20%20%20%20%20%20%20mouseout%3A%20function%28e%29%20%7B%0A%20%20%20%20%20%20%20%20%20%20%20%20%20%20%20%20%20%20%20%20if%28typeof%20e.target.setStyle%20%3D%3D%3D%20%22function%22%29%7B%0A%20%20%20%20%20%20%20%20%20%20%20%20%20%20%20%20%20%20%20%20%20%20%20%20geo_json_bb4c6b983ff746b1874b8eefbcf7a06c.resetStyle%28e.target%29%3B%0A%20%20%20%20%20%20%20%20%20%20%20%20%20%20%20%20%20%20%20%20%7D%0A%20%20%20%20%20%20%20%20%20%20%20%20%20%20%20%20%7D%2C%0A%20%20%20%20%20%20%20%20%20%20%20%20%20%20%20%20mouseover%3A%20function%28e%29%20%7B%0A%20%20%20%20%20%20%20%20%20%20%20%20%20%20%20%20%20%20%20%20if%28typeof%20e.target.setStyle%20%3D%3D%3D%20%22function%22%29%7B%0A%20%20%20%20%20%20%20%20%20%20%20%20%20%20%20%20%20%20%20%20%20%20%20%20const%20highlightStyle%20%3D%20geo_json_bb4c6b983ff746b1874b8eefbcf7a06c_highlighter%28e.target.feature%29%0A%20%20%20%20%20%20%20%20%20%20%20%20%20%20%20%20%20%20%20%20%20%20%20%20e.target.setStyle%28highlightStyle%29%3B%0A%20%20%20%20%20%20%20%20%20%20%20%20%20%20%20%20%20%20%20%20%7D%0A%20%20%20%20%20%20%20%20%20%20%20%20%20%20%20%20%7D%2C%0A%20%20%20%20%20%20%20%20%20%20%20%20%7D%29%3B%0A%20%20%20%20%20%20%20%20%7D%3B%0A%20%20%20%20%20%20%20%20var%20geo_json_bb4c6b983ff746b1874b8eefbcf7a06c%20%3D%20L.geoJson%28null%2C%20%7B%0A%20%20%20%20%20%20%20%20%20%20%20%20%20%20%20%20onEachFeature%3A%20geo_json_bb4c6b983ff746b1874b8eefbcf7a06c_onEachFeature%2C%0A%20%20%20%20%20%20%20%20%20%20%20%20%0A%20%20%20%20%20%20%20%20%20%20%20%20%20%20%20%20style%3A%20geo_json_bb4c6b983ff746b1874b8eefbcf7a06c_styler%2C%0A%20%20%20%20%20%20%20%20%20%20%20%20%20%20%20%20pointToLayer%3A%20geo_json_bb4c6b983ff746b1874b8eefbcf7a06c_pointToLayer%0A%20%20%20%20%20%20%20%20%7D%29%3B%0A%0A%20%20%20%20%20%20%20%20function%20geo_json_bb4c6b983ff746b1874b8eefbcf7a06c_add%20%28data%29%20%7B%0A%20%20%20%20%20%20%20%20%20%20%20%20geo_json_bb4c6b983ff746b1874b8eefbcf7a06c%0A%20%20%20%20%20%20%20%20%20%20%20%20%20%20%20%20.addData%28data%29%0A%20%20%20%20%20%20%20%20%20%20%20%20%20%20%20%20.addTo%28map_ffa9b3d6f441408a888c1054376f4cca%29%3B%0A%20%20%20%20%20%20%20%20%7D%0A%20%20%20%20%20%20%20%20%20%20%20%20geo_json_bb4c6b983ff746b1874b8eefbcf7a06c_add%28%7B%22bbox%22%3A%20%5B133.5247163194903%2C%2033.541586291105304%2C%20133.60412309748398%2C%2033.57728554397295%5D%2C%20%22features%22%3A%20%5B%7B%22bbox%22%3A%20%5B133.56842555812077%2C%2033.560142836261114%2C%20133.56842555812077%2C%2033.560142836261114%5D%2C%20%22geometry%22%3A%20%7B%22coordinates%22%3A%20%5B133.56842555812077%2C%2033.560142836261114%5D%2C%20%22type%22%3A%20%22Point%22%7D%2C%20%22id%22%3A%20%221054%22%2C%20%22properties%22%3A%20%7B%22%23%20number%22%3A%201054%2C%20%22coord_x%22%3A%20367114.28%2C%20%22coord_y%22%3A%203714305.08%2C%20%22evacuation%22%3A%201%2C%20%22reward%22%3A%201%7D%2C%20%22type%22%3A%20%22Feature%22%7D%2C%20%7B%22bbox%22%3A%20%5B133.59940881954358%2C%2033.572421757802786%2C%20133.59940881954358%2C%2033.572421757802786%5D%2C%20%22geometry%22%3A%20%7B%22coordinates%22%3A%20%5B133.59940881954358%2C%2033.572421757802786%5D%2C%20%22type%22%3A%20%22Point%22%7D%2C%20%22id%22%3A%20%221398%22%2C%20%22properties%22%3A%20%7B%22%23%20number%22%3A%201398%2C%20%22coord_x%22%3A%20370008.93%2C%20%22coord_y%22%3A%203715627.3%2C%20%22evacuation%22%3A%201%2C%20%22reward%22%3A%201%7D%2C%20%22type%22%3A%20%22Feature%22%7D%2C%20%7B%22bbox%22%3A%20%5B133.5470890523036%2C%2033.55782962463331%2C%20133.5470890523036%2C%2033.55782962463331%5D%2C%20%22geometry%22%3A%20%7B%22coordinates%22%3A%20%5B133.5470890523036%2C%2033.55782962463331%5D%2C%20%22type%22%3A%20%22Point%22%7D%2C%20%22id%22%3A%20%222330%22%2C%20%22properties%22%3A%20%7B%22%23%20number%22%3A%202330%2C%20%22coord_x%22%3A%20365129.96%2C%20%22coord_y%22%3A%203714076.15%2C%20%22evacuation%22%3A%201%2C%20%22reward%22%3A%201%7D%2C%20%22type%22%3A%20%22Feature%22%7D%2C%20%7B%22bbox%22%3A%20%5B133.58010143148803%2C%2033.54354117835011%2C%20133.58010143148803%2C%2033.54354117835011%5D%2C%20%22geometry%22%3A%20%7B%22coordinates%22%3A%20%5B133.58010143148803%2C%2033.54354117835011%5D%2C%20%22type%22%3A%20%22Point%22%7D%2C%20%22id%22%3A%20%223988%22%2C%20%22properties%22%3A%20%7B%22%23%20number%22%3A%203988%2C%20%22coord_x%22%3A%20368172.96%2C%20%22coord_y%22%3A%203712449.32%2C%20%22evacuation%22%3A%201%2C%20%22reward%22%3A%201%7D%2C%20%22type%22%3A%20%22Feature%22%7D%2C%20%7B%22bbox%22%3A%20%5B133.5357225401657%2C%2033.55016629176493%2C%20133.5357225401657%2C%2033.55016629176493%5D%2C%20%22geometry%22%3A%20%7B%22coordinates%22%3A%20%5B133.5357225401657%2C%2033.55016629176493%5D%2C%20%22type%22%3A%20%22Point%22%7D%2C%20%22id%22%3A%20%224388%22%2C%20%22properties%22%3A%20%7B%22%23%20number%22%3A%204388%2C%20%22coord_x%22%3A%20364062.74%2C%20%22coord_y%22%3A%203713241.26%2C%20%22evacuation%22%3A%201%2C%20%22reward%22%3A%201%7D%2C%20%22type%22%3A%20%22Feature%22%7D%2C%20%7B%22bbox%22%3A%20%5B133.54664383952826%2C%2033.54947657280004%2C%20133.54664383952826%2C%2033.54947657280004%5D%2C%20%22geometry%22%3A%20%7B%22coordinates%22%3A%20%5B133.54664383952826%2C%2033.54947657280004%5D%2C%20%22type%22%3A%20%22Point%22%7D%2C%20%22id%22%3A%20%226191%22%2C%20%22properties%22%3A%20%7B%22%23%20number%22%3A%206191%2C%20%22coord_x%22%3A%20365075.64%2C%20%22coord_y%22%3A%203713150.51%2C%20%22evacuation%22%3A%201%2C%20%22reward%22%3A%201%7D%2C%20%22type%22%3A%20%22Feature%22%7D%2C%20%7B%22bbox%22%3A%20%5B133.54608934274432%2C%2033.56206430196653%2C%20133.54608934274432%2C%2033.56206430196653%5D%2C%20%22geometry%22%3A%20%7B%22coordinates%22%3A%20%5B133.54608934274432%2C%2033.56206430196653%5D%2C%20%22type%22%3A%20%22Point%22%7D%2C%20%22id%22%3A%20%227435%22%2C%20%22properties%22%3A%20%7B%22%23%20number%22%3A%207435%2C%20%22coord_x%22%3A%20365043.74%2C%20%22coord_y%22%3A%203714547.01%2C%20%22evacuation%22%3A%201%2C%20%22reward%22%3A%201%7D%2C%20%22type%22%3A%20%22Feature%22%7D%2C%20%7B%22bbox%22%3A%20%5B133.53585208721373%2C%2033.56613780981725%2C%20133.53585208721373%2C%2033.56613780981725%5D%2C%20%22geometry%22%3A%20%7B%22coordinates%22%3A%20%5B133.53585208721373%2C%2033.56613780981725%5D%2C%20%22type%22%3A%20%22Point%22%7D%2C%20%22id%22%3A%20%229046%22%2C%20%22properties%22%3A%20%7B%22%23%20number%22%3A%209046%2C%20%22coord_x%22%3A%20364099.79%2C%20%22coord_y%22%3A%203715012.08%2C%20%22evacuation%22%3A%201%2C%20%22reward%22%3A%201%7D%2C%20%22type%22%3A%20%22Feature%22%7D%2C%20%7B%22bbox%22%3A%20%5B133.5412586653266%2C%2033.55240653867078%2C%20133.5412586653266%2C%2033.55240653867078%5D%2C%20%22geometry%22%3A%20%7B%22coordinates%22%3A%20%5B133.5412586653266%2C%2033.55240653867078%5D%2C%20%22type%22%3A%20%22Point%22%7D%2C%20%22id%22%3A%20%229198%22%2C%20%22properties%22%3A%20%7B%22%23%20number%22%3A%209198%2C%20%22coord_x%22%3A%20364580.23%2C%20%22coord_y%22%3A%203713482.42%2C%20%22evacuation%22%3A%201%2C%20%22reward%22%3A%201%7D%2C%20%22type%22%3A%20%22Feature%22%7D%2C%20%7B%22bbox%22%3A%20%5B133.53873353136024%2C%2033.541586291105304%2C%20133.53873353136024%2C%2033.541586291105304%5D%2C%20%22geometry%22%3A%20%7B%22coordinates%22%3A%20%5B133.53873353136024%2C%2033.541586291105304%5D%2C%20%22type%22%3A%20%22Point%22%7D%2C%20%22id%22%3A%20%229420%22%2C%20%22properties%22%3A%20%7B%22%23%20number%22%3A%209420%2C%20%22coord_x%22%3A%20364328.88%2C%20%22coord_y%22%3A%203712285.93%2C%20%22evacuation%22%3A%201%2C%20%22reward%22%3A%201%7D%2C%20%22type%22%3A%20%22Feature%22%7D%2C%20%7B%22bbox%22%3A%20%5B133.5378211118628%2C%2033.56881024475407%2C%20133.5378211118628%2C%2033.56881024475407%5D%2C%20%22geometry%22%3A%20%7B%22coordinates%22%3A%20%5B133.5378211118628%2C%2033.56881024475407%5D%2C%20%22type%22%3A%20%22Point%22%7D%2C%20%22id%22%3A%20%229460%22%2C%20%22properties%22%3A%20%7B%22%23%20number%22%3A%209460%2C%20%22coord_x%22%3A%20364286.75%2C%20%22coord_y%22%3A%203715305.83%2C%20%22evacuation%22%3A%201%2C%20%22reward%22%3A%201%7D%2C%20%22type%22%3A%20%22Feature%22%7D%2C%20%7B%22bbox%22%3A%20%5B133.5431273483716%2C%2033.54892217874185%2C%20133.5431273483716%2C%2033.54892217874185%5D%2C%20%22geometry%22%3A%20%7B%22coordinates%22%3A%20%5B133.5431273483716%2C%2033.54892217874185%5D%2C%20%22type%22%3A%20%22Point%22%7D%2C%20%22id%22%3A%20%2211001%22%2C%20%22properties%22%3A%20%7B%22%23%20number%22%3A%2011001%2C%20%22coord_x%22%3A%20364748.29%2C%20%22coord_y%22%3A%203713093.62%2C%20%22evacuation%22%3A%201%2C%20%22reward%22%3A%201%7D%2C%20%22type%22%3A%20%22Feature%22%7D%2C%20%7B%22bbox%22%3A%20%5B133.5325392927328%2C%2033.57200489897876%2C%20133.5325392927328%2C%2033.57200489897876%5D%2C%20%22geometry%22%3A%20%7B%22coordinates%22%3A%20%5B133.5325392927328%2C%2033.57200489897876%5D%2C%20%22type%22%3A%20%22Point%22%7D%2C%20%22id%22%3A%20%2211181%22%2C%20%22properties%22%3A%20%7B%22%23%20number%22%3A%2011181%2C%20%22coord_x%22%3A%20363801.49%2C%20%22coord_y%22%3A%203715667.0%2C%20%22evacuation%22%3A%201%2C%20%22reward%22%3A%201%7D%2C%20%22type%22%3A%20%22Feature%22%7D%2C%20%7B%22bbox%22%3A%20%5B133.5247163194903%2C%2033.56462151468241%2C%20133.5247163194903%2C%2033.56462151468241%5D%2C%20%22geometry%22%3A%20%7B%22coordinates%22%3A%20%5B133.5247163194903%2C%2033.56462151468241%5D%2C%20%22type%22%3A%20%22Point%22%7D%2C%20%22id%22%3A%20%2212341%22%2C%20%22properties%22%3A%20%7B%22%23%20number%22%3A%2012341%2C%20%22coord_x%22%3A%20363063.7%2C%20%22coord_y%22%3A%203714858.61%2C%20%22evacuation%22%3A%201%2C%20%22reward%22%3A%201%7D%2C%20%22type%22%3A%20%22Feature%22%7D%2C%20%7B%22bbox%22%3A%20%5B133.52479137957232%2C%2033.560163627444446%2C%20133.52479137957232%2C%2033.560163627444446%5D%2C%20%22geometry%22%3A%20%7B%22coordinates%22%3A%20%5B133.52479137957232%2C%2033.560163627444446%5D%2C%20%22type%22%3A%20%22Point%22%7D%2C%20%22id%22%3A%20%2212503%22%2C%20%22properties%22%3A%20%7B%22%23%20number%22%3A%2012503%2C%20%22coord_x%22%3A%20363063.63%2C%20%22coord_y%22%3A%203714364.2%2C%20%22evacuation%22%3A%201%2C%20%22reward%22%3A%201%7D%2C%20%22type%22%3A%20%22Feature%22%7D%2C%20%7B%22bbox%22%3A%20%5B133.60187008820506%2C%2033.555959160797265%2C%20133.60187008820506%2C%2033.555959160797265%5D%2C%20%22geometry%22%3A%20%7B%22coordinates%22%3A%20%5B133.60187008820506%2C%2033.555959160797265%5D%2C%20%22type%22%3A%20%22Point%22%7D%2C%20%22id%22%3A%20%2212546%22%2C%20%22properties%22%3A%20%7B%22%23%20number%22%3A%2012546%2C%20%22coord_x%22%3A%20370212.75%2C%20%22coord_y%22%3A%203713798.79%2C%20%22evacuation%22%3A%201%2C%20%22reward%22%3A%201%7D%2C%20%22type%22%3A%20%22Feature%22%7D%2C%20%7B%22bbox%22%3A%20%5B133.55728634578452%2C%2033.54762719304094%2C%20133.55728634578452%2C%2033.54762719304094%5D%2C%20%22geometry%22%3A%20%7B%22coordinates%22%3A%20%5B133.55728634578452%2C%2033.54762719304094%5D%2C%20%22type%22%3A%20%22Point%22%7D%2C%20%22id%22%3A%20%2212651%22%2C%20%22properties%22%3A%20%7B%22%23%20number%22%3A%2012651%2C%20%22coord_x%22%3A%20366060.88%2C%20%22coord_y%22%3A%203712931.64%2C%20%22evacuation%22%3A%201%2C%20%22reward%22%3A%201%7D%2C%20%22type%22%3A%20%22Feature%22%7D%2C%20%7B%22bbox%22%3A%20%5B133.60412309748398%2C%2033.55582441961393%2C%20133.60412309748398%2C%2033.55582441961393%5D%2C%20%22geometry%22%3A%20%7B%22coordinates%22%3A%20%5B133.60412309748398%2C%2033.55582441961393%5D%2C%20%22type%22%3A%20%22Point%22%7D%2C%20%22id%22%3A%20%2212679%22%2C%20%22properties%22%3A%20%7B%22%23%20number%22%3A%2012679%2C%20%22coord_x%22%3A%20370421.71%2C%20%22coord_y%22%3A%203713781.03%2C%20%22evacuation%22%3A%201%2C%20%22reward%22%3A%201%7D%2C%20%22type%22%3A%20%22Feature%22%7D%2C%20%7B%22bbox%22%3A%20%5B133.53197927049376%2C%2033.562382664342444%2C%20133.53197927049376%2C%2033.562382664342444%5D%2C%20%22geometry%22%3A%20%7B%22coordinates%22%3A%20%5B133.53197927049376%2C%2033.562382664342444%5D%2C%20%22type%22%3A%20%22Point%22%7D%2C%20%22id%22%3A%20%2212847%22%2C%20%22properties%22%3A%20%7B%22%23%20number%22%3A%2012847%2C%20%22coord_x%22%3A%20363734.39%2C%20%22coord_y%22%3A%203714600.78%2C%20%22evacuation%22%3A%201%2C%20%22reward%22%3A%201%7D%2C%20%22type%22%3A%20%22Feature%22%7D%2C%20%7B%22bbox%22%3A%20%5B133.5893258726827%2C%2033.55004291927853%2C%20133.5893258726827%2C%2033.55004291927853%5D%2C%20%22geometry%22%3A%20%7B%22coordinates%22%3A%20%5B133.5893258726827%2C%2033.55004291927853%5D%2C%20%22type%22%3A%20%22Point%22%7D%2C%20%22id%22%3A%20%2213583%22%2C%20%22properties%22%3A%20%7B%22%23%20number%22%3A%2013583%2C%20%22coord_x%22%3A%20369039.26%2C%20%22coord_y%22%3A%203713158.56%2C%20%22evacuation%22%3A%201%2C%20%22reward%22%3A%201%7D%2C%20%22type%22%3A%20%22Feature%22%7D%2C%20%7B%22bbox%22%3A%20%5B133.56451670557226%2C%2033.57728554397295%2C%20133.56451670557226%2C%2033.57728554397295%5D%2C%20%22geometry%22%3A%20%7B%22coordinates%22%3A%20%5B133.56451670557226%2C%2033.57728554397295%5D%2C%20%22type%22%3A%20%22Point%22%7D%2C%20%22id%22%3A%20%2215986%22%2C%20%22properties%22%3A%20%7B%22%23%20number%22%3A%2015986%2C%20%22coord_x%22%3A%20366777.75%2C%20%22coord_y%22%3A%203716210.95%2C%20%22evacuation%22%3A%201%2C%20%22reward%22%3A%201%7D%2C%20%22type%22%3A%20%22Feature%22%7D%2C%20%7B%22bbox%22%3A%20%5B133.59547627360536%2C%2033.56922513579218%2C%20133.59547627360536%2C%2033.56922513579218%5D%2C%20%22geometry%22%3A%20%7B%22coordinates%22%3A%20%5B133.59547627360536%2C%2033.56922513579218%5D%2C%20%22type%22%3A%20%22Point%22%7D%2C%20%22id%22%3A%20%2217374%22%2C%20%22properties%22%3A%20%7B%22%23%20number%22%3A%2017374%2C%20%22coord_x%22%3A%20369639.11%2C%20%22coord_y%22%3A%203715277.79%2C%20%22evacuation%22%3A%201%2C%20%22reward%22%3A%201%7D%2C%20%22type%22%3A%20%22Feature%22%7D%2C%20%7B%22bbox%22%3A%20%5B133.57528963118477%2C%2033.547049194170775%2C%20133.57528963118477%2C%2033.547049194170775%5D%2C%20%22geometry%22%3A%20%7B%22coordinates%22%3A%20%5B133.57528963118477%2C%2033.547049194170775%5D%2C%20%22type%22%3A%20%22Point%22%7D%2C%20%22id%22%3A%20%2218426%22%2C%20%22properties%22%3A%20%7B%22%23%20number%22%3A%2018426%2C%20%22coord_x%22%3A%20367731.53%2C%20%22coord_y%22%3A%203712844.43%2C%20%22evacuation%22%3A%201%2C%20%22reward%22%3A%201%7D%2C%20%22type%22%3A%20%22Feature%22%7D%2C%20%7B%22bbox%22%3A%20%5B133.58051057552032%2C%2033.55854921358026%2C%20133.58051057552032%2C%2033.55854921358026%5D%2C%20%22geometry%22%3A%20%7B%22coordinates%22%3A%20%5B133.58051057552032%2C%2033.55854921358026%5D%2C%20%22type%22%3A%20%22Point%22%7D%2C%20%22id%22%3A%20%2218775%22%2C%20%22properties%22%3A%20%7B%22%23%20number%22%3A%2018775%2C%20%22coord_x%22%3A%20368233.74%2C%20%22coord_y%22%3A%203714112.94%2C%20%22evacuation%22%3A%201%2C%20%22reward%22%3A%201%7D%2C%20%22type%22%3A%20%22Feature%22%7D%2C%20%7B%22bbox%22%3A%20%5B133.5507685726714%2C%2033.5515163837452%2C%20133.5507685726714%2C%2033.5515163837452%5D%2C%20%22geometry%22%3A%20%7B%22coordinates%22%3A%20%5B133.5507685726714%2C%2033.5515163837452%5D%2C%20%22type%22%3A%20%22Point%22%7D%2C%20%22id%22%3A%20%2221008%22%2C%20%22properties%22%3A%20%7B%22%23%20number%22%3A%2021008%2C%20%22coord_x%22%3A%20365461.76%2C%20%22coord_y%22%3A%203713371.33%2C%20%22evacuation%22%3A%201%2C%20%22reward%22%3A%201%7D%2C%20%22type%22%3A%20%22Feature%22%7D%2C%20%7B%22bbox%22%3A%20%5B133.52533480754448%2C%2033.56731861918501%2C%20133.52533480754448%2C%2033.56731861918501%5D%2C%20%22geometry%22%3A%20%7B%22coordinates%22%3A%20%5B133.52533480754448%2C%2033.56731861918501%5D%2C%20%22type%22%3A%20%22Point%22%7D%2C%20%22id%22%3A%20%2221369%22%2C%20%22properties%22%3A%20%7B%22%23%20number%22%3A%2021369%2C%20%22coord_x%22%3A%20363125.37%2C%20%22coord_y%22%3A%203715156.86%2C%20%22evacuation%22%3A%201%2C%20%22reward%22%3A%201%7D%2C%20%22type%22%3A%20%22Feature%22%7D%2C%20%7B%22bbox%22%3A%20%5B133.55627604274048%2C%2033.55702950694604%2C%20133.55627604274048%2C%2033.55702950694604%5D%2C%20%22geometry%22%3A%20%7B%22coordinates%22%3A%20%5B133.55627604274048%2C%2033.55702950694604%5D%2C%20%22type%22%3A%20%22Point%22%7D%2C%20%22id%22%3A%20%2221858%22%2C%20%22properties%22%3A%20%7B%22%23%20number%22%3A%2021858%2C%20%22coord_x%22%3A%20365981.6%2C%20%22coord_y%22%3A%203713975.51%2C%20%22evacuation%22%3A%201%2C%20%22reward%22%3A%201%7D%2C%20%22type%22%3A%20%22Feature%22%7D%2C%20%7B%22bbox%22%3A%20%5B133.55727761127133%2C%2033.55958718261763%2C%20133.55727761127133%2C%2033.55958718261763%5D%2C%20%22geometry%22%3A%20%7B%22coordinates%22%3A%20%5B133.55727761127133%2C%2033.55958718261763%5D%2C%20%22type%22%3A%20%22Point%22%7D%2C%20%22id%22%3A%20%2222045%22%2C%20%22properties%22%3A%20%7B%22%23%20number%22%3A%2022045%2C%20%22coord_x%22%3A%20366078.53%2C%20%22coord_y%22%3A%203714257.82%2C%20%22evacuation%22%3A%201%2C%20%22reward%22%3A%201%7D%2C%20%22type%22%3A%20%22Feature%22%7D%2C%20%7B%22bbox%22%3A%20%5B133.554511628369%2C%2033.567567609500045%2C%20133.554511628369%2C%2033.567567609500045%5D%2C%20%22geometry%22%3A%20%7B%22coordinates%22%3A%20%5B133.554511628369%2C%2033.567567609500045%5D%2C%20%22type%22%3A%20%22Point%22%7D%2C%20%22id%22%3A%20%2222611%22%2C%20%22properties%22%3A%20%7B%22%23%20number%22%3A%2022611%2C%20%22coord_x%22%3A%20365834.1%2C%20%22coord_y%22%3A%203715146.3%2C%20%22evacuation%22%3A%201%2C%20%22reward%22%3A%201%7D%2C%20%22type%22%3A%20%22Feature%22%7D%2C%20%7B%22bbox%22%3A%20%5B133.53611490693228%2C%2033.57023103357534%2C%20133.53611490693228%2C%2033.57023103357534%5D%2C%20%22geometry%22%3A%20%7B%22coordinates%22%3A%20%5B133.53611490693228%2C%2033.57023103357534%5D%2C%20%22type%22%3A%20%22Point%22%7D%2C%20%22id%22%3A%20%2223742%22%2C%20%22properties%22%3A%20%7B%22%23%20number%22%3A%2023742%2C%20%22coord_x%22%3A%20364130.6%2C%20%22coord_y%22%3A%203715465.61%2C%20%22evacuation%22%3A%201%2C%20%22reward%22%3A%201%7D%2C%20%22type%22%3A%20%22Feature%22%7D%5D%2C%20%22type%22%3A%20%22FeatureCollection%22%7D%29%3B%0A%0A%20%20%20%20%20%20%20%20%0A%20%20%20%20%0A%20%20%20%20geo_json_bb4c6b983ff746b1874b8eefbcf7a06c.bindTooltip%28%0A%20%20%20%20function%28layer%29%7B%0A%20%20%20%20let%20div%20%3D%20L.DomUtil.create%28%27div%27%29%3B%0A%20%20%20%20%0A%20%20%20%20let%20handleObject%20%3D%20feature%3D%3Etypeof%28feature%29%3D%3D%27object%27%20%3F%20JSON.stringify%28feature%29%20%3A%20feature%3B%0A%20%20%20%20let%20fields%20%3D%20%5B%22%23%20number%22%2C%20%22coord_x%22%2C%20%22coord_y%22%2C%20%22evacuation%22%2C%20%22reward%22%5D%3B%0A%20%20%20%20let%20aliases%20%3D%20%5B%22%23%20number%22%2C%20%22coord_x%22%2C%20%22coord_y%22%2C%20%22evacuation%22%2C%20%22reward%22%5D%3B%0A%20%20%20%20let%20table%20%3D%20%27%3Ctable%3E%27%20%2B%0A%20%20%20%20%20%20%20%20String%28%0A%20%20%20%20%20%20%20%20fields.map%28%0A%20%20%20%20%20%20%20%20%28v%2Ci%29%3D%3E%0A%20%20%20%20%20%20%20%20%60%3Ctr%3E%0A%20%20%20%20%20%20%20%20%20%20%20%20%3Cth%3E%24%7Baliases%5Bi%5D%7D%3C/th%3E%0A%20%20%20%20%20%20%20%20%20%20%20%20%0A%20%20%20%20%20%20%20%20%20%20%20%20%3Ctd%3E%24%7BhandleObject%28layer.feature.properties%5Bv%5D%29%7D%3C/td%3E%0A%20%20%20%20%20%20%20%20%3C/tr%3E%60%29.join%28%27%27%29%29%0A%20%20%20%20%2B%27%3C/table%3E%27%3B%0A%20%20%20%20div.innerHTML%3Dtable%3B%0A%20%20%20%20%0A%20%20%20%20return%20div%0A%20%20%20%20%7D%0A%20%20%20%20%2C%7B%22className%22%3A%20%22foliumtooltip%22%2C%20%22sticky%22%3A%20true%7D%29%3B%0A%20%20%20%20%20%20%20%20%20%20%20%20%20%20%20%20%20%20%20%20%20%0A%3C/script%3E onload=\"this.contentDocument.open();this.contentDocument.write(    decodeURIComponent(this.getAttribute('data-html')));this.contentDocument.close();\" allowfullscreen webkitallowfullscreen mozallowfullscreen></iframe></div></div>"
      ],
      "text/plain": [
       "<folium.folium.Map at 0x1c4266b80>"
      ]
     },
     "execution_count": 4,
     "metadata": {},
     "output_type": "execute_result"
    }
   ],
   "source": [
    "sh_gdf.explore()"
   ]
  },
  {
   "cell_type": "code",
   "execution_count": null,
   "metadata": {},
   "outputs": [],
   "source": []
  },
  {
   "cell_type": "code",
   "execution_count": 11,
   "metadata": {},
   "outputs": [
    {
     "data": {
      "text/html": [
       "<div>\n",
       "<style scoped>\n",
       "    .dataframe tbody tr th:only-of-type {\n",
       "        vertical-align: middle;\n",
       "    }\n",
       "\n",
       "    .dataframe tbody tr th {\n",
       "        vertical-align: top;\n",
       "    }\n",
       "\n",
       "    .dataframe thead th {\n",
       "        text-align: right;\n",
       "    }\n",
       "</style>\n",
       "<table border=\"1\" class=\"dataframe\">\n",
       "  <thead>\n",
       "    <tr style=\"text-align: right;\">\n",
       "      <th></th>\n",
       "      <th># number</th>\n",
       "      <th>coord_x</th>\n",
       "      <th>coord_y</th>\n",
       "      <th>evacuation</th>\n",
       "      <th>reward</th>\n",
       "    </tr>\n",
       "  </thead>\n",
       "  <tbody>\n",
       "    <tr>\n",
       "      <th>0</th>\n",
       "      <td>0</td>\n",
       "      <td>367727.69</td>\n",
       "      <td>3713892.68</td>\n",
       "      <td>0</td>\n",
       "      <td>1</td>\n",
       "    </tr>\n",
       "    <tr>\n",
       "      <th>1</th>\n",
       "      <td>1</td>\n",
       "      <td>367727.44</td>\n",
       "      <td>3713901.78</td>\n",
       "      <td>0</td>\n",
       "      <td>1</td>\n",
       "    </tr>\n",
       "    <tr>\n",
       "      <th>2</th>\n",
       "      <td>2</td>\n",
       "      <td>367367.07</td>\n",
       "      <td>3713872.28</td>\n",
       "      <td>0</td>\n",
       "      <td>1</td>\n",
       "    </tr>\n",
       "    <tr>\n",
       "      <th>3</th>\n",
       "      <td>3</td>\n",
       "      <td>367759.24</td>\n",
       "      <td>3713895.07</td>\n",
       "      <td>0</td>\n",
       "      <td>1</td>\n",
       "    </tr>\n",
       "    <tr>\n",
       "      <th>4</th>\n",
       "      <td>4</td>\n",
       "      <td>367729.12</td>\n",
       "      <td>3713860.74</td>\n",
       "      <td>0</td>\n",
       "      <td>1</td>\n",
       "    </tr>\n",
       "  </tbody>\n",
       "</table>\n",
       "</div>"
      ],
      "text/plain": [
       "   # number    coord_x     coord_y   evacuation   reward\n",
       "0         0  367727.69  3713892.68            0        1\n",
       "1         1  367727.44  3713901.78            0        1\n",
       "2         2  367367.07  3713872.28            0        1\n",
       "3         3  367759.24  3713895.07            0        1\n",
       "4         4  367729.12  3713860.74            0        1"
      ]
     },
     "execution_count": 11,
     "metadata": {},
     "output_type": "execute_result"
    }
   ],
   "source": [
    "# Plot shelters\n",
    "import pandas as pd\n",
    "\n",
    "nodesdb = pd.read_csv('../kochi/data/nodesdb.csv')\n",
    "nodesdb.head()"
   ]
  },
  {
   "cell_type": "code",
   "execution_count": 13,
   "metadata": {},
   "outputs": [
    {
     "data": {
      "text/html": [
       "<div>\n",
       "<style scoped>\n",
       "    .dataframe tbody tr th:only-of-type {\n",
       "        vertical-align: middle;\n",
       "    }\n",
       "\n",
       "    .dataframe tbody tr th {\n",
       "        vertical-align: top;\n",
       "    }\n",
       "\n",
       "    .dataframe thead th {\n",
       "        text-align: right;\n",
       "    }\n",
       "</style>\n",
       "<table border=\"1\" class=\"dataframe\">\n",
       "  <thead>\n",
       "    <tr style=\"text-align: right;\">\n",
       "      <th></th>\n",
       "      <th># number</th>\n",
       "      <th>coord_x</th>\n",
       "      <th>coord_y</th>\n",
       "      <th>evacuation</th>\n",
       "      <th>reward</th>\n",
       "    </tr>\n",
       "  </thead>\n",
       "  <tbody>\n",
       "    <tr>\n",
       "      <th>114</th>\n",
       "      <td>114</td>\n",
       "      <td>365122.39</td>\n",
       "      <td>3714074.92</td>\n",
       "      <td>1</td>\n",
       "      <td>1</td>\n",
       "    </tr>\n",
       "    <tr>\n",
       "      <th>158</th>\n",
       "      <td>158</td>\n",
       "      <td>367482.83</td>\n",
       "      <td>3714857.45</td>\n",
       "      <td>1</td>\n",
       "      <td>1</td>\n",
       "    </tr>\n",
       "    <tr>\n",
       "      <th>203</th>\n",
       "      <td>203</td>\n",
       "      <td>367539.75</td>\n",
       "      <td>3713752.54</td>\n",
       "      <td>1</td>\n",
       "      <td>1</td>\n",
       "    </tr>\n",
       "    <tr>\n",
       "      <th>357</th>\n",
       "      <td>357</td>\n",
       "      <td>364246.75</td>\n",
       "      <td>3714552.20</td>\n",
       "      <td>1</td>\n",
       "      <td>1</td>\n",
       "    </tr>\n",
       "    <tr>\n",
       "      <th>358</th>\n",
       "      <td>358</td>\n",
       "      <td>364090.43</td>\n",
       "      <td>3714454.44</td>\n",
       "      <td>1</td>\n",
       "      <td>1</td>\n",
       "    </tr>\n",
       "  </tbody>\n",
       "</table>\n",
       "</div>"
      ],
      "text/plain": [
       "     # number    coord_x     coord_y   evacuation   reward\n",
       "114       114  365122.39  3714074.92            1        1\n",
       "158       158  367482.83  3714857.45            1        1\n",
       "203       203  367539.75  3713752.54            1        1\n",
       "357       357  364246.75  3714552.20            1        1\n",
       "358       358  364090.43  3714454.44            1        1"
      ]
     },
     "execution_count": 13,
     "metadata": {},
     "output_type": "execute_result"
    }
   ],
   "source": [
    "shelter_nodesdb = nodesdb[nodesdb[' evacuation']==1]\n",
    "shelter_nodesdb.head()"
   ]
  },
  {
   "cell_type": "code",
   "execution_count": 14,
   "metadata": {},
   "outputs": [],
   "source": [
    "import geopandas as gpd\n",
    "\n",
    "sh_gdf = gpd.GeoDataFrame(shelter_nodesdb,geometry=gpd.points_from_xy(x=shelter_nodesdb['coord_x'],y=shelter_nodesdb['coord_y']),crs='EPSG:6690')"
   ]
  },
  {
   "cell_type": "code",
   "execution_count": 15,
   "metadata": {},
   "outputs": [
    {
     "data": {
      "text/html": [
       "<div style=\"width:100%;\"><div style=\"position:relative;width:100%;height:0;padding-bottom:60%;\"><span style=\"color:#565656\">Make this Notebook Trusted to load map: File -> Trust Notebook</span><iframe src=\"about:blank\" style=\"position:absolute;width:100%;height:100%;left:0;top:0;border:none !important;\" data-html=%3C%21DOCTYPE%20html%3E%0A%3Chead%3E%20%20%20%20%0A%20%20%20%20%3Cmeta%20http-equiv%3D%22content-type%22%20content%3D%22text/html%3B%20charset%3DUTF-8%22%20/%3E%0A%20%20%20%20%0A%20%20%20%20%20%20%20%20%3Cscript%3E%0A%20%20%20%20%20%20%20%20%20%20%20%20L_NO_TOUCH%20%3D%20false%3B%0A%20%20%20%20%20%20%20%20%20%20%20%20L_DISABLE_3D%20%3D%20false%3B%0A%20%20%20%20%20%20%20%20%3C/script%3E%0A%20%20%20%20%0A%20%20%20%20%3Cstyle%3Ehtml%2C%20body%20%7Bwidth%3A%20100%25%3Bheight%3A%20100%25%3Bmargin%3A%200%3Bpadding%3A%200%3B%7D%3C/style%3E%0A%20%20%20%20%3Cstyle%3E%23map%20%7Bposition%3Aabsolute%3Btop%3A0%3Bbottom%3A0%3Bright%3A0%3Bleft%3A0%3B%7D%3C/style%3E%0A%20%20%20%20%3Cscript%20src%3D%22https%3A//cdn.jsdelivr.net/npm/leaflet%401.6.0/dist/leaflet.js%22%3E%3C/script%3E%0A%20%20%20%20%3Cscript%20src%3D%22https%3A//code.jquery.com/jquery-1.12.4.min.js%22%3E%3C/script%3E%0A%20%20%20%20%3Cscript%20src%3D%22https%3A//maxcdn.bootstrapcdn.com/bootstrap/3.2.0/js/bootstrap.min.js%22%3E%3C/script%3E%0A%20%20%20%20%3Cscript%20src%3D%22https%3A//cdnjs.cloudflare.com/ajax/libs/Leaflet.awesome-markers/2.0.2/leaflet.awesome-markers.js%22%3E%3C/script%3E%0A%20%20%20%20%3Clink%20rel%3D%22stylesheet%22%20href%3D%22https%3A//cdn.jsdelivr.net/npm/leaflet%401.6.0/dist/leaflet.css%22/%3E%0A%20%20%20%20%3Clink%20rel%3D%22stylesheet%22%20href%3D%22https%3A//maxcdn.bootstrapcdn.com/bootstrap/3.2.0/css/bootstrap.min.css%22/%3E%0A%20%20%20%20%3Clink%20rel%3D%22stylesheet%22%20href%3D%22https%3A//maxcdn.bootstrapcdn.com/bootstrap/3.2.0/css/bootstrap-theme.min.css%22/%3E%0A%20%20%20%20%3Clink%20rel%3D%22stylesheet%22%20href%3D%22https%3A//maxcdn.bootstrapcdn.com/font-awesome/4.6.3/css/font-awesome.min.css%22/%3E%0A%20%20%20%20%3Clink%20rel%3D%22stylesheet%22%20href%3D%22https%3A//cdnjs.cloudflare.com/ajax/libs/Leaflet.awesome-markers/2.0.2/leaflet.awesome-markers.css%22/%3E%0A%20%20%20%20%3Clink%20rel%3D%22stylesheet%22%20href%3D%22https%3A//cdn.jsdelivr.net/gh/python-visualization/folium/folium/templates/leaflet.awesome.rotate.min.css%22/%3E%0A%20%20%20%20%0A%20%20%20%20%20%20%20%20%20%20%20%20%3Cmeta%20name%3D%22viewport%22%20content%3D%22width%3Ddevice-width%2C%0A%20%20%20%20%20%20%20%20%20%20%20%20%20%20%20%20initial-scale%3D1.0%2C%20maximum-scale%3D1.0%2C%20user-scalable%3Dno%22%20/%3E%0A%20%20%20%20%20%20%20%20%20%20%20%20%3Cstyle%3E%0A%20%20%20%20%20%20%20%20%20%20%20%20%20%20%20%20%23map_ebeabd74869e42c09185b1511b336db0%20%7B%0A%20%20%20%20%20%20%20%20%20%20%20%20%20%20%20%20%20%20%20%20position%3A%20relative%3B%0A%20%20%20%20%20%20%20%20%20%20%20%20%20%20%20%20%20%20%20%20width%3A%20100.0%25%3B%0A%20%20%20%20%20%20%20%20%20%20%20%20%20%20%20%20%20%20%20%20height%3A%20100.0%25%3B%0A%20%20%20%20%20%20%20%20%20%20%20%20%20%20%20%20%20%20%20%20left%3A%200.0%25%3B%0A%20%20%20%20%20%20%20%20%20%20%20%20%20%20%20%20%20%20%20%20top%3A%200.0%25%3B%0A%20%20%20%20%20%20%20%20%20%20%20%20%20%20%20%20%7D%0A%20%20%20%20%20%20%20%20%20%20%20%20%3C/style%3E%0A%20%20%20%20%20%20%20%20%0A%20%20%20%20%0A%20%20%20%20%20%20%20%20%20%20%20%20%20%20%20%20%20%20%20%20%3Cstyle%3E%0A%20%20%20%20%20%20%20%20%20%20%20%20%20%20%20%20%20%20%20%20%20%20%20%20.foliumtooltip%20%7B%0A%20%20%20%20%20%20%20%20%20%20%20%20%20%20%20%20%20%20%20%20%20%20%20%20%20%20%20%20%0A%20%20%20%20%20%20%20%20%20%20%20%20%20%20%20%20%20%20%20%20%20%20%20%20%7D%0A%20%20%20%20%20%20%20%20%20%20%20%20%20%20%20%20%20%20%20%20%20%20%20.foliumtooltip%20table%7B%0A%20%20%20%20%20%20%20%20%20%20%20%20%20%20%20%20%20%20%20%20%20%20%20%20%20%20%20%20margin%3A%20auto%3B%0A%20%20%20%20%20%20%20%20%20%20%20%20%20%20%20%20%20%20%20%20%20%20%20%20%7D%0A%20%20%20%20%20%20%20%20%20%20%20%20%20%20%20%20%20%20%20%20%20%20%20%20.foliumtooltip%20tr%7B%0A%20%20%20%20%20%20%20%20%20%20%20%20%20%20%20%20%20%20%20%20%20%20%20%20%20%20%20%20text-align%3A%20left%3B%0A%20%20%20%20%20%20%20%20%20%20%20%20%20%20%20%20%20%20%20%20%20%20%20%20%7D%0A%20%20%20%20%20%20%20%20%20%20%20%20%20%20%20%20%20%20%20%20%20%20%20%20.foliumtooltip%20th%7B%0A%20%20%20%20%20%20%20%20%20%20%20%20%20%20%20%20%20%20%20%20%20%20%20%20%20%20%20%20padding%3A%202px%3B%20padding-right%3A%208px%3B%0A%20%20%20%20%20%20%20%20%20%20%20%20%20%20%20%20%20%20%20%20%20%20%20%20%7D%0A%20%20%20%20%20%20%20%20%20%20%20%20%20%20%20%20%20%20%20%20%3C/style%3E%0A%20%20%20%20%20%20%20%20%20%20%20%20%0A%3C/head%3E%0A%3Cbody%3E%20%20%20%20%0A%20%20%20%20%0A%20%20%20%20%20%20%20%20%20%20%20%20%3Cdiv%20class%3D%22folium-map%22%20id%3D%22map_ebeabd74869e42c09185b1511b336db0%22%20%3E%3C/div%3E%0A%20%20%20%20%20%20%20%20%0A%3C/body%3E%0A%3Cscript%3E%20%20%20%20%0A%20%20%20%20%0A%20%20%20%20%20%20%20%20%20%20%20%20var%20map_ebeabd74869e42c09185b1511b336db0%20%3D%20L.map%28%0A%20%20%20%20%20%20%20%20%20%20%20%20%20%20%20%20%22map_ebeabd74869e42c09185b1511b336db0%22%2C%0A%20%20%20%20%20%20%20%20%20%20%20%20%20%20%20%20%7B%0A%20%20%20%20%20%20%20%20%20%20%20%20%20%20%20%20%20%20%20%20center%3A%20%5B33.56064313371806%2C%20133.53554404048234%5D%2C%0A%20%20%20%20%20%20%20%20%20%20%20%20%20%20%20%20%20%20%20%20crs%3A%20L.CRS.EPSG3857%2C%0A%20%20%20%20%20%20%20%20%20%20%20%20%20%20%20%20%20%20%20%20zoom%3A%2010%2C%0A%20%20%20%20%20%20%20%20%20%20%20%20%20%20%20%20%20%20%20%20zoomControl%3A%20true%2C%0A%20%20%20%20%20%20%20%20%20%20%20%20%20%20%20%20%20%20%20%20preferCanvas%3A%20false%2C%0A%20%20%20%20%20%20%20%20%20%20%20%20%20%20%20%20%7D%0A%20%20%20%20%20%20%20%20%20%20%20%20%29%3B%0A%20%20%20%20%20%20%20%20%20%20%20%20L.control.scale%28%29.addTo%28map_ebeabd74869e42c09185b1511b336db0%29%3B%0A%0A%20%20%20%20%20%20%20%20%20%20%20%20%0A%0A%20%20%20%20%20%20%20%20%0A%20%20%20%20%0A%20%20%20%20%20%20%20%20%20%20%20%20var%20tile_layer_31c77c5c1f664544a24420fec4c7c4ff%20%3D%20L.tileLayer%28%0A%20%20%20%20%20%20%20%20%20%20%20%20%20%20%20%20%22https%3A//%7Bs%7D.tile.openstreetmap.org/%7Bz%7D/%7Bx%7D/%7By%7D.png%22%2C%0A%20%20%20%20%20%20%20%20%20%20%20%20%20%20%20%20%7B%22attribution%22%3A%20%22Data%20by%20%5Cu0026copy%3B%20%5Cu003ca%20href%3D%5C%22http%3A//openstreetmap.org%5C%22%5Cu003eOpenStreetMap%5Cu003c/a%5Cu003e%2C%20under%20%5Cu003ca%20href%3D%5C%22http%3A//www.openstreetmap.org/copyright%5C%22%5Cu003eODbL%5Cu003c/a%5Cu003e.%22%2C%20%22detectRetina%22%3A%20false%2C%20%22maxNativeZoom%22%3A%2018%2C%20%22maxZoom%22%3A%2018%2C%20%22minZoom%22%3A%200%2C%20%22noWrap%22%3A%20false%2C%20%22opacity%22%3A%201%2C%20%22subdomains%22%3A%20%22abc%22%2C%20%22tms%22%3A%20false%7D%0A%20%20%20%20%20%20%20%20%20%20%20%20%29.addTo%28map_ebeabd74869e42c09185b1511b336db0%29%3B%0A%20%20%20%20%20%20%20%20%0A%20%20%20%20%0A%20%20%20%20%20%20%20%20%20%20%20%20map_ebeabd74869e42c09185b1511b336db0.fitBounds%28%0A%20%20%20%20%20%20%20%20%20%20%20%20%20%20%20%20%5B%5B33.55114542221938%2C%20133.49799824780874%5D%2C%20%5B33.570140845216734%2C%20133.57308983315593%5D%5D%2C%0A%20%20%20%20%20%20%20%20%20%20%20%20%20%20%20%20%7B%7D%0A%20%20%20%20%20%20%20%20%20%20%20%20%29%3B%0A%20%20%20%20%20%20%20%20%0A%20%20%20%20%0A%20%20%20%20%20%20%20%20function%20geo_json_5d90649b339045d8bf1b08a64fff1112_styler%28feature%29%20%7B%0A%20%20%20%20%20%20%20%20%20%20%20%20switch%28feature.id%29%20%7B%0A%20%20%20%20%20%20%20%20%20%20%20%20%20%20%20%20default%3A%0A%20%20%20%20%20%20%20%20%20%20%20%20%20%20%20%20%20%20%20%20return%20%7B%22fillOpacity%22%3A%200.5%2C%20%22weight%22%3A%202%7D%3B%0A%20%20%20%20%20%20%20%20%20%20%20%20%7D%0A%20%20%20%20%20%20%20%20%7D%0A%20%20%20%20%20%20%20%20function%20geo_json_5d90649b339045d8bf1b08a64fff1112_highlighter%28feature%29%20%7B%0A%20%20%20%20%20%20%20%20%20%20%20%20switch%28feature.id%29%20%7B%0A%20%20%20%20%20%20%20%20%20%20%20%20%20%20%20%20default%3A%0A%20%20%20%20%20%20%20%20%20%20%20%20%20%20%20%20%20%20%20%20return%20%7B%22fillOpacity%22%3A%200.75%7D%3B%0A%20%20%20%20%20%20%20%20%20%20%20%20%7D%0A%20%20%20%20%20%20%20%20%7D%0A%20%20%20%20%20%20%20%20function%20geo_json_5d90649b339045d8bf1b08a64fff1112_pointToLayer%28feature%2C%20latlng%29%20%7B%0A%20%20%20%20%20%20%20%20%20%20%20%20var%20opts%20%3D%20%7B%22bubblingMouseEvents%22%3A%20true%2C%20%22color%22%3A%20%22%233388ff%22%2C%20%22dashArray%22%3A%20null%2C%20%22dashOffset%22%3A%20null%2C%20%22fill%22%3A%20true%2C%20%22fillColor%22%3A%20%22%233388ff%22%2C%20%22fillOpacity%22%3A%200.2%2C%20%22fillRule%22%3A%20%22evenodd%22%2C%20%22lineCap%22%3A%20%22round%22%2C%20%22lineJoin%22%3A%20%22round%22%2C%20%22opacity%22%3A%201.0%2C%20%22radius%22%3A%202%2C%20%22stroke%22%3A%20true%2C%20%22weight%22%3A%203%7D%3B%0A%20%20%20%20%20%20%20%20%20%20%20%20%0A%20%20%20%20%20%20%20%20%20%20%20%20let%20style%20%3D%20geo_json_5d90649b339045d8bf1b08a64fff1112_styler%28feature%29%0A%20%20%20%20%20%20%20%20%20%20%20%20Object.assign%28opts%2C%20style%29%0A%20%20%20%20%20%20%20%20%20%20%20%20%0A%20%20%20%20%20%20%20%20%20%20%20%20return%20new%20L.CircleMarker%28latlng%2C%20opts%29%0A%20%20%20%20%20%20%20%20%7D%0A%0A%20%20%20%20%20%20%20%20function%20geo_json_5d90649b339045d8bf1b08a64fff1112_onEachFeature%28feature%2C%20layer%29%20%7B%0A%20%20%20%20%20%20%20%20%20%20%20%20layer.on%28%7B%0A%20%20%20%20%20%20%20%20%20%20%20%20%20%20%20%20mouseout%3A%20function%28e%29%20%7B%0A%20%20%20%20%20%20%20%20%20%20%20%20%20%20%20%20%20%20%20%20if%28typeof%20e.target.setStyle%20%3D%3D%3D%20%22function%22%29%7B%0A%20%20%20%20%20%20%20%20%20%20%20%20%20%20%20%20%20%20%20%20%20%20%20%20geo_json_5d90649b339045d8bf1b08a64fff1112.resetStyle%28e.target%29%3B%0A%20%20%20%20%20%20%20%20%20%20%20%20%20%20%20%20%20%20%20%20%7D%0A%20%20%20%20%20%20%20%20%20%20%20%20%20%20%20%20%7D%2C%0A%20%20%20%20%20%20%20%20%20%20%20%20%20%20%20%20mouseover%3A%20function%28e%29%20%7B%0A%20%20%20%20%20%20%20%20%20%20%20%20%20%20%20%20%20%20%20%20if%28typeof%20e.target.setStyle%20%3D%3D%3D%20%22function%22%29%7B%0A%20%20%20%20%20%20%20%20%20%20%20%20%20%20%20%20%20%20%20%20%20%20%20%20const%20highlightStyle%20%3D%20geo_json_5d90649b339045d8bf1b08a64fff1112_highlighter%28e.target.feature%29%0A%20%20%20%20%20%20%20%20%20%20%20%20%20%20%20%20%20%20%20%20%20%20%20%20e.target.setStyle%28highlightStyle%29%3B%0A%20%20%20%20%20%20%20%20%20%20%20%20%20%20%20%20%20%20%20%20%7D%0A%20%20%20%20%20%20%20%20%20%20%20%20%20%20%20%20%7D%2C%0A%20%20%20%20%20%20%20%20%20%20%20%20%7D%29%3B%0A%20%20%20%20%20%20%20%20%7D%3B%0A%20%20%20%20%20%20%20%20var%20geo_json_5d90649b339045d8bf1b08a64fff1112%20%3D%20L.geoJson%28null%2C%20%7B%0A%20%20%20%20%20%20%20%20%20%20%20%20%20%20%20%20onEachFeature%3A%20geo_json_5d90649b339045d8bf1b08a64fff1112_onEachFeature%2C%0A%20%20%20%20%20%20%20%20%20%20%20%20%0A%20%20%20%20%20%20%20%20%20%20%20%20%20%20%20%20style%3A%20geo_json_5d90649b339045d8bf1b08a64fff1112_styler%2C%0A%20%20%20%20%20%20%20%20%20%20%20%20%20%20%20%20pointToLayer%3A%20geo_json_5d90649b339045d8bf1b08a64fff1112_pointToLayer%0A%20%20%20%20%20%20%20%20%7D%29%3B%0A%0A%20%20%20%20%20%20%20%20function%20geo_json_5d90649b339045d8bf1b08a64fff1112_add%20%28data%29%20%7B%0A%20%20%20%20%20%20%20%20%20%20%20%20geo_json_5d90649b339045d8bf1b08a64fff1112%0A%20%20%20%20%20%20%20%20%20%20%20%20%20%20%20%20.addData%28data%29%0A%20%20%20%20%20%20%20%20%20%20%20%20%20%20%20%20.addTo%28map_ebeabd74869e42c09185b1511b336db0%29%3B%0A%20%20%20%20%20%20%20%20%7D%0A%20%20%20%20%20%20%20%20%20%20%20%20geo_json_5d90649b339045d8bf1b08a64fff1112_add%28%7B%22bbox%22%3A%20%5B133.49799824780874%2C%2033.55114542221938%2C%20133.57308983315593%2C%2033.570140845216734%5D%2C%20%22features%22%3A%20%5B%7B%22bbox%22%3A%20%5B133.54700771177679%2C%2033.55781757713689%2C%20133.54700771177679%2C%2033.55781757713689%5D%2C%20%22geometry%22%3A%20%7B%22coordinates%22%3A%20%5B133.54700771177679%2C%2033.55781757713689%5D%2C%20%22type%22%3A%20%22Point%22%7D%2C%20%22id%22%3A%20%22114%22%2C%20%22properties%22%3A%20%7B%22%20evacuation%22%3A%201%2C%20%22%20reward%22%3A%201%2C%20%22%23%20number%22%3A%20114%2C%20%22coord_x%22%3A%20365122.39%2C%20%22coord_y%22%3A%203714074.92%7D%2C%20%22type%22%3A%20%22Feature%22%7D%2C%20%7B%22bbox%22%3A%20%5B133.57231289068386%2C%2033.565169265634616%2C%20133.57231289068386%2C%2033.565169265634616%5D%2C%20%22geometry%22%3A%20%7B%22coordinates%22%3A%20%5B133.57231289068386%2C%2033.565169265634616%5D%2C%20%22type%22%3A%20%22Point%22%7D%2C%20%22id%22%3A%20%22158%22%2C%20%22properties%22%3A%20%7B%22%20evacuation%22%3A%201%2C%20%22%20reward%22%3A%201%2C%20%22%23%20number%22%3A%20158%2C%20%22coord_x%22%3A%20367482.83%2C%20%22coord_y%22%3A%203714857.45%7D%2C%20%22type%22%3A%20%22Feature%22%7D%2C%20%7B%22bbox%22%3A%20%5B133.57308983315593%2C%2033.55521363033084%2C%20133.57308983315593%2C%2033.55521363033084%5D%2C%20%22geometry%22%3A%20%7B%22coordinates%22%3A%20%5B133.57308983315593%2C%2033.55521363033084%5D%2C%20%22type%22%3A%20%22Point%22%7D%2C%20%22id%22%3A%20%22203%22%2C%20%22properties%22%3A%20%7B%22%20evacuation%22%3A%201%2C%20%22%20reward%22%3A%201%2C%20%22%23%20number%22%3A%20203%2C%20%22coord_x%22%3A%20367539.75%2C%20%22coord_y%22%3A%203713752.54%7D%2C%20%22type%22%3A%20%22Feature%22%7D%2C%20%7B%22bbox%22%3A%20%5B133.53750485541877%2C%2033.56200996681516%2C%20133.53750485541877%2C%2033.56200996681516%5D%2C%20%22geometry%22%3A%20%7B%22coordinates%22%3A%20%5B133.53750485541877%2C%2033.56200996681516%5D%2C%20%22type%22%3A%20%22Point%22%7D%2C%20%22id%22%3A%20%22357%22%2C%20%22properties%22%3A%20%7B%22%20evacuation%22%3A%201%2C%20%22%20reward%22%3A%201%2C%20%22%23%20number%22%3A%20357%2C%20%22coord_x%22%3A%20364246.75%2C%20%22coord_y%22%3A%203714552.2%7D%2C%20%22type%22%3A%20%22Feature%22%7D%2C%20%7B%22bbox%22%3A%20%5B133.53583614813894%2C%2033.56110859771748%2C%20133.53583614813894%2C%2033.56110859771748%5D%2C%20%22geometry%22%3A%20%7B%22coordinates%22%3A%20%5B133.53583614813894%2C%2033.56110859771748%5D%2C%20%22type%22%3A%20%22Point%22%7D%2C%20%22id%22%3A%20%22358%22%2C%20%22properties%22%3A%20%7B%22%20evacuation%22%3A%201%2C%20%22%20reward%22%3A%201%2C%20%22%23%20number%22%3A%20358%2C%20%22coord_x%22%3A%20364090.43%2C%20%22coord_y%22%3A%203714454.44%7D%2C%20%22type%22%3A%20%22Feature%22%7D%2C%20%7B%22bbox%22%3A%20%5B133.5458994352995%2C%2033.56140832542432%2C%20133.5458994352995%2C%2033.56140832542432%5D%2C%20%22geometry%22%3A%20%7B%22coordinates%22%3A%20%5B133.5458994352995%2C%2033.56140832542432%5D%2C%20%22type%22%3A%20%22Point%22%7D%2C%20%22id%22%3A%20%22440%22%2C%20%22properties%22%3A%20%7B%22%20evacuation%22%3A%201%2C%20%22%20reward%22%3A%201%2C%20%22%23%20number%22%3A%20440%2C%20%22coord_x%22%3A%20365025.09%2C%20%22coord_y%22%3A%203714474.52%7D%2C%20%22type%22%3A%20%22Feature%22%7D%2C%20%7B%22bbox%22%3A%20%5B133.52351290624907%2C%2033.55974886808373%2C%20133.52351290624907%2C%2033.55974886808373%5D%2C%20%22geometry%22%3A%20%7B%22coordinates%22%3A%20%5B133.52351290624907%2C%2033.55974886808373%5D%2C%20%22type%22%3A%20%22Point%22%7D%2C%20%22id%22%3A%20%22548%22%2C%20%22properties%22%3A%20%7B%22%20evacuation%22%3A%201%2C%20%22%20reward%22%3A%201%2C%20%22%23%20number%22%3A%20548%2C%20%22coord_x%22%3A%20362944.29%2C%20%22coord_y%22%3A%203714319.9%7D%2C%20%22type%22%3A%20%22Feature%22%7D%2C%20%7B%22bbox%22%3A%20%5B133.53586182281853%2C%2033.56606523667482%2C%20133.53586182281853%2C%2033.56606523667482%5D%2C%20%22geometry%22%3A%20%7B%22coordinates%22%3A%20%5B133.53586182281853%2C%2033.56606523667482%5D%2C%20%22type%22%3A%20%22Point%22%7D%2C%20%22id%22%3A%20%22588%22%2C%20%22properties%22%3A%20%7B%22%20evacuation%22%3A%201%2C%20%22%20reward%22%3A%201%2C%20%22%23%20number%22%3A%20588%2C%20%22coord_x%22%3A%20364100.58%2C%20%22coord_y%22%3A%203715004.02%7D%2C%20%22type%22%3A%20%22Feature%22%7D%2C%20%7B%22bbox%22%3A%20%5B133.50761149183754%2C%2033.55648478564479%2C%20133.50761149183754%2C%2033.55648478564479%5D%2C%20%22geometry%22%3A%20%7B%22coordinates%22%3A%20%5B133.50761149183754%2C%2033.55648478564479%5D%2C%20%22type%22%3A%20%22Point%22%7D%2C%20%22id%22%3A%20%22726%22%2C%20%22properties%22%3A%20%7B%22%20evacuation%22%3A%201%2C%20%22%20reward%22%3A%201%2C%20%22%23%20number%22%3A%20726%2C%20%22coord_x%22%3A%20361462.89%2C%20%22coord_y%22%3A%203713979.11%7D%2C%20%22type%22%3A%20%22Feature%22%7D%2C%20%7B%22bbox%22%3A%20%5B133.52361501829515%2C%2033.556622236784484%2C%20133.52361501829515%2C%2033.556622236784484%5D%2C%20%22geometry%22%3A%20%7B%22coordinates%22%3A%20%5B133.52361501829515%2C%2033.556622236784484%5D%2C%20%22type%22%3A%20%22Point%22%7D%2C%20%22id%22%3A%20%22734%22%2C%20%22properties%22%3A%20%7B%22%20evacuation%22%3A%201%2C%20%22%20reward%22%3A%201%2C%20%22%23%20number%22%3A%20734%2C%20%22coord_x%22%3A%20362948.83%2C%20%22coord_y%22%3A%203713973.07%7D%2C%20%22type%22%3A%20%22Feature%22%7D%2C%20%7B%22bbox%22%3A%20%5B133.53015599567183%2C%2033.565952690875044%2C%20133.53015599567183%2C%2033.565952690875044%5D%2C%20%22geometry%22%3A%20%7B%22coordinates%22%3A%20%5B133.53015599567183%2C%2033.565952690875044%5D%2C%20%22type%22%3A%20%22Point%22%7D%2C%20%22id%22%3A%20%22769%22%2C%20%22properties%22%3A%20%7B%22%20evacuation%22%3A%201%2C%20%22%20reward%22%3A%201%2C%20%22%23%20number%22%3A%20769%2C%20%22coord_x%22%3A%20363570.75%2C%20%22coord_y%22%3A%203714999.04%7D%2C%20%22type%22%3A%20%22Feature%22%7D%2C%20%7B%22bbox%22%3A%20%5B133.52541703181583%2C%2033.563622872195054%2C%20133.52541703181583%2C%2033.563622872195054%5D%2C%20%22geometry%22%3A%20%7B%22coordinates%22%3A%20%5B133.52541703181583%2C%2033.563622872195054%5D%2C%20%22type%22%3A%20%22Point%22%7D%2C%20%22id%22%3A%20%22782%22%2C%20%22properties%22%3A%20%7B%22%20evacuation%22%3A%201%2C%20%22%20reward%22%3A%201%2C%20%22%23%20number%22%3A%20782%2C%20%22coord_x%22%3A%20363127.17%2C%20%22coord_y%22%3A%203714746.95%7D%2C%20%22type%22%3A%20%22Feature%22%7D%2C%20%7B%22bbox%22%3A%20%5B133.52771785780482%2C%2033.555990668277225%2C%20133.52771785780482%2C%2033.555990668277225%5D%2C%20%22geometry%22%3A%20%7B%22coordinates%22%3A%20%5B133.52771785780482%2C%2033.555990668277225%5D%2C%20%22type%22%3A%20%22Point%22%7D%2C%20%22id%22%3A%20%22922%22%2C%20%22properties%22%3A%20%7B%22%20evacuation%22%3A%201%2C%20%22%20reward%22%3A%201%2C%20%22%23%20number%22%3A%20922%2C%20%22coord_x%22%3A%20363328.73%2C%20%22coord_y%22%3A%203713897.62%7D%2C%20%22type%22%3A%20%22Feature%22%7D%2C%20%7B%22bbox%22%3A%20%5B133.52463162979578%2C%2033.56068938940569%2C%20133.52463162979578%2C%2033.56068938940569%5D%2C%20%22geometry%22%3A%20%7B%22coordinates%22%3A%20%5B133.52463162979578%2C%2033.56068938940569%5D%2C%20%22type%22%3A%20%22Point%22%7D%2C%20%22id%22%3A%20%221050%22%2C%20%22properties%22%3A%20%7B%22%20evacuation%22%3A%201%2C%20%22%20reward%22%3A%201%2C%20%22%23%20number%22%3A%201050%2C%20%22coord_x%22%3A%20363049.63%2C%20%22coord_y%22%3A%203714422.71%7D%2C%20%22type%22%3A%20%22Feature%22%7D%2C%20%7B%22bbox%22%3A%20%5B133.51810849664452%2C%2033.568331189527974%2C%20133.51810849664452%2C%2033.568331189527974%5D%2C%20%22geometry%22%3A%20%7B%22coordinates%22%3A%20%5B133.51810849664452%2C%2033.568331189527974%5D%2C%20%22type%22%3A%20%22Point%22%7D%2C%20%22id%22%3A%20%221057%22%2C%20%22properties%22%3A%20%7B%22%20evacuation%22%3A%201%2C%20%22%20reward%22%3A%201%2C%20%22%23%20number%22%3A%201057%2C%20%22coord_x%22%3A%20362456.19%2C%20%22coord_y%22%3A%203715278.71%7D%2C%20%22type%22%3A%20%22Feature%22%7D%2C%20%7B%22bbox%22%3A%20%5B133.51785441886227%2C%2033.56116620412897%2C%20133.51785441886227%2C%2033.56116620412897%5D%2C%20%22geometry%22%3A%20%7B%22coordinates%22%3A%20%5B133.51785441886227%2C%2033.56116620412897%5D%2C%20%22type%22%3A%20%22Point%22%7D%2C%20%22id%22%3A%20%221063%22%2C%20%22properties%22%3A%20%7B%22%20evacuation%22%3A%201%2C%20%22%20reward%22%3A%201%2C%20%22%23%20number%22%3A%201063%2C%20%22coord_x%22%3A%20362421.24%2C%20%22coord_y%22%3A%203714484.56%7D%2C%20%22type%22%3A%20%22Feature%22%7D%2C%20%7B%22bbox%22%3A%20%5B133.5302285336239%2C%2033.55359653835898%2C%20133.5302285336239%2C%2033.55359653835898%5D%2C%20%22geometry%22%3A%20%7B%22coordinates%22%3A%20%5B133.5302285336239%2C%2033.55359653835898%5D%2C%20%22type%22%3A%20%22Point%22%7D%2C%20%22id%22%3A%20%221157%22%2C%20%22properties%22%3A%20%7B%22%20evacuation%22%3A%201%2C%20%22%20reward%22%3A%201%2C%20%22%23%20number%22%3A%201157%2C%20%22coord_x%22%3A%20363558.05%2C%20%22coord_y%22%3A%203713628.84%7D%2C%20%22type%22%3A%20%22Feature%22%7D%2C%20%7B%22bbox%22%3A%20%5B133.52508386490896%2C%2033.56464771989233%2C%20133.52508386490896%2C%2033.56464771989233%5D%2C%20%22geometry%22%3A%20%7B%22coordinates%22%3A%20%5B133.52508386490896%2C%2033.56464771989233%5D%2C%20%22type%22%3A%20%22Point%22%7D%2C%20%22id%22%3A%20%221223%22%2C%20%22properties%22%3A%20%7B%22%20evacuation%22%3A%201%2C%20%22%20reward%22%3A%201%2C%20%22%23%20number%22%3A%201223%2C%20%22coord_x%22%3A%20363097.86%2C%20%22coord_y%22%3A%203714861.03%7D%2C%20%22type%22%3A%20%22Feature%22%7D%2C%20%7B%22bbox%22%3A%20%5B133.54456376646462%2C%2033.55405739823005%2C%20133.54456376646462%2C%2033.55405739823005%5D%2C%20%22geometry%22%3A%20%7B%22coordinates%22%3A%20%5B133.54456376646462%2C%2033.55405739823005%5D%2C%20%22type%22%3A%20%22Point%22%7D%2C%20%22id%22%3A%20%221318%22%2C%20%22properties%22%3A%20%7B%22%20evacuation%22%3A%201%2C%20%22%20reward%22%3A%201%2C%20%22%23%20number%22%3A%201318%2C%20%22coord_x%22%3A%20364889.65%2C%20%22coord_y%22%3A%203713661.16%7D%2C%20%22type%22%3A%20%22Feature%22%7D%2C%20%7B%22bbox%22%3A%20%5B133.5378211118628%2C%2033.56881024475407%2C%20133.5378211118628%2C%2033.56881024475407%5D%2C%20%22geometry%22%3A%20%7B%22coordinates%22%3A%20%5B133.5378211118628%2C%2033.56881024475407%5D%2C%20%22type%22%3A%20%22Point%22%7D%2C%20%22id%22%3A%20%221381%22%2C%20%22properties%22%3A%20%7B%22%20evacuation%22%3A%201%2C%20%22%20reward%22%3A%201%2C%20%22%23%20number%22%3A%201381%2C%20%22coord_x%22%3A%20364286.75%2C%20%22coord_y%22%3A%203715305.83%7D%2C%20%22type%22%3A%20%22Feature%22%7D%2C%20%7B%22bbox%22%3A%20%5B133.53366951277565%2C%2033.563391929749045%2C%20133.53366951277565%2C%2033.563391929749045%5D%2C%20%22geometry%22%3A%20%7B%22coordinates%22%3A%20%5B133.53366951277565%2C%2033.563391929749045%5D%2C%20%22type%22%3A%20%22Point%22%7D%2C%20%22id%22%3A%20%221387%22%2C%20%22properties%22%3A%20%7B%22%20evacuation%22%3A%201%2C%20%22%20reward%22%3A%201%2C%20%22%23%20number%22%3A%201387%2C%20%22coord_x%22%3A%20363892.88%2C%20%22coord_y%22%3A%203714710.47%7D%2C%20%22type%22%3A%20%22Feature%22%7D%2C%20%7B%22bbox%22%3A%20%5B133.5121076646253%2C%2033.56872958544266%2C%20133.5121076646253%2C%2033.56872958544266%5D%2C%20%22geometry%22%3A%20%7B%22coordinates%22%3A%20%5B133.5121076646253%2C%2033.56872958544266%5D%2C%20%22type%22%3A%20%22Point%22%7D%2C%20%22id%22%3A%20%221426%22%2C%20%22properties%22%3A%20%7B%22%20evacuation%22%3A%201%2C%20%22%20reward%22%3A%201%2C%20%22%23%20number%22%3A%201426%2C%20%22coord_x%22%3A%20361899.8%2C%20%22coord_y%22%3A%203715330.87%7D%2C%20%22type%22%3A%20%22Feature%22%7D%2C%20%7B%22bbox%22%3A%20%5B133.53472764625775%2C%2033.570140845216734%2C%20133.53472764625775%2C%2033.570140845216734%5D%2C%20%22geometry%22%3A%20%7B%22coordinates%22%3A%20%5B133.53472764625775%2C%2033.570140845216734%5D%2C%20%22type%22%3A%20%22Point%22%7D%2C%20%22id%22%3A%20%221466%22%2C%20%22properties%22%3A%20%7B%22%20evacuation%22%3A%201%2C%20%22%20reward%22%3A%201%2C%20%22%23%20number%22%3A%201466%2C%20%22coord_x%22%3A%20364001.69%2C%20%22coord_y%22%3A%203715457.43%7D%2C%20%22type%22%3A%20%22Feature%22%7D%2C%20%7B%22bbox%22%3A%20%5B133.50511227254978%2C%2033.55178996559289%2C%20133.50511227254978%2C%2033.55178996559289%5D%2C%20%22geometry%22%3A%20%7B%22coordinates%22%3A%20%5B133.50511227254978%2C%2033.55178996559289%5D%2C%20%22type%22%3A%20%22Point%22%7D%2C%20%22id%22%3A%20%221631%22%2C%20%22properties%22%3A%20%7B%22%20evacuation%22%3A%201%2C%20%22%20reward%22%3A%201%2C%20%22%23%20number%22%3A%201631%2C%20%22coord_x%22%3A%20361223.36%2C%20%22coord_y%22%3A%203713461.87%7D%2C%20%22type%22%3A%20%22Feature%22%7D%2C%20%7B%22bbox%22%3A%20%5B133.51102742909222%2C%2033.554955464889076%2C%20133.51102742909222%2C%2033.554955464889076%5D%2C%20%22geometry%22%3A%20%7B%22coordinates%22%3A%20%5B133.51102742909222%2C%2033.554955464889076%5D%2C%20%22type%22%3A%20%22Point%22%7D%2C%20%22id%22%3A%20%221666%22%2C%20%22properties%22%3A%20%7B%22%20evacuation%22%3A%201%2C%20%22%20reward%22%3A%201%2C%20%22%23%20number%22%3A%201666%2C%20%22coord_x%22%3A%20361777.58%2C%20%22coord_y%22%3A%203713804.97%7D%2C%20%22type%22%3A%20%22Feature%22%7D%2C%20%7B%22bbox%22%3A%20%5B133.508859000675%2C%2033.55547858023235%2C%20133.508859000675%2C%2033.55547858023235%5D%2C%20%22geometry%22%3A%20%7B%22coordinates%22%3A%20%5B133.508859000675%2C%2033.55547858023235%5D%2C%20%22type%22%3A%20%22Point%22%7D%2C%20%22id%22%3A%20%221683%22%2C%20%22properties%22%3A%20%7B%22%20evacuation%22%3A%201%2C%20%22%20reward%22%3A%201%2C%20%22%23%20number%22%3A%201683%2C%20%22coord_x%22%3A%20361577.1%2C%20%22coord_y%22%3A%203713865.87%7D%2C%20%22type%22%3A%20%22Feature%22%7D%2C%20%7B%22bbox%22%3A%20%5B133.55044226853093%2C%2033.55114542221938%2C%20133.55044226853093%2C%2033.55114542221938%5D%2C%20%22geometry%22%3A%20%7B%22coordinates%22%3A%20%5B133.55044226853093%2C%2033.55114542221938%5D%2C%20%22type%22%3A%20%22Point%22%7D%2C%20%22id%22%3A%20%221785%22%2C%20%22properties%22%3A%20%7B%22%20evacuation%22%3A%201%2C%20%22%20reward%22%3A%201%2C%20%22%23%20number%22%3A%201785%2C%20%22coord_x%22%3A%20365430.89%2C%20%22coord_y%22%3A%203713330.62%7D%2C%20%22type%22%3A%20%22Feature%22%7D%2C%20%7B%22bbox%22%3A%20%5B133.52820673702712%2C%2033.5610028668322%2C%20133.52820673702712%2C%2033.5610028668322%5D%2C%20%22geometry%22%3A%20%7B%22coordinates%22%3A%20%5B133.52820673702712%2C%2033.5610028668322%5D%2C%20%22type%22%3A%20%22Point%22%7D%2C%20%22id%22%3A%20%221999%22%2C%20%22properties%22%3A%20%7B%22%20evacuation%22%3A%201%2C%20%22%20reward%22%3A%201%2C%20%22%23%20number%22%3A%201999%2C%20%22coord_x%22%3A%20363382.01%2C%20%22coord_y%22%3A%203714452.75%7D%2C%20%22type%22%3A%20%22Feature%22%7D%2C%20%7B%22bbox%22%3A%20%5B133.53279153311837%2C%2033.562113356918935%2C%20133.53279153311837%2C%2033.562113356918935%5D%2C%20%22geometry%22%3A%20%7B%22coordinates%22%3A%20%5B133.53279153311837%2C%2033.562113356918935%5D%2C%20%22type%22%3A%20%22Point%22%7D%2C%20%22id%22%3A%20%222170%22%2C%20%22properties%22%3A%20%7B%22%20evacuation%22%3A%201%2C%20%22%20reward%22%3A%201%2C%20%22%23%20number%22%3A%202170%2C%20%22coord_x%22%3A%20363809.37%2C%20%22coord_y%22%3A%203714569.85%7D%2C%20%22type%22%3A%20%22Feature%22%7D%2C%20%7B%22bbox%22%3A%20%5B133.53220425010113%2C%2033.56412380965271%2C%20133.53220425010113%2C%2033.56412380965271%5D%2C%20%22geometry%22%3A%20%7B%22coordinates%22%3A%20%5B133.53220425010113%2C%2033.56412380965271%5D%2C%20%22type%22%3A%20%22Point%22%7D%2C%20%22id%22%3A%20%222172%22%2C%20%22properties%22%3A%20%7B%22%20evacuation%22%3A%201%2C%20%22%20reward%22%3A%201%2C%20%22%23%20number%22%3A%202172%2C%20%22coord_x%22%3A%20363758.01%2C%20%22coord_y%22%3A%203714793.55%7D%2C%20%22type%22%3A%20%22Feature%22%7D%2C%20%7B%22bbox%22%3A%20%5B133.5579110035492%2C%2033.55707282581387%2C%20133.5579110035492%2C%2033.55707282581387%5D%2C%20%22geometry%22%3A%20%7B%22coordinates%22%3A%20%5B133.5579110035492%2C%2033.55707282581387%5D%2C%20%22type%22%3A%20%22Point%22%7D%2C%20%22id%22%3A%20%222250%22%2C%20%22properties%22%3A%20%7B%22%20evacuation%22%3A%201%2C%20%22%20reward%22%3A%201%2C%20%22%23%20number%22%3A%202250%2C%20%22coord_x%22%3A%20366133.45%2C%20%22coord_y%22%3A%203713978.2%7D%2C%20%22type%22%3A%20%22Feature%22%7D%2C%20%7B%22bbox%22%3A%20%5B133.55607982697913%2C%2033.556767937819615%2C%20133.55607982697913%2C%2033.556767937819615%5D%2C%20%22geometry%22%3A%20%7B%22coordinates%22%3A%20%5B133.55607982697913%2C%2033.556767937819615%5D%2C%20%22type%22%3A%20%22Point%22%7D%2C%20%22id%22%3A%20%222252%22%2C%20%22properties%22%3A%20%7B%22%20evacuation%22%3A%201%2C%20%22%20reward%22%3A%201%2C%20%22%23%20number%22%3A%202252%2C%20%22coord_x%22%3A%20365962.98%2C%20%22coord_y%22%3A%203713946.76%7D%2C%20%22type%22%3A%20%22Feature%22%7D%2C%20%7B%22bbox%22%3A%20%5B133.56338518122908%2C%2033.56070923379944%2C%20133.56338518122908%2C%2033.56070923379944%5D%2C%20%22geometry%22%3A%20%7B%22coordinates%22%3A%20%5B133.56338518122908%2C%2033.56070923379944%5D%2C%20%22type%22%3A%20%22Point%22%7D%2C%20%22id%22%3A%20%222404%22%2C%20%22properties%22%3A%20%7B%22%20evacuation%22%3A%201%2C%20%22%20reward%22%3A%201%2C%20%22%23%20number%22%3A%202404%2C%20%22coord_x%22%3A%20366647.24%2C%20%22coord_y%22%3A%203714374.36%7D%2C%20%22type%22%3A%20%22Feature%22%7D%2C%20%7B%22bbox%22%3A%20%5B133.55342164611753%2C%2033.56659702648482%2C%20133.55342164611753%2C%2033.56659702648482%5D%2C%20%22geometry%22%3A%20%7B%22coordinates%22%3A%20%5B133.55342164611753%2C%2033.56659702648482%5D%2C%20%22type%22%3A%20%22Point%22%7D%2C%20%22id%22%3A%20%222542%22%2C%20%22properties%22%3A%20%7B%22%20evacuation%22%3A%201%2C%20%22%20reward%22%3A%201%2C%20%22%23%20number%22%3A%202542%2C%20%22coord_x%22%3A%20365731.42%2C%20%22coord_y%22%3A%203715040.09%7D%2C%20%22type%22%3A%20%22Feature%22%7D%2C%20%7B%22bbox%22%3A%20%5B133.5581340450992%2C%2033.56885729597811%2C%20133.5581340450992%2C%2033.56885729597811%5D%2C%20%22geometry%22%3A%20%7B%22coordinates%22%3A%20%5B133.5581340450992%2C%2033.56885729597811%5D%2C%20%22type%22%3A%20%22Point%22%7D%2C%20%22id%22%3A%20%222630%22%2C%20%22properties%22%3A%20%7B%22%20evacuation%22%3A%201%2C%20%22%20reward%22%3A%201%2C%20%22%23%20number%22%3A%202630%2C%20%22coord_x%22%3A%20366172.34%2C%20%22coord_y%22%3A%203715284.62%7D%2C%20%22type%22%3A%20%22Feature%22%7D%2C%20%7B%22bbox%22%3A%20%5B133.50790479006994%2C%2033.55890930277843%2C%20133.50790479006994%2C%2033.55890930277843%5D%2C%20%22geometry%22%3A%20%7B%22coordinates%22%3A%20%5B133.50790479006994%2C%2033.55890930277843%5D%2C%20%22type%22%3A%20%22Point%22%7D%2C%20%22id%22%3A%20%222960%22%2C%20%22properties%22%3A%20%7B%22%20evacuation%22%3A%201%2C%20%22%20reward%22%3A%201%2C%20%22%23%20number%22%3A%202960%2C%20%22coord_x%22%3A%20361493.99%2C%20%22coord_y%22%3A%203714247.56%7D%2C%20%22type%22%3A%20%22Feature%22%7D%2C%20%7B%22bbox%22%3A%20%5B133.50690691179403%2C%2033.556322885948774%2C%20133.50690691179403%2C%2033.556322885948774%5D%2C%20%22geometry%22%3A%20%7B%22coordinates%22%3A%20%5B133.50690691179403%2C%2033.556322885948774%5D%2C%20%22type%22%3A%20%22Point%22%7D%2C%20%22id%22%3A%20%223044%22%2C%20%22properties%22%3A%20%7B%22%20evacuation%22%3A%201%2C%20%22%20reward%22%3A%201%2C%20%22%23%20number%22%3A%203044%2C%20%22coord_x%22%3A%20361397.22%2C%20%22coord_y%22%3A%203713962.1%7D%2C%20%22type%22%3A%20%22Feature%22%7D%2C%20%7B%22bbox%22%3A%20%5B133.49799824780874%2C%2033.55705029145428%2C%20133.49799824780874%2C%2033.55705029145428%5D%2C%20%22geometry%22%3A%20%7B%22coordinates%22%3A%20%5B133.49799824780874%2C%2033.55705029145428%5D%2C%20%22type%22%3A%20%22Point%22%7D%2C%20%22id%22%3A%20%223105%22%2C%20%22properties%22%3A%20%7B%22%20evacuation%22%3A%201%2C%20%22%20reward%22%3A%201%2C%20%22%23%20number%22%3A%203105%2C%20%22coord_x%22%3A%20360571.33%2C%20%22coord_y%22%3A%203714054.71%7D%2C%20%22type%22%3A%20%22Feature%22%7D%2C%20%7B%22bbox%22%3A%20%5B133.49812337874178%2C%2033.56342372483823%2C%20133.49812337874178%2C%2033.56342372483823%5D%2C%20%22geometry%22%3A%20%7B%22coordinates%22%3A%20%5B133.49812337874178%2C%2033.56342372483823%5D%2C%20%22type%22%3A%20%22Point%22%7D%2C%20%22id%22%3A%20%223174%22%2C%20%22properties%22%3A%20%7B%22%20evacuation%22%3A%201%2C%20%22%20reward%22%3A%201%2C%20%22%23%20number%22%3A%203174%2C%20%22coord_x%22%3A%20360593.19%2C%20%22coord_y%22%3A%203714761.26%7D%2C%20%22type%22%3A%20%22Feature%22%7D%2C%20%7B%22bbox%22%3A%20%5B133.55115029361917%2C%2033.566758310460926%2C%20133.55115029361917%2C%2033.566758310460926%5D%2C%20%22geometry%22%3A%20%7B%22coordinates%22%3A%20%5B133.55115029361917%2C%2033.566758310460926%5D%2C%20%22type%22%3A%20%22Point%22%7D%2C%20%22id%22%3A%20%223365%22%2C%20%22properties%22%3A%20%7B%22%20evacuation%22%3A%201%2C%20%22%20reward%22%3A%201%2C%20%22%23%20number%22%3A%203365%2C%20%22coord_x%22%3A%20365520.83%2C%20%22coord_y%22%3A%203715060.92%7D%2C%20%22type%22%3A%20%22Feature%22%7D%2C%20%7B%22bbox%22%3A%20%5B133.54071732389775%2C%2033.552123923587324%2C%20133.54071732389775%2C%2033.552123923587324%5D%2C%20%22geometry%22%3A%20%7B%22coordinates%22%3A%20%5B133.54071732389775%2C%2033.552123923587324%5D%2C%20%22type%22%3A%20%22Point%22%7D%2C%20%22id%22%3A%20%223372%22%2C%20%22properties%22%3A%20%7B%22%20evacuation%22%3A%201%2C%20%22%20reward%22%3A%201%2C%20%22%23%20number%22%3A%203372%2C%20%22coord_x%22%3A%20364529.53%2C%20%22coord_y%22%3A%203713451.79%7D%2C%20%22type%22%3A%20%22Feature%22%7D%2C%20%7B%22bbox%22%3A%20%5B133.5329248032522%2C%2033.55637300736486%2C%20133.5329248032522%2C%2033.55637300736486%5D%2C%20%22geometry%22%3A%20%7B%22coordinates%22%3A%20%5B133.5329248032522%2C%2033.55637300736486%5D%2C%20%22type%22%3A%20%22Point%22%7D%2C%20%22id%22%3A%20%223381%22%2C%20%22properties%22%3A%20%7B%22%20evacuation%22%3A%201%2C%20%22%20reward%22%3A%201%2C%20%22%23%20number%22%3A%203381%2C%20%22coord_x%22%3A%20363812.73%2C%20%22coord_y%22%3A%203713933.16%7D%2C%20%22type%22%3A%20%22Feature%22%7D%2C%20%7B%22bbox%22%3A%20%5B133.55721094417967%2C%2033.56005283943127%2C%20133.55721094417967%2C%2033.56005283943127%5D%2C%20%22geometry%22%3A%20%7B%22coordinates%22%3A%20%5B133.55721094417967%2C%2033.56005283943127%5D%2C%20%22type%22%3A%20%22Point%22%7D%2C%20%22id%22%3A%20%223614%22%2C%20%22properties%22%3A%20%7B%22%20evacuation%22%3A%201%2C%20%22%20reward%22%3A%201%2C%20%22%23%20number%22%3A%203614%2C%20%22coord_x%22%3A%20366073.06%2C%20%22coord_y%22%3A%203714309.54%7D%2C%20%22type%22%3A%20%22Feature%22%7D%2C%20%7B%22bbox%22%3A%20%5B133.52533480754448%2C%2033.56731861918501%2C%20133.52533480754448%2C%2033.56731861918501%5D%2C%20%22geometry%22%3A%20%7B%22coordinates%22%3A%20%5B133.52533480754448%2C%2033.56731861918501%5D%2C%20%22type%22%3A%20%22Point%22%7D%2C%20%22id%22%3A%20%223769%22%2C%20%22properties%22%3A%20%7B%22%20evacuation%22%3A%201%2C%20%22%20reward%22%3A%201%2C%20%22%23%20number%22%3A%203769%2C%20%22coord_x%22%3A%20363125.37%2C%20%22coord_y%22%3A%203715156.86%7D%2C%20%22type%22%3A%20%22Feature%22%7D%2C%20%7B%22bbox%22%3A%20%5B133.5291461244638%2C%2033.56098039534497%2C%20133.5291461244638%2C%2033.56098039534497%5D%2C%20%22geometry%22%3A%20%7B%22coordinates%22%3A%20%5B133.5291461244638%2C%2033.56098039534497%5D%2C%20%22type%22%3A%20%22Point%22%7D%2C%20%22id%22%3A%20%223787%22%2C%20%22properties%22%3A%20%7B%22%20evacuation%22%3A%201%2C%20%22%20reward%22%3A%201%2C%20%22%23%20number%22%3A%203787%2C%20%22coord_x%22%3A%20363469.18%2C%20%22coord_y%22%3A%203714449.02%7D%2C%20%22type%22%3A%20%22Feature%22%7D%2C%20%7B%22bbox%22%3A%20%5B133.52456486472576%2C%2033.55873097100109%2C%20133.52456486472576%2C%2033.55873097100109%5D%2C%20%22geometry%22%3A%20%7B%22coordinates%22%3A%20%5B133.52456486472576%2C%2033.55873097100109%5D%2C%20%22type%22%3A%20%22Point%22%7D%2C%20%22id%22%3A%20%223790%22%2C%20%22properties%22%3A%20%7B%22%20evacuation%22%3A%201%2C%20%22%20reward%22%3A%201%2C%20%22%23%20number%22%3A%203790%2C%20%22coord_x%22%3A%20363040.34%2C%20%22coord_y%22%3A%203714205.64%7D%2C%20%22type%22%3A%20%22Feature%22%7D%2C%20%7B%22bbox%22%3A%20%5B133.5702713513191%2C%2033.554181590436514%2C%20133.5702713513191%2C%2033.554181590436514%5D%2C%20%22geometry%22%3A%20%7B%22coordinates%22%3A%20%5B133.5702713513191%2C%2033.554181590436514%5D%2C%20%22type%22%3A%20%22Point%22%7D%2C%20%22id%22%3A%20%223802%22%2C%20%22properties%22%3A%20%7B%22%20evacuation%22%3A%201%2C%20%22%20reward%22%3A%201%2C%20%22%23%20number%22%3A%203802%2C%20%22coord_x%22%3A%20367276.51%2C%20%22coord_y%22%3A%203713641.71%7D%2C%20%22type%22%3A%20%22Feature%22%7D%2C%20%7B%22bbox%22%3A%20%5B133.51874671048907%2C%2033.553220684924014%2C%20133.51874671048907%2C%2033.553220684924014%5D%2C%20%22geometry%22%3A%20%7B%22coordinates%22%3A%20%5B133.51874671048907%2C%2033.553220684924014%5D%2C%20%22type%22%3A%20%22Point%22%7D%2C%20%22id%22%3A%20%223890%22%2C%20%22properties%22%3A%20%7B%22%20evacuation%22%3A%201%2C%20%22%20reward%22%3A%201%2C%20%22%23%20number%22%3A%203890%2C%20%22coord_x%22%3A%20362491.48%2C%20%22coord_y%22%3A%203713602.34%7D%2C%20%22type%22%3A%20%22Feature%22%7D%2C%20%7B%22bbox%22%3A%20%5B133.54098909305156%2C%2033.56017498797927%2C%20133.54098909305156%2C%2033.56017498797927%5D%2C%20%22geometry%22%3A%20%7B%22coordinates%22%3A%20%5B133.54098909305156%2C%2033.56017498797927%5D%2C%20%22type%22%3A%20%22Point%22%7D%2C%20%22id%22%3A%20%224064%22%2C%20%22properties%22%3A%20%7B%22%20evacuation%22%3A%201%2C%20%22%20reward%22%3A%201%2C%20%22%23%20number%22%3A%204064%2C%20%22coord_x%22%3A%20364567.33%2C%20%22coord_y%22%3A%203714344.17%7D%2C%20%22type%22%3A%20%22Feature%22%7D%2C%20%7B%22bbox%22%3A%20%5B133.5011275458364%2C%2033.5571411635593%2C%20133.5011275458364%2C%2033.5571411635593%5D%2C%20%22geometry%22%3A%20%7B%22coordinates%22%3A%20%5B133.5011275458364%2C%2033.5571411635593%5D%2C%20%22type%22%3A%20%22Point%22%7D%2C%20%22id%22%3A%20%224089%22%2C%20%22properties%22%3A%20%7B%22%20evacuation%22%3A%201%2C%20%22%20reward%22%3A%201%2C%20%22%23%20number%22%3A%204089%2C%20%22coord_x%22%3A%20360861.99%2C%20%22coord_y%22%3A%203714060.58%7D%2C%20%22type%22%3A%20%22Feature%22%7D%2C%20%7B%22bbox%22%3A%20%5B133.50787799702874%2C%2033.56547696320167%2C%20133.50787799702874%2C%2033.56547696320167%5D%2C%20%22geometry%22%3A%20%7B%22coordinates%22%3A%20%5B133.50787799702874%2C%2033.56547696320167%5D%2C%20%22type%22%3A%20%22Point%22%7D%2C%20%22id%22%3A%20%224122%22%2C%20%22properties%22%3A%20%7B%22%20evacuation%22%3A%201%2C%20%22%20reward%22%3A%201%2C%20%22%23%20number%22%3A%204122%2C%20%22coord_x%22%3A%20361501.99%2C%20%22coord_y%22%3A%203714975.85%7D%2C%20%22type%22%3A%20%22Feature%22%7D%2C%20%7B%22bbox%22%3A%20%5B133.53171342511416%2C%2033.56251541809972%2C%20133.53171342511416%2C%2033.56251541809972%5D%2C%20%22geometry%22%3A%20%7B%22coordinates%22%3A%20%5B133.53171342511416%2C%2033.56251541809972%5D%2C%20%22type%22%3A%20%22Point%22%7D%2C%20%22id%22%3A%20%224207%22%2C%20%22properties%22%3A%20%7B%22%20evacuation%22%3A%201%2C%20%22%20reward%22%3A%201%2C%20%22%23%20number%22%3A%204207%2C%20%22coord_x%22%3A%20363709.92%2C%20%22coord_y%22%3A%203714615.85%7D%2C%20%22type%22%3A%20%22Feature%22%7D%2C%20%7B%22bbox%22%3A%20%5B133.51023481351714%2C%2033.559971235741706%2C%20133.51023481351714%2C%2033.559971235741706%5D%2C%20%22geometry%22%3A%20%7B%22coordinates%22%3A%20%5B133.51023481351714%2C%2033.559971235741706%5D%2C%20%22type%22%3A%20%22Point%22%7D%2C%20%22id%22%3A%20%224225%22%2C%20%22properties%22%3A%20%7B%22%20evacuation%22%3A%201%2C%20%22%20reward%22%3A%201%2C%20%22%23%20number%22%3A%204225%2C%20%22coord_x%22%3A%20361711.99%2C%20%22coord_y%22%3A%203714362.2%7D%2C%20%22type%22%3A%20%22Feature%22%7D%2C%20%7B%22bbox%22%3A%20%5B133.5686079289858%2C%2033.561174402728476%2C%20133.5686079289858%2C%2033.561174402728476%5D%2C%20%22geometry%22%3A%20%7B%22coordinates%22%3A%20%5B133.5686079289858%2C%2033.561174402728476%5D%2C%20%22type%22%3A%20%22Point%22%7D%2C%20%22id%22%3A%20%224235%22%2C%20%22properties%22%3A%20%7B%22%20evacuation%22%3A%201%2C%20%22%20reward%22%3A%201%2C%20%22%23%20number%22%3A%204235%2C%20%22coord_x%22%3A%20367132.79%2C%20%22coord_y%22%3A%203714419.23%7D%2C%20%22type%22%3A%20%22Feature%22%7D%5D%2C%20%22type%22%3A%20%22FeatureCollection%22%7D%29%3B%0A%0A%20%20%20%20%20%20%20%20%0A%20%20%20%20%0A%20%20%20%20geo_json_5d90649b339045d8bf1b08a64fff1112.bindTooltip%28%0A%20%20%20%20function%28layer%29%7B%0A%20%20%20%20let%20div%20%3D%20L.DomUtil.create%28%27div%27%29%3B%0A%20%20%20%20%0A%20%20%20%20let%20handleObject%20%3D%20feature%3D%3Etypeof%28feature%29%3D%3D%27object%27%20%3F%20JSON.stringify%28feature%29%20%3A%20feature%3B%0A%20%20%20%20let%20fields%20%3D%20%5B%22%23%20number%22%2C%20%22coord_x%22%2C%20%22coord_y%22%2C%20%22%20evacuation%22%2C%20%22%20reward%22%5D%3B%0A%20%20%20%20let%20aliases%20%3D%20%5B%22%23%20number%22%2C%20%22coord_x%22%2C%20%22coord_y%22%2C%20%22%20evacuation%22%2C%20%22%20reward%22%5D%3B%0A%20%20%20%20let%20table%20%3D%20%27%3Ctable%3E%27%20%2B%0A%20%20%20%20%20%20%20%20String%28%0A%20%20%20%20%20%20%20%20fields.map%28%0A%20%20%20%20%20%20%20%20%28v%2Ci%29%3D%3E%0A%20%20%20%20%20%20%20%20%60%3Ctr%3E%0A%20%20%20%20%20%20%20%20%20%20%20%20%3Cth%3E%24%7Baliases%5Bi%5D%7D%3C/th%3E%0A%20%20%20%20%20%20%20%20%20%20%20%20%0A%20%20%20%20%20%20%20%20%20%20%20%20%3Ctd%3E%24%7BhandleObject%28layer.feature.properties%5Bv%5D%29%7D%3C/td%3E%0A%20%20%20%20%20%20%20%20%3C/tr%3E%60%29.join%28%27%27%29%29%0A%20%20%20%20%2B%27%3C/table%3E%27%3B%0A%20%20%20%20div.innerHTML%3Dtable%3B%0A%20%20%20%20%0A%20%20%20%20return%20div%0A%20%20%20%20%7D%0A%20%20%20%20%2C%7B%22className%22%3A%20%22foliumtooltip%22%2C%20%22sticky%22%3A%20true%7D%29%3B%0A%20%20%20%20%20%20%20%20%20%20%20%20%20%20%20%20%20%20%20%20%20%0A%3C/script%3E onload=\"this.contentDocument.open();this.contentDocument.write(    decodeURIComponent(this.getAttribute('data-html')));this.contentDocument.close();\" allowfullscreen webkitallowfullscreen mozallowfullscreen></iframe></div></div>"
      ],
      "text/plain": [
       "<folium.folium.Map at 0x1c425dc40>"
      ]
     },
     "execution_count": 15,
     "metadata": {},
     "output_type": "execute_result"
    }
   ],
   "source": [
    "sh_gdf.explore()"
   ]
  },
  {
   "cell_type": "code",
   "execution_count": null,
   "metadata": {},
   "outputs": [],
   "source": []
  }
 ],
 "metadata": {
  "interpreter": {
   "hash": "bda0322e35ecb825f0fb74b7e10c8909e10cf4f0acf6e958794327151495e59a"
  },
  "kernelspec": {
   "display_name": "tsuevac_env",
   "language": "python",
   "name": "tsuevac_env"
  },
  "language_info": {
   "codemirror_mode": {
    "name": "ipython",
    "version": 3
   },
   "file_extension": ".py",
   "mimetype": "text/x-python",
   "name": "python",
   "nbconvert_exporter": "python",
   "pygments_lexer": "ipython3",
   "version": "3.9.12"
  }
 },
 "nbformat": 4,
 "nbformat_minor": 2
}
